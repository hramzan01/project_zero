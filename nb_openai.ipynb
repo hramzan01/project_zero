{
 "cells": [
  {
   "cell_type": "markdown",
   "id": "53360eb8-154c-44f5-b432-f02eff671a8b",
   "metadata": {},
   "source": [
    "# Testing ChatGPT vs PandasAI 🐼"
   ]
  },
  {
   "cell_type": "code",
   "execution_count": 13,
   "id": "4ef9a0bb-8453-4a3f-94e3-51a7cf1dfe03",
   "metadata": {
    "tags": []
   },
   "outputs": [],
   "source": [
    "import os\n",
    "import openai\n",
    "import pandas as pd\n",
    "import matplotlib\n",
    "import plotly.express as px\n",
    "openai.api_key = os.getenv(\"OPENAI_API_KEY\")"
   ]
  },
  {
   "cell_type": "code",
   "execution_count": 23,
   "id": "84be2f4c-16c8-492c-99d6-0a76e8aefa12",
   "metadata": {
    "tags": []
   },
   "outputs": [],
   "source": [
    "df = pd.read_csv('data_city_ksa.csv')"
   ]
  },
  {
   "cell_type": "code",
   "execution_count": 27,
   "id": "15c28078-cc03-4202-99f5-d5acff9c412a",
   "metadata": {
    "tags": []
   },
   "outputs": [
    {
     "name": "stdout",
     "output_type": "stream",
     "text": [
      "Certainly! To analyze the scheme based on the data inside {df}, we can aggregate and interpret the information to gain insights into the city design. Let's explore the key aspects of the scheme:\n",
      "\n",
      "1. Land Use: We can analyze the distribution of land use within the city. This includes understanding the areas designated for residential, commercial, industrial, recreational, and public infrastructure purposes. By assessing this data, we can ensure a balanced and efficient use of land.\n",
      "\n",
      "2. Density: Examining population density and building density is essential for an effective scheme. It helps determine the optimal distribution of buildings, infrastructure, and public spaces to accommodate the needs of residents and businesses while maintaining a comfortable living environment.\n",
      "\n",
      "3. Transportation: Analyzing transportation data is essential for designing a well-connected and efficient city. By reviewing data on road networks, public transportation utilization, and travel patterns, we can create a scheme that prioritizes accessibility, minimizes congestion, and encourages sustainable modes of transportation.\n",
      "\n",
      "4. Infrastructure: Assessing the distribution and quality of existing infrastructure, such as utilities, sewage systems, and public amenities, helps identify areas that require improvement or new developments. This evaluation ensures that the city's digital, energy, water, waste management, and social infrastructure meet the needs of its residents.\n",
      "\n",
      "5. Community Facilities: The data can provide insights into the availability and accessibility of community facilities, such as schools, healthcare centers, parks, and recreational areas. By analyzing this data, we can ensure that these essential facilities are strategically located to serve the community effectively.\n",
      "\n",
      "6. Sustainability: Analyzing environmental and energy data enables us to design a sustainable city. This involves considering factors such as green spaces, renewable energy sources, waste management systems, and strategies to mitigate the environmental impact of the built environment.\n",
      "\n",
      "7. Future Growth: By evaluating population projections and economic data, we can design a scheme that accommodates future growth and evolution. This might involve considering suitable areas for expansion, supporting infrastructure requirements, and planning for potential shifts in land use and demographics.\n",
      "\n",
      "By studying and interpreting the data within {df}, we can create a scheme that reflects the unique needs, aspirations, and constraints of the city, while ensuring functionality, efficiency, sustainability, and an enhanced quality of life for its residents.\n"
     ]
    }
   ],
   "source": [
    "data_chat('can you tell me a bit about the scheme based on the data inside {df}?')"
   ]
  }
 ],
 "metadata": {
  "kernelspec": {
   "display_name": "Python 3 (ipykernel)",
   "language": "python",
   "name": "python3"
  },
  "language_info": {
   "codemirror_mode": {
    "name": "ipython",
    "version": 3
   },
   "file_extension": ".py",
   "mimetype": "text/x-python",
   "name": "python",
   "nbconvert_exporter": "python",
   "pygments_lexer": "ipython3",
   "version": "3.11.5"
  }
 },
 "nbformat": 4,
 "nbformat_minor": 5
}
