{
 "cells": [
  {
   "cell_type": "markdown",
   "metadata": {},
   "source": [
    "# **Utilities DF**"
   ]
  },
  {
   "cell_type": "markdown",
   "metadata": {},
   "source": [
    "## Expected Features"
   ]
  },
  {
   "cell_type": "markdown",
   "metadata": {},
   "source": [
    "| features name | type  | description  |\n",
    "|----\t|---\t|---\n",
    "| `PrimaryPropertyType` | str | example description of the feature\n",
    "| `PropertyGFABuilding(s)` | float | example description of the feature\n",
    "| `YearBuilt` | datetime | example description of the feature\n",
    "| `Occupancy` | float | example description of the feature\n",
    "| `Number of Buildings` | int | example description of the feature\n",
    "| `Electricity(kWh)` | float | example description of the feature\n",
    "\n",
    "the dataframe returns a training data set based on nyc building typologies, to allow us to predict power and water demmand for various buildings"
   ]
  },
  {
   "cell_type": "code",
   "execution_count": 33,
   "metadata": {},
   "outputs": [
    {
     "name": "stdout",
     "output_type": "stream",
     "text": [
      "The autoreload extension is already loaded. To reload it, use:\n",
      "  %reload_ext autoreload\n"
     ]
    }
   ],
   "source": [
    "%load_ext autoreload\n",
    "%autoreload 2"
   ]
  },
  {
   "cell_type": "markdown",
   "metadata": {},
   "source": []
  },
  {
   "cell_type": "code",
   "execution_count": 45,
   "metadata": {},
   "outputs": [],
   "source": [
    "# import modules\n",
    "import pandas as pd\n",
    "import numpy as np\n",
    "import seaborn as sns\n",
    "import matplotlib.pyplot as plot\n",
    "\n",
    "pd.options.display.float_format = '{:.2f}'.format"
   ]
  },
  {
   "cell_type": "code",
   "execution_count": 35,
   "metadata": {},
   "outputs": [],
   "source": [
    "from etl.extract import ProjectZero"
   ]
  },
  {
   "cell_type": "code",
   "execution_count": 36,
   "metadata": {},
   "outputs": [],
   "source": [
    "# import projectzero data\n",
    "from etl.extract import ProjectZero\n",
    "data = ProjectZero().get_data()\n",
    "\n",
    "# view keys\n",
    "data.keys()\n",
    "\n",
    "# df_model instance\n",
    "df = data['ext_nyc']"
   ]
  },
  {
   "cell_type": "code",
   "execution_count": 37,
   "metadata": {},
   "outputs": [
    {
     "data": {
      "text/html": [
       "<div>\n",
       "<style scoped>\n",
       "    .dataframe tbody tr th:only-of-type {\n",
       "        vertical-align: middle;\n",
       "    }\n",
       "\n",
       "    .dataframe tbody tr th {\n",
       "        vertical-align: top;\n",
       "    }\n",
       "\n",
       "    .dataframe thead th {\n",
       "        text-align: right;\n",
       "    }\n",
       "</style>\n",
       "<table border=\"1\" class=\"dataframe\">\n",
       "  <thead>\n",
       "    <tr style=\"text-align: right;\">\n",
       "      <th></th>\n",
       "      <th>Unnamed: 0</th>\n",
       "      <th>Order</th>\n",
       "      <th>Property Id</th>\n",
       "      <th>Property Name</th>\n",
       "      <th>Parent Property Id</th>\n",
       "      <th>Parent Property Name</th>\n",
       "      <th>BBL - 10 digits</th>\n",
       "      <th>NYC Borough, Block and Lot (BBL) self-reported</th>\n",
       "      <th>NYC Building Identification Number (BIN)</th>\n",
       "      <th>Address 1 (self-reported)</th>\n",
       "      <th>...</th>\n",
       "      <th>Annual Maximum Demand (kW)</th>\n",
       "      <th>Annual Maximum Demand (MM/YYYY)</th>\n",
       "      <th>Total GHG Emissions (Metric Tons CO2e)</th>\n",
       "      <th>Direct GHG Emissions (Metric Tons CO2e)</th>\n",
       "      <th>Indirect GHG Emissions (Metric Tons CO2e)</th>\n",
       "      <th>Water Use (All Water Sources) (kgal)</th>\n",
       "      <th>Water Use Intensity (All Water Sources) (gal/ft²)</th>\n",
       "      <th>Water Required?</th>\n",
       "      <th>Generation Date</th>\n",
       "      <th>DOF Benchmarking Submission Status</th>\n",
       "    </tr>\n",
       "  </thead>\n",
       "  <tbody>\n",
       "    <tr>\n",
       "      <th>0</th>\n",
       "      <td>0</td>\n",
       "      <td>1</td>\n",
       "      <td>4593574</td>\n",
       "      <td>The Argonaut Building</td>\n",
       "      <td>NaN</td>\n",
       "      <td>NaN</td>\n",
       "      <td>1.010288e+09</td>\n",
       "      <td>1010287502</td>\n",
       "      <td>1024898</td>\n",
       "      <td>224 West 57th St</td>\n",
       "      <td>...</td>\n",
       "      <td>NaN</td>\n",
       "      <td>NaN</td>\n",
       "      <td>732.4</td>\n",
       "      <td>76.3</td>\n",
       "      <td>656.1</td>\n",
       "      <td>3635.5</td>\n",
       "      <td>21.46</td>\n",
       "      <td>Not found</td>\n",
       "      <td>2018-02-14</td>\n",
       "      <td>Not found</td>\n",
       "    </tr>\n",
       "    <tr>\n",
       "      <th>1</th>\n",
       "      <td>1</td>\n",
       "      <td>3</td>\n",
       "      <td>2967701</td>\n",
       "      <td>Cathedral Preparatory Seminary</td>\n",
       "      <td>NaN</td>\n",
       "      <td>NaN</td>\n",
       "      <td>4.018720e+09</td>\n",
       "      <td>4-01872-0007</td>\n",
       "      <td>4046340</td>\n",
       "      <td>56-25 92nd Street</td>\n",
       "      <td>...</td>\n",
       "      <td>NaN</td>\n",
       "      <td>NaN</td>\n",
       "      <td>164.5</td>\n",
       "      <td>109.9</td>\n",
       "      <td>54.6</td>\n",
       "      <td>102.9</td>\n",
       "      <td>1.09</td>\n",
       "      <td>Not found</td>\n",
       "      <td>2018-02-14</td>\n",
       "      <td>Not found</td>\n",
       "    </tr>\n",
       "    <tr>\n",
       "      <th>2</th>\n",
       "      <td>2</td>\n",
       "      <td>4</td>\n",
       "      <td>4898531</td>\n",
       "      <td>The Nomad Hotel</td>\n",
       "      <td>NaN</td>\n",
       "      <td>NaN</td>\n",
       "      <td>1.008290e+09</td>\n",
       "      <td>1-00829-0050</td>\n",
       "      <td>1080710</td>\n",
       "      <td>1170 Broadway</td>\n",
       "      <td>...</td>\n",
       "      <td>NaN</td>\n",
       "      <td>NaN</td>\n",
       "      <td>1150.2</td>\n",
       "      <td>438.0</td>\n",
       "      <td>712.3</td>\n",
       "      <td>10762.6</td>\n",
       "      <td>86.10</td>\n",
       "      <td>Not found</td>\n",
       "      <td>2018-02-14</td>\n",
       "      <td>Not found</td>\n",
       "    </tr>\n",
       "  </tbody>\n",
       "</table>\n",
       "<p>3 rows × 61 columns</p>\n",
       "</div>"
      ],
      "text/plain": [
       "   Unnamed: 0  Order  Property Id                   Property Name  \\\n",
       "0           0      1      4593574           The Argonaut Building   \n",
       "1           1      3      2967701  Cathedral Preparatory Seminary   \n",
       "2           2      4      4898531                 The Nomad Hotel   \n",
       "\n",
       "  Parent Property Id Parent Property Name  BBL - 10 digits  \\\n",
       "0                NaN                  NaN     1.010288e+09   \n",
       "1                NaN                  NaN     4.018720e+09   \n",
       "2                NaN                  NaN     1.008290e+09   \n",
       "\n",
       "  NYC Borough, Block and Lot (BBL) self-reported  \\\n",
       "0                                     1010287502   \n",
       "1                                   4-01872-0007   \n",
       "2                                   1-00829-0050   \n",
       "\n",
       "  NYC Building Identification Number (BIN) Address 1 (self-reported)  ...  \\\n",
       "0                                  1024898          224 West 57th St  ...   \n",
       "1                                  4046340         56-25 92nd Street  ...   \n",
       "2                                  1080710             1170 Broadway  ...   \n",
       "\n",
       "  Annual Maximum Demand (kW) Annual Maximum Demand (MM/YYYY)  \\\n",
       "0                        NaN                             NaN   \n",
       "1                        NaN                             NaN   \n",
       "2                        NaN                             NaN   \n",
       "\n",
       "  Total GHG Emissions (Metric Tons CO2e)  \\\n",
       "0                                  732.4   \n",
       "1                                  164.5   \n",
       "2                                 1150.2   \n",
       "\n",
       "  Direct GHG Emissions (Metric Tons CO2e)  \\\n",
       "0                                    76.3   \n",
       "1                                   109.9   \n",
       "2                                   438.0   \n",
       "\n",
       "  Indirect GHG Emissions (Metric Tons CO2e)  \\\n",
       "0                                     656.1   \n",
       "1                                      54.6   \n",
       "2                                     712.3   \n",
       "\n",
       "  Water Use (All Water Sources) (kgal)  \\\n",
       "0                               3635.5   \n",
       "1                                102.9   \n",
       "2                              10762.6   \n",
       "\n",
       "   Water Use Intensity (All Water Sources) (gal/ft²) Water Required?  \\\n",
       "0                                              21.46       Not found   \n",
       "1                                               1.09       Not found   \n",
       "2                                              86.10       Not found   \n",
       "\n",
       "  Generation Date DOF Benchmarking Submission Status  \n",
       "0      2018-02-14                          Not found  \n",
       "1      2018-02-14                          Not found  \n",
       "2      2018-02-14                          Not found  \n",
       "\n",
       "[3 rows x 61 columns]"
      ]
     },
     "execution_count": 37,
     "metadata": {},
     "output_type": "execute_result"
    }
   ],
   "source": [
    "df.head(3)"
   ]
  },
  {
   "cell_type": "code",
   "execution_count": 46,
   "metadata": {},
   "outputs": [
    {
     "data": {
      "text/html": [
       "<div>\n",
       "<style scoped>\n",
       "    .dataframe tbody tr th:only-of-type {\n",
       "        vertical-align: middle;\n",
       "    }\n",
       "\n",
       "    .dataframe tbody tr th {\n",
       "        vertical-align: top;\n",
       "    }\n",
       "\n",
       "    .dataframe thead th {\n",
       "        text-align: right;\n",
       "    }\n",
       "</style>\n",
       "<table border=\"1\" class=\"dataframe\">\n",
       "  <thead>\n",
       "    <tr style=\"text-align: right;\">\n",
       "      <th></th>\n",
       "      <th>Self-Reported Gross Floor Area (ft²)</th>\n",
       "      <th>Year Built</th>\n",
       "      <th>Occupancy</th>\n",
       "      <th>Number of Buildings</th>\n",
       "      <th>Electricity Use - Grid Purchase (kWh)</th>\n",
       "    </tr>\n",
       "  </thead>\n",
       "  <tbody>\n",
       "    <tr>\n",
       "      <th>count</th>\n",
       "      <td>24143.00</td>\n",
       "      <td>24143.00</td>\n",
       "      <td>24143.00</td>\n",
       "      <td>24143.00</td>\n",
       "      <td>22382.00</td>\n",
       "    </tr>\n",
       "    <tr>\n",
       "      <th>mean</th>\n",
       "      <td>122451.01</td>\n",
       "      <td>1947.21</td>\n",
       "      <td>98.43</td>\n",
       "      <td>1.21</td>\n",
       "      <td>1227885.34</td>\n",
       "    </tr>\n",
       "    <tr>\n",
       "      <th>std</th>\n",
       "      <td>234898.49</td>\n",
       "      <td>32.82</td>\n",
       "      <td>8.54</td>\n",
       "      <td>3.09</td>\n",
       "      <td>3813108.46</td>\n",
       "    </tr>\n",
       "    <tr>\n",
       "      <th>min</th>\n",
       "      <td>0.00</td>\n",
       "      <td>1051.00</td>\n",
       "      <td>0.00</td>\n",
       "      <td>0.00</td>\n",
       "      <td>-1859.10</td>\n",
       "    </tr>\n",
       "    <tr>\n",
       "      <th>25%</th>\n",
       "      <td>43260.00</td>\n",
       "      <td>1925.00</td>\n",
       "      <td>100.00</td>\n",
       "      <td>1.00</td>\n",
       "      <td>215600.00</td>\n",
       "    </tr>\n",
       "    <tr>\n",
       "      <th>50%</th>\n",
       "      <td>68316.00</td>\n",
       "      <td>1937.00</td>\n",
       "      <td>100.00</td>\n",
       "      <td>1.00</td>\n",
       "      <td>397206.80</td>\n",
       "    </tr>\n",
       "    <tr>\n",
       "      <th>75%</th>\n",
       "      <td>120000.00</td>\n",
       "      <td>1967.00</td>\n",
       "      <td>100.00</td>\n",
       "      <td>1.00</td>\n",
       "      <td>916557.80</td>\n",
       "    </tr>\n",
       "    <tr>\n",
       "      <th>max</th>\n",
       "      <td>15077660.00</td>\n",
       "      <td>2021.00</td>\n",
       "      <td>100.00</td>\n",
       "      <td>161.00</td>\n",
       "      <td>168312811.40</td>\n",
       "    </tr>\n",
       "  </tbody>\n",
       "</table>\n",
       "</div>"
      ],
      "text/plain": [
       "       Self-Reported Gross Floor Area (ft²)  Year Built  Occupancy  \\\n",
       "count                              24143.00    24143.00   24143.00   \n",
       "mean                              122451.01     1947.21      98.43   \n",
       "std                               234898.49       32.82       8.54   \n",
       "min                                    0.00     1051.00       0.00   \n",
       "25%                                43260.00     1925.00     100.00   \n",
       "50%                                68316.00     1937.00     100.00   \n",
       "75%                               120000.00     1967.00     100.00   \n",
       "max                             15077660.00     2021.00     100.00   \n",
       "\n",
       "       Number of Buildings  Electricity Use - Grid Purchase (kWh)  \n",
       "count             24143.00                               22382.00  \n",
       "mean                  1.21                             1227885.34  \n",
       "std                   3.09                             3813108.46  \n",
       "min                   0.00                               -1859.10  \n",
       "25%                   1.00                              215600.00  \n",
       "50%                   1.00                              397206.80  \n",
       "75%                   1.00                              916557.80  \n",
       "max                 161.00                           168312811.40  "
      ]
     },
     "execution_count": 46,
     "metadata": {},
     "output_type": "execute_result"
    }
   ],
   "source": [
    "df.describe()"
   ]
  },
  {
   "cell_type": "code",
   "execution_count": null,
   "metadata": {},
   "outputs": [],
   "source": []
  },
  {
   "cell_type": "markdown",
   "metadata": {},
   "source": [
    "## 1. `get_training_data`"
   ]
  },
  {
   "cell_type": "markdown",
   "metadata": {},
   "source": [
    "this method should return a dataframe that has the following features:\\\n",
    "`building`, `area`, `asset`, `electricity_demmand`"
   ]
  },
  {
   "cell_type": "code",
   "execution_count": 39,
   "metadata": {},
   "outputs": [
    {
     "data": {
      "text/plain": [
       "24143"
      ]
     },
     "execution_count": 39,
     "metadata": {},
     "output_type": "execute_result"
    }
   ],
   "source": [
    "# Consider important features that can get from design model\n",
    "features = [\n",
    "    'Primary Property Type - Self Selected',\n",
    "    'Self-Reported Gross Floor Area (ft²)',\n",
    "    'Year Built',\n",
    "    'Occupancy',\n",
    "    'Number of Buildings',\n",
    "    'Electricity Use - Grid Purchase (kWh)'\n",
    "]\n",
    "\n",
    "df = df[features]\n",
    "\n",
    "# rename nyc columns to match seattle\n",
    "df_renamed = df.rename(columns={\n",
    "    'Primary Property Type - Self Selected': 'building_typology' ,\n",
    "    'Self-Reported Gross Floor Area (ft²)': 'building_gfa',\n",
    "    'Year Built': 'year_built',\n",
    "    'Occupancy': 'occupancy',\n",
    "    'Number of Buildings': 'num_buildings',\n",
    "    'Electricity Use - Grid Purchase (kWh)': 'electricity_demmand'\n",
    "})\n",
    "\n",
    "# drop duplicates\n",
    "len(df)\n",
    "df.duplicated().sum()\n",
    "df.drop_duplicates(inplace=True)\n",
    "len(df)\n",
    "\n",
    "# "
   ]
  },
  {
   "cell_type": "markdown",
   "metadata": {},
   "source": [
    "## 2. `get_water_demmand`"
   ]
  },
  {
   "cell_type": "markdown",
   "metadata": {},
   "source": [
    "this method should return a dataframe that has the following features:\\\n",
    "`building`, `area`, `asset`, `potable_water_demmand`"
   ]
  },
  {
   "cell_type": "code",
   "execution_count": null,
   "metadata": {},
   "outputs": [],
   "source": []
  }
 ],
 "metadata": {
  "kernelspec": {
   "display_name": "lewagon",
   "language": "python",
   "name": "python3"
  },
  "language_info": {
   "codemirror_mode": {
    "name": "ipython",
    "version": 3
   },
   "file_extension": ".py",
   "mimetype": "text/x-python",
   "name": "python",
   "nbconvert_exporter": "python",
   "pygments_lexer": "ipython3",
   "version": "3.11.5"
  }
 },
 "nbformat": 4,
 "nbformat_minor": 2
}
