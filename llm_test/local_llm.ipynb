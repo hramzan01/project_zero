{
 "cells": [
  {
   "cell_type": "code",
   "execution_count": 2,
   "metadata": {},
   "outputs": [],
   "source": [
    "import requests"
   ]
  },
  {
   "cell_type": "code",
   "execution_count": 35,
   "metadata": {},
   "outputs": [
    {
     "name": "stdout",
     "output_type": "stream",
     "text": [
      "The sky appears blue because of a phenomenon called Rayleigh scattering, which is named after the British physicist Lord Rayleigh. He discovered that when sunlight enters Earth's atmosphere, it encounters tiny molecules of gases such as nitrogen (N2) and oxygen (O2). These molecules scatter the light in all directions, but they scatter shorter wavelengths (like blue and violet) more than longer wavelengths (like red and orange).\n",
      "\n",
      "Here's why this scattering happens:\n",
      "\n",
      "1. **Sunlight**: The sun emits a wide range of electromagnetic radiation, including visible light.\n",
      "2. **Atmospheric gases**: Nitrogen and oxygen molecules in the atmosphere are much smaller than the wavelength of light.\n",
      "3. **Scattering**: When sunlight hits these tiny gas molecules, they scatter the shorter wavelengths (like blue) more effectively than the longer wavelengths (like red). This is because the smaller molecules can't \"grab\" onto the longer wavelengths as easily.\n",
      "\n",
      "As a result of this scattering:\n",
      "\n",
      "1. **Blue light dominates**: The blue light that's scattered in all directions reaches our eyes from all parts of the sky, making it appear blue.\n",
      "2. **Red light prevails**: The longer wavelengths (like red and orange) continue to travel in straight lines, reaching our eyes only when they're directly overhead or at a very shallow angle.\n",
      "\n",
      "The color we see is the result of the combined effect of scattering and absorption by atmospheric gases. On a clear day, the blue color dominates because more blue light is scattered towards us from all directions. When there are particles or water vapor in the air (e.g., during sunset), they absorb some of the shorter wavelengths, making the sky appear more red.\n",
      "\n",
      "Now, isn't that a beautiful explanation for why the sky is blue?\n"
     ]
    }
   ],
   "source": [
    "import requests\n",
    "\n",
    "url = \"http://localhost:11434/api/generate\"\n",
    "data = {\n",
    "    \"model\": \"llama3\",\n",
    "    \"prompt\": \"can you tell me how to send you files that you can review and give me feedback on?\",\n",
    "    \"stream\": False\n",
    "}\n",
    "\n",
    "# change streaming response to acccess the response in chunks\n",
    "response = requests.post(url, json=data).json()\n",
    "print(response['response'])\n"
   ]
  }
 ],
 "metadata": {
  "kernelspec": {
   "display_name": "project_zero",
   "language": "python",
   "name": "python3"
  },
  "language_info": {
   "codemirror_mode": {
    "name": "ipython",
    "version": 3
   },
   "file_extension": ".py",
   "mimetype": "text/x-python",
   "name": "python",
   "nbconvert_exporter": "python",
   "pygments_lexer": "ipython3",
   "version": "3.10.6"
  }
 },
 "nbformat": 4,
 "nbformat_minor": 2
}
