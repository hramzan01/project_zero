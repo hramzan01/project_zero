{
 "cells": [
  {
   "cell_type": "markdown",
   "id": "3e9dbbd1-2ad2-4ddc-ba03-5fe180c1552f",
   "metadata": {},
   "source": [
    "# Generating the EC coefficient"
   ]
  },
  {
   "cell_type": "markdown",
   "metadata": {},
   "source": [
    "1. Import datasets using **ProjectZero modules**\n",
    "2. Create all possible **combinations** or define options\n",
    "3. Caluclate the embodied carbon /m2 for each option\n",
    "4. Merge combinations data with corresponding **model data**\n"
   ]
  },
  {
   "cell_type": "code",
   "execution_count": 138,
   "id": "0fdfe924-a927-48cf-b76e-3439e4e4f35c",
   "metadata": {
    "tags": []
   },
   "outputs": [
    {
     "name": "stdout",
     "output_type": "stream",
     "text": [
      "The autoreload extension is already loaded. To reload it, use:\n",
      "  %reload_ext autoreload\n"
     ]
    }
   ],
   "source": [
    "import pandas as pd\n",
    "import ydata_profiling\n",
    "import numpy as np\n",
    "import random\n",
    "from scripts.data import ProjectZero as pz\n",
    "\n",
    "%load_ext autoreload\n",
    "%autoreload 2"
   ]
  },
  {
   "cell_type": "markdown",
   "metadata": {},
   "source": [
    "---"
   ]
  },
  {
   "cell_type": "markdown",
   "metadata": {},
   "source": [
    "# Creating A Dictionary"
   ]
  },
  {
   "cell_type": "markdown",
   "metadata": {},
   "source": [
    "### 1. Importing Datasets: One touch templates, Model data, "
   ]
  },
  {
   "cell_type": "code",
   "execution_count": 175,
   "id": "ebdc93ff-d390-496e-97ae-6077b0c4ffae",
   "metadata": {
    "tags": []
   },
   "outputs": [],
   "source": [
    "data = pz().get_data().copy()\n",
    "\n",
    "df_model = data['hz_model'].drop(columns=['ID','Colour'])\n",
    "df_options = data['sus_options']"
   ]
  },
  {
   "cell_type": "code",
   "execution_count": null,
   "metadata": {},
   "outputs": [],
   "source": []
  },
  {
   "cell_type": "markdown",
   "metadata": {},
   "source": [
    "### 2 .Defining the Options"
   ]
  },
  {
   "cell_type": "markdown",
   "metadata": {},
   "source": [
    "**Define option 01** "
   ]
  },
  {
   "cell_type": "code",
   "execution_count": 122,
   "metadata": {},
   "outputs": [
    {
     "data": {
      "text/html": [
       "<div>\n",
       "<style scoped>\n",
       "    .dataframe tbody tr th:only-of-type {\n",
       "        vertical-align: middle;\n",
       "    }\n",
       "\n",
       "    .dataframe tbody tr th {\n",
       "        vertical-align: top;\n",
       "    }\n",
       "\n",
       "    .dataframe thead th {\n",
       "        text-align: right;\n",
       "    }\n",
       "</style>\n",
       "<table border=\"1\" class=\"dataframe\">\n",
       "  <thead>\n",
       "    <tr style=\"text-align: right;\">\n",
       "      <th></th>\n",
       "      <th>building_type</th>\n",
       "      <th>building_use</th>\n",
       "      <th>basement_count</th>\n",
       "      <th>building_height</th>\n",
       "      <th>building_width</th>\n",
       "      <th>building_depth</th>\n",
       "      <th>element_type</th>\n",
       "      <th>building_element</th>\n",
       "      <th>value</th>\n",
       "      <th>unit</th>\n",
       "    </tr>\n",
       "  </thead>\n",
       "  <tbody>\n",
       "    <tr>\n",
       "      <th>0</th>\n",
       "      <td>1</td>\n",
       "      <td>Office</td>\n",
       "      <td>0</td>\n",
       "      <td>25</td>\n",
       "      <td>20</td>\n",
       "      <td>20</td>\n",
       "      <td>Foundation</td>\n",
       "      <td>Footing foundations for hard soils (sand, grav...</td>\n",
       "      <td>9.0</td>\n",
       "      <td>KgCO2e/m2</td>\n",
       "    </tr>\n",
       "    <tr>\n",
       "      <th>1</th>\n",
       "      <td>1</td>\n",
       "      <td>Office</td>\n",
       "      <td>0</td>\n",
       "      <td>25</td>\n",
       "      <td>20</td>\n",
       "      <td>20</td>\n",
       "      <td>Foundation</td>\n",
       "      <td>Steel core piling foundation for soft soils (15m)</td>\n",
       "      <td>44.0</td>\n",
       "      <td>KgCO2e/m2</td>\n",
       "    </tr>\n",
       "    <tr>\n",
       "      <th>2</th>\n",
       "      <td>1</td>\n",
       "      <td>Office</td>\n",
       "      <td>0</td>\n",
       "      <td>25</td>\n",
       "      <td>20</td>\n",
       "      <td>20</td>\n",
       "      <td>Foundation</td>\n",
       "      <td>Rammed concrete piling foundation for hard soi...</td>\n",
       "      <td>12.0</td>\n",
       "      <td>KgCO2e/m2</td>\n",
       "    </tr>\n",
       "    <tr>\n",
       "      <th>3</th>\n",
       "      <td>1</td>\n",
       "      <td>Office</td>\n",
       "      <td>0</td>\n",
       "      <td>25</td>\n",
       "      <td>20</td>\n",
       "      <td>20</td>\n",
       "      <td>Ground slab</td>\n",
       "      <td>Concrete ground slab assembly incl. insulation</td>\n",
       "      <td>22.0</td>\n",
       "      <td>KgCO2e/m2</td>\n",
       "    </tr>\n",
       "    <tr>\n",
       "      <th>4</th>\n",
       "      <td>1</td>\n",
       "      <td>Office</td>\n",
       "      <td>0</td>\n",
       "      <td>25</td>\n",
       "      <td>20</td>\n",
       "      <td>20</td>\n",
       "      <td>Floor Slab</td>\n",
       "      <td>In-situ concrete slab assembly</td>\n",
       "      <td>82.0</td>\n",
       "      <td>KgCO2e/m2</td>\n",
       "    </tr>\n",
       "  </tbody>\n",
       "</table>\n",
       "</div>"
      ],
      "text/plain": [
       "   building_type building_use  basement_count  building_height  \\\n",
       "0              1       Office               0               25   \n",
       "1              1       Office               0               25   \n",
       "2              1       Office               0               25   \n",
       "3              1       Office               0               25   \n",
       "4              1       Office               0               25   \n",
       "\n",
       "   building_width  building_depth element_type  \\\n",
       "0              20              20   Foundation   \n",
       "1              20              20   Foundation   \n",
       "2              20              20   Foundation   \n",
       "3              20              20  Ground slab   \n",
       "4              20              20   Floor Slab   \n",
       "\n",
       "                                    building_element  value       unit  \n",
       "0  Footing foundations for hard soils (sand, grav...    9.0  KgCO2e/m2  \n",
       "1  Steel core piling foundation for soft soils (15m)   44.0  KgCO2e/m2  \n",
       "2  Rammed concrete piling foundation for hard soi...   12.0  KgCO2e/m2  \n",
       "3     Concrete ground slab assembly incl. insulation   22.0  KgCO2e/m2  \n",
       "4                     In-situ concrete slab assembly   82.0  KgCO2e/m2  "
      ]
     },
     "execution_count": 122,
     "metadata": {},
     "output_type": "execute_result"
    }
   ],
   "source": [
    "option_1 = df_options[df_options.building_type == 1]\n",
    "option_1.head()"
   ]
  },
  {
   "cell_type": "markdown",
   "metadata": {},
   "source": [
    "**Define config 01**"
   ]
  },
  {
   "cell_type": "code",
   "execution_count": 106,
   "metadata": {},
   "outputs": [],
   "source": [
    "key_names = list(option_1['element_type'].unique())\n",
    "building_elements = [list(option_1['building_element'][option_1.element_type ==  key]) for key in key_names]"
   ]
  },
  {
   "cell_type": "markdown",
   "metadata": {},
   "source": [
    "**Make dictionary of types {element_type: [building elements] }**"
   ]
  },
  {
   "cell_type": "code",
   "execution_count": 128,
   "metadata": {},
   "outputs": [
    {
     "name": "stdout",
     "output_type": "stream",
     "text": [
      "{'Foundation': ['Footing foundations for hard soils (sand, gravel, silt or clay) per GFA, Includes: point and strip footings', 'Steel core piling foundation for soft soils (15m)', 'Rammed concrete piling foundation for hard soils (15m)'], 'Ground slab': ['Concrete ground slab assembly incl. insulation'], 'Floor Slab': ['In-situ concrete slab assembly', 'Concrete cast-in-situ floor slab assembly (150mm)', 'Metal-concrete composite decking (150mm)', 'Hollow-core slab floor assembly, incl. mineral wool acoustic slabs', 'CLT floor slab assembly (200mm)'], 'Columns': ['Reinforced wall, for concrete building', 'Precast concrete column', 'In-situ concrete column', 'Timber column - for timber frame buildings', 'Steel column'], 'Shear Wall': ['Reinforced concrete shear wall'], 'Beams': ['Precast concrete beam', 'In-situ concrete beam', 'Timber beam - for timber frame buildings', 'Steel beam'], 'Stairs': ['Concrete assembly for stairs and elevator shafts per one metre height', 'CLT assembly for stairs and elevator shaft'], 'External Walls': ['Timber frame external wall assembly, incl. mineral wool insulation, U-value 0.18 W/m2K, 320 mm', 'Timber Frame Cavity Wall & Service Void, U-value 0.22, (Part L 2016)', 'Steel sandwich element external wall assembly, incl. mineral wool insulation, U-value 0.18 W/m2K, 200 mm']}\n"
     ]
    }
   ],
   "source": [
    "element_collection = {}\n",
    "\n",
    "for key,element in zip(key_names, building_elements):\n",
    "    element_collection[key] = element\n",
    "\n",
    "print(element_collection)"
   ]
  },
  {
   "cell_type": "markdown",
   "metadata": {},
   "source": [
    "### 3. Selecting random configuration from collection "
   ]
  },
  {
   "cell_type": "code",
   "execution_count": 120,
   "metadata": {},
   "outputs": [
    {
     "data": {
      "text/plain": [
       "'Beams'"
      ]
     },
     "execution_count": 120,
     "metadata": {},
     "output_type": "execute_result"
    }
   ],
   "source": [
    "element_collection.keys()\n",
    "selector = random.randint(0,len(key_names)-1)\n",
    "\n",
    "list(element_collection.keys())[selector]"
   ]
  },
  {
   "cell_type": "markdown",
   "metadata": {},
   "source": [
    "### 4. Adding interactive Selection"
   ]
  },
  {
   "cell_type": "code",
   "execution_count": 137,
   "metadata": {},
   "outputs": [
    {
     "data": {
      "application/vnd.jupyter.widget-view+json": {
       "model_id": "2e478dd685ff4372a513d1452086becd",
       "version_major": 2,
       "version_minor": 0
      },
      "text/plain": [
       "Dropdown(description='Select element type:', options=('Foundation', 'Ground slab', 'Floor Slab', 'Columns', 'S…"
      ]
     },
     "metadata": {},
     "output_type": "display_data"
    },
    {
     "data": {
      "application/vnd.jupyter.widget-view+json": {
       "model_id": "ae1a48eabe6d4995b4223eceb8006793",
       "version_major": 2,
       "version_minor": 0
      },
      "text/plain": [
       "Dropdown(description='Select building element:', options=('Footing foundations for hard soils (sand, gravel, s…"
      ]
     },
     "metadata": {},
     "output_type": "display_data"
    },
    {
     "name": "stdout",
     "output_type": "stream",
     "text": [
      "Selected option: Reinforced concrete shear wall\n",
      "Selected option: Concrete assembly for stairs and elevator shafts per one metre height\n",
      "Selected option: CLT assembly for stairs and elevator shaft\n"
     ]
    }
   ],
   "source": [
    "import ipywidgets as widgets\n",
    "from IPython.display import display\n",
    "\n",
    "# Create the first dropdown for selecting keys\n",
    "dropdown_keys = widgets.Dropdown(\n",
    "    options=list(element_collection.keys()),\n",
    "    value=list(element_collection.keys())[0],\n",
    "    description='Select element type:'\n",
    ")\n",
    "\n",
    "# Create the second dropdown for selecting options from the chosen key\n",
    "dropdown_options = widgets.Dropdown(\n",
    "    options=element_collection[dropdown_keys.value],\n",
    "    value=element_collection[dropdown_keys.value][0],\n",
    "    description='Select building element:'\n",
    ")\n",
    "\n",
    "# Display the dropdowns\n",
    "display(dropdown_keys, dropdown_options)\n",
    "\n",
    "# Function to update the options in the second dropdown based on the first dropdown's value\n",
    "def update_options(change):\n",
    "    selected_key = change['new']\n",
    "    dropdown_options.options = element_collection[selected_key]\n",
    "    dropdown_options.value = element_collection[selected_key][0]\n",
    "\n",
    "# Attach the update function to the first dropdown's value change event\n",
    "dropdown_keys.observe(update_options, names='value')\n",
    "\n",
    "# Function to handle the second dropdown value changes\n",
    "def on_dropdown_options_change(change):\n",
    "    selected_option = change['new']\n",
    "    print(f'Selected option: {selected_option}')\n",
    "\n",
    "# Attach the function to the second dropdown's value change event\n",
    "dropdown_options.observe(on_dropdown_options_change, names='value')\n"
   ]
  },
  {
   "cell_type": "markdown",
   "id": "c12342f2-37f1-4a33-9b9a-875460cf2351",
   "metadata": {},
   "source": [
    "## "
   ]
  },
  {
   "cell_type": "markdown",
   "metadata": {},
   "source": [
    "#  Create A Dataframe"
   ]
  },
  {
   "cell_type": "code",
   "execution_count": 156,
   "metadata": {},
   "outputs": [
    {
     "data": {
      "text/html": [
       "<div>\n",
       "<style scoped>\n",
       "    .dataframe tbody tr th:only-of-type {\n",
       "        vertical-align: middle;\n",
       "    }\n",
       "\n",
       "    .dataframe tbody tr th {\n",
       "        vertical-align: top;\n",
       "    }\n",
       "\n",
       "    .dataframe thead th {\n",
       "        text-align: right;\n",
       "    }\n",
       "</style>\n",
       "<table border=\"1\" class=\"dataframe\">\n",
       "  <thead>\n",
       "    <tr style=\"text-align: right;\">\n",
       "      <th></th>\n",
       "      <th>building_type</th>\n",
       "      <th>building_use</th>\n",
       "      <th>basement_count</th>\n",
       "      <th>building_height</th>\n",
       "      <th>building_width</th>\n",
       "      <th>building_depth</th>\n",
       "      <th>element_type</th>\n",
       "      <th>building_element</th>\n",
       "      <th>value</th>\n",
       "      <th>unit</th>\n",
       "    </tr>\n",
       "  </thead>\n",
       "  <tbody>\n",
       "    <tr>\n",
       "      <th>0</th>\n",
       "      <td>1</td>\n",
       "      <td>Office</td>\n",
       "      <td>0</td>\n",
       "      <td>25</td>\n",
       "      <td>20</td>\n",
       "      <td>20</td>\n",
       "      <td>Foundation</td>\n",
       "      <td>Footing foundations for hard soils (sand, grav...</td>\n",
       "      <td>9.0</td>\n",
       "      <td>KgCO2e/m2</td>\n",
       "    </tr>\n",
       "    <tr>\n",
       "      <th>1</th>\n",
       "      <td>1</td>\n",
       "      <td>Office</td>\n",
       "      <td>0</td>\n",
       "      <td>25</td>\n",
       "      <td>20</td>\n",
       "      <td>20</td>\n",
       "      <td>Foundation</td>\n",
       "      <td>Steel core piling foundation for soft soils (15m)</td>\n",
       "      <td>44.0</td>\n",
       "      <td>KgCO2e/m2</td>\n",
       "    </tr>\n",
       "    <tr>\n",
       "      <th>2</th>\n",
       "      <td>1</td>\n",
       "      <td>Office</td>\n",
       "      <td>0</td>\n",
       "      <td>25</td>\n",
       "      <td>20</td>\n",
       "      <td>20</td>\n",
       "      <td>Foundation</td>\n",
       "      <td>Rammed concrete piling foundation for hard soi...</td>\n",
       "      <td>12.0</td>\n",
       "      <td>KgCO2e/m2</td>\n",
       "    </tr>\n",
       "  </tbody>\n",
       "</table>\n",
       "</div>"
      ],
      "text/plain": [
       "   building_type building_use  basement_count  building_height  \\\n",
       "0              1       Office               0               25   \n",
       "1              1       Office               0               25   \n",
       "2              1       Office               0               25   \n",
       "\n",
       "   building_width  building_depth element_type  \\\n",
       "0              20              20   Foundation   \n",
       "1              20              20   Foundation   \n",
       "2              20              20   Foundation   \n",
       "\n",
       "                                    building_element  value       unit  \n",
       "0  Footing foundations for hard soils (sand, grav...    9.0  KgCO2e/m2  \n",
       "1  Steel core piling foundation for soft soils (15m)   44.0  KgCO2e/m2  \n",
       "2  Rammed concrete piling foundation for hard soi...   12.0  KgCO2e/m2  "
      ]
     },
     "execution_count": 156,
     "metadata": {},
     "output_type": "execute_result"
    }
   ],
   "source": [
    "option_1 = df_options[df_options.building_type == 1]\n",
    "option_2 = df_options[df_options.building_type == 2]\n",
    "\n",
    "option_1.head(3)"
   ]
  },
  {
   "cell_type": "markdown",
   "metadata": {},
   "source": [
    "### Test Configuration: First Elements when grouped by `element_type`"
   ]
  },
  {
   "cell_type": "code",
   "execution_count": 154,
   "metadata": {},
   "outputs": [
    {
     "data": {
      "text/html": [
       "<div>\n",
       "<style scoped>\n",
       "    .dataframe tbody tr th:only-of-type {\n",
       "        vertical-align: middle;\n",
       "    }\n",
       "\n",
       "    .dataframe tbody tr th {\n",
       "        vertical-align: top;\n",
       "    }\n",
       "\n",
       "    .dataframe thead th {\n",
       "        text-align: right;\n",
       "    }\n",
       "</style>\n",
       "<table border=\"1\" class=\"dataframe\">\n",
       "  <thead>\n",
       "    <tr style=\"text-align: right;\">\n",
       "      <th></th>\n",
       "      <th>element_type</th>\n",
       "      <th>building_type</th>\n",
       "      <th>building_element</th>\n",
       "      <th>value</th>\n",
       "    </tr>\n",
       "  </thead>\n",
       "  <tbody>\n",
       "    <tr>\n",
       "      <th>0</th>\n",
       "      <td>Beams</td>\n",
       "      <td>1</td>\n",
       "      <td>Precast concrete beam</td>\n",
       "      <td>39.0</td>\n",
       "    </tr>\n",
       "    <tr>\n",
       "      <th>1</th>\n",
       "      <td>Columns</td>\n",
       "      <td>1</td>\n",
       "      <td>Reinforced wall, for concrete building</td>\n",
       "      <td>26.0</td>\n",
       "    </tr>\n",
       "    <tr>\n",
       "      <th>2</th>\n",
       "      <td>External Walls</td>\n",
       "      <td>1</td>\n",
       "      <td>Timber frame external wall assembly, incl. min...</td>\n",
       "      <td>9.0</td>\n",
       "    </tr>\n",
       "    <tr>\n",
       "      <th>3</th>\n",
       "      <td>Floor Slab</td>\n",
       "      <td>1</td>\n",
       "      <td>In-situ concrete slab assembly</td>\n",
       "      <td>82.0</td>\n",
       "    </tr>\n",
       "    <tr>\n",
       "      <th>4</th>\n",
       "      <td>Foundation</td>\n",
       "      <td>1</td>\n",
       "      <td>Footing foundations for hard soils (sand, grav...</td>\n",
       "      <td>9.0</td>\n",
       "    </tr>\n",
       "    <tr>\n",
       "      <th>5</th>\n",
       "      <td>Ground slab</td>\n",
       "      <td>1</td>\n",
       "      <td>Concrete ground slab assembly incl. insulation</td>\n",
       "      <td>22.0</td>\n",
       "    </tr>\n",
       "    <tr>\n",
       "      <th>6</th>\n",
       "      <td>Shear Wall</td>\n",
       "      <td>1</td>\n",
       "      <td>Reinforced concrete shear wall</td>\n",
       "      <td>4.0</td>\n",
       "    </tr>\n",
       "    <tr>\n",
       "      <th>7</th>\n",
       "      <td>Stairs</td>\n",
       "      <td>1</td>\n",
       "      <td>Concrete assembly for stairs and elevator shaf...</td>\n",
       "      <td>8.0</td>\n",
       "    </tr>\n",
       "  </tbody>\n",
       "</table>\n",
       "</div>"
      ],
      "text/plain": [
       "     element_type  building_type  \\\n",
       "0           Beams              1   \n",
       "1         Columns              1   \n",
       "2  External Walls              1   \n",
       "3      Floor Slab              1   \n",
       "4      Foundation              1   \n",
       "5     Ground slab              1   \n",
       "6      Shear Wall              1   \n",
       "7          Stairs              1   \n",
       "\n",
       "                                    building_element  value  \n",
       "0                              Precast concrete beam   39.0  \n",
       "1             Reinforced wall, for concrete building   26.0  \n",
       "2  Timber frame external wall assembly, incl. min...    9.0  \n",
       "3                     In-situ concrete slab assembly   82.0  \n",
       "4  Footing foundations for hard soils (sand, grav...    9.0  \n",
       "5     Concrete ground slab assembly incl. insulation   22.0  \n",
       "6                     Reinforced concrete shear wall    4.0  \n",
       "7  Concrete assembly for stairs and elevator shaf...    8.0  "
      ]
     },
     "execution_count": 154,
     "metadata": {},
     "output_type": "execute_result"
    }
   ],
   "source": [
    "config_1 = option_1.groupby('element_type', as_index=False).agg({'building_type': 'first', 'building_element': 'first', 'value': 'first'})\n",
    "config_1"
   ]
  },
  {
   "cell_type": "code",
   "execution_count": 157,
   "metadata": {},
   "outputs": [
    {
     "data": {
      "text/html": [
       "<div>\n",
       "<style scoped>\n",
       "    .dataframe tbody tr th:only-of-type {\n",
       "        vertical-align: middle;\n",
       "    }\n",
       "\n",
       "    .dataframe tbody tr th {\n",
       "        vertical-align: top;\n",
       "    }\n",
       "\n",
       "    .dataframe thead th {\n",
       "        text-align: right;\n",
       "    }\n",
       "</style>\n",
       "<table border=\"1\" class=\"dataframe\">\n",
       "  <thead>\n",
       "    <tr style=\"text-align: right;\">\n",
       "      <th></th>\n",
       "      <th>element_type</th>\n",
       "      <th>building_type</th>\n",
       "      <th>building_element</th>\n",
       "      <th>value</th>\n",
       "    </tr>\n",
       "  </thead>\n",
       "  <tbody>\n",
       "    <tr>\n",
       "      <th>0</th>\n",
       "      <td>Beams</td>\n",
       "      <td>2</td>\n",
       "      <td>Precast concrete beam</td>\n",
       "      <td>65.0</td>\n",
       "    </tr>\n",
       "    <tr>\n",
       "      <th>1</th>\n",
       "      <td>Columns</td>\n",
       "      <td>2</td>\n",
       "      <td>Precast concrete column</td>\n",
       "      <td>20.0</td>\n",
       "    </tr>\n",
       "    <tr>\n",
       "      <th>2</th>\n",
       "      <td>Connecting parts</td>\n",
       "      <td>2</td>\n",
       "      <td>Steel connecting parts</td>\n",
       "      <td>1.0</td>\n",
       "    </tr>\n",
       "    <tr>\n",
       "      <th>3</th>\n",
       "      <td>Diagonal wind bracings</td>\n",
       "      <td>2</td>\n",
       "      <td>Steel wind bracing, X-shaped, per m2 external ...</td>\n",
       "      <td>3.0</td>\n",
       "    </tr>\n",
       "    <tr>\n",
       "      <th>4</th>\n",
       "      <td>Floor Slab</td>\n",
       "      <td>2</td>\n",
       "      <td>In-situ concrete slab assembly</td>\n",
       "      <td>93.0</td>\n",
       "    </tr>\n",
       "    <tr>\n",
       "      <th>5</th>\n",
       "      <td>Foundation</td>\n",
       "      <td>2</td>\n",
       "      <td>Steel core piling foundation for soft soils (2...</td>\n",
       "      <td>92.0</td>\n",
       "    </tr>\n",
       "    <tr>\n",
       "      <th>6</th>\n",
       "      <td>Ground slab</td>\n",
       "      <td>2</td>\n",
       "      <td>Concrete ground slab assembly incl. insulation</td>\n",
       "      <td>31.0</td>\n",
       "    </tr>\n",
       "    <tr>\n",
       "      <th>7</th>\n",
       "      <td>Secondary beams</td>\n",
       "      <td>2</td>\n",
       "      <td>Secondary steel beam</td>\n",
       "      <td>15.0</td>\n",
       "    </tr>\n",
       "    <tr>\n",
       "      <th>8</th>\n",
       "      <td>Stairs</td>\n",
       "      <td>2</td>\n",
       "      <td>Concrete assembly for stairs and elevator shaf...</td>\n",
       "      <td>12.0</td>\n",
       "    </tr>\n",
       "  </tbody>\n",
       "</table>\n",
       "</div>"
      ],
      "text/plain": [
       "             element_type  building_type  \\\n",
       "0                   Beams              2   \n",
       "1                 Columns              2   \n",
       "2        Connecting parts              2   \n",
       "3  Diagonal wind bracings              2   \n",
       "4              Floor Slab              2   \n",
       "5              Foundation              2   \n",
       "6             Ground slab              2   \n",
       "7         Secondary beams              2   \n",
       "8                  Stairs              2   \n",
       "\n",
       "                                    building_element  value  \n",
       "0                              Precast concrete beam   65.0  \n",
       "1                            Precast concrete column   20.0  \n",
       "2                             Steel connecting parts    1.0  \n",
       "3  Steel wind bracing, X-shaped, per m2 external ...    3.0  \n",
       "4                     In-situ concrete slab assembly   93.0  \n",
       "5  Steel core piling foundation for soft soils (2...   92.0  \n",
       "6     Concrete ground slab assembly incl. insulation   31.0  \n",
       "7                               Secondary steel beam   15.0  \n",
       "8  Concrete assembly for stairs and elevator shaf...   12.0  "
      ]
     },
     "execution_count": 157,
     "metadata": {},
     "output_type": "execute_result"
    }
   ],
   "source": [
    "config_2 = option_2.groupby('element_type', as_index=False).agg({'building_type': 'first', 'building_element': 'first', 'value': 'first'})\n",
    "config_2"
   ]
  },
  {
   "cell_type": "markdown",
   "metadata": {},
   "source": [
    "### Calculating the coefficient for each table"
   ]
  },
  {
   "cell_type": "code",
   "execution_count": 161,
   "metadata": {},
   "outputs": [
    {
     "data": {
      "text/plain": [
       "332.0"
      ]
     },
     "execution_count": 161,
     "metadata": {},
     "output_type": "execute_result"
    }
   ],
   "source": [
    "coefficient_1 = config_1['value'].sum()\n",
    "coefficient_2 = config_2['value'].sum()\n",
    "\n",
    "coefficient_2"
   ]
  },
  {
   "cell_type": "markdown",
   "metadata": {},
   "source": [
    "### Applying to table"
   ]
  },
  {
   "cell_type": "code",
   "execution_count": 176,
   "metadata": {},
   "outputs": [
    {
     "data": {
      "text/html": [
       "<div>\n",
       "<style scoped>\n",
       "    .dataframe tbody tr th:only-of-type {\n",
       "        vertical-align: middle;\n",
       "    }\n",
       "\n",
       "    .dataframe tbody tr th {\n",
       "        vertical-align: top;\n",
       "    }\n",
       "\n",
       "    .dataframe thead th {\n",
       "        text-align: right;\n",
       "    }\n",
       "</style>\n",
       "<table border=\"1\" class=\"dataframe\">\n",
       "  <thead>\n",
       "    <tr style=\"text-align: right;\">\n",
       "      <th></th>\n",
       "      <th>Typology</th>\n",
       "      <th>Area</th>\n",
       "      <th>Plot</th>\n",
       "      <th>Building</th>\n",
       "      <th>building_type</th>\n",
       "      <th>embodied_carbon</th>\n",
       "    </tr>\n",
       "  </thead>\n",
       "  <tbody>\n",
       "    <tr>\n",
       "      <th>0</th>\n",
       "      <td>Commercial</td>\n",
       "      <td>1696.329992</td>\n",
       "      <td>YH090703-05</td>\n",
       "      <td></td>\n",
       "      <td>1</td>\n",
       "      <td>337569.668408</td>\n",
       "    </tr>\n",
       "    <tr>\n",
       "      <th>1</th>\n",
       "      <td>Commercial</td>\n",
       "      <td>2896.125039</td>\n",
       "      <td>YH090703-04</td>\n",
       "      <td>Tower 03</td>\n",
       "      <td>1</td>\n",
       "      <td>576328.882761</td>\n",
       "    </tr>\n",
       "    <tr>\n",
       "      <th>2</th>\n",
       "      <td>Commercial</td>\n",
       "      <td>2056.249041</td>\n",
       "      <td>YH090703-04</td>\n",
       "      <td>Tower 03</td>\n",
       "      <td>1</td>\n",
       "      <td>409193.559159</td>\n",
       "    </tr>\n",
       "    <tr>\n",
       "      <th>3</th>\n",
       "      <td>Commercial</td>\n",
       "      <td>2056.249041</td>\n",
       "      <td>YH090703-04</td>\n",
       "      <td>Tower 03</td>\n",
       "      <td>1</td>\n",
       "      <td>409193.559159</td>\n",
       "    </tr>\n",
       "    <tr>\n",
       "      <th>4</th>\n",
       "      <td>Commercial</td>\n",
       "      <td>1696.329992</td>\n",
       "      <td>YH090703-05</td>\n",
       "      <td></td>\n",
       "      <td>1</td>\n",
       "      <td>337569.668408</td>\n",
       "    </tr>\n",
       "    <tr>\n",
       "      <th>...</th>\n",
       "      <td>...</td>\n",
       "      <td>...</td>\n",
       "      <td>...</td>\n",
       "      <td>...</td>\n",
       "      <td>...</td>\n",
       "      <td>...</td>\n",
       "    </tr>\n",
       "    <tr>\n",
       "      <th>571</th>\n",
       "      <td>Retail</td>\n",
       "      <td>79.068583</td>\n",
       "      <td>YH090703-05</td>\n",
       "      <td></td>\n",
       "      <td>1</td>\n",
       "      <td>15734.648017</td>\n",
       "    </tr>\n",
       "    <tr>\n",
       "      <th>572</th>\n",
       "      <td>Retail</td>\n",
       "      <td>121.818583</td>\n",
       "      <td>YH090703-05</td>\n",
       "      <td></td>\n",
       "      <td>1</td>\n",
       "      <td>24241.898017</td>\n",
       "    </tr>\n",
       "    <tr>\n",
       "      <th>573</th>\n",
       "      <td>Retail</td>\n",
       "      <td>191.118583</td>\n",
       "      <td>YH090703-05</td>\n",
       "      <td></td>\n",
       "      <td>1</td>\n",
       "      <td>38032.598017</td>\n",
       "    </tr>\n",
       "    <tr>\n",
       "      <th>574</th>\n",
       "      <td>Retail</td>\n",
       "      <td>79.068583</td>\n",
       "      <td>YH090703-05</td>\n",
       "      <td></td>\n",
       "      <td>1</td>\n",
       "      <td>15734.648017</td>\n",
       "    </tr>\n",
       "    <tr>\n",
       "      <th>575</th>\n",
       "      <td>Retail</td>\n",
       "      <td>115.068583</td>\n",
       "      <td>YH090703-05</td>\n",
       "      <td></td>\n",
       "      <td>1</td>\n",
       "      <td>22898.648017</td>\n",
       "    </tr>\n",
       "  </tbody>\n",
       "</table>\n",
       "<p>576 rows × 6 columns</p>\n",
       "</div>"
      ],
      "text/plain": [
       "       Typology         Area         Plot  Building  building_type  \\\n",
       "0    Commercial  1696.329992  YH090703-05                        1   \n",
       "1    Commercial  2896.125039  YH090703-04  Tower 03              1   \n",
       "2    Commercial  2056.249041  YH090703-04  Tower 03              1   \n",
       "3    Commercial  2056.249041  YH090703-04  Tower 03              1   \n",
       "4    Commercial  1696.329992  YH090703-05                        1   \n",
       "..          ...          ...          ...       ...            ...   \n",
       "571      Retail    79.068583  YH090703-05                        1   \n",
       "572      Retail   121.818583  YH090703-05                        1   \n",
       "573      Retail   191.118583  YH090703-05                        1   \n",
       "574      Retail    79.068583  YH090703-05                        1   \n",
       "575      Retail   115.068583  YH090703-05                        1   \n",
       "\n",
       "     embodied_carbon  \n",
       "0      337569.668408  \n",
       "1      576328.882761  \n",
       "2      409193.559159  \n",
       "3      409193.559159  \n",
       "4      337569.668408  \n",
       "..               ...  \n",
       "571     15734.648017  \n",
       "572     24241.898017  \n",
       "573     38032.598017  \n",
       "574     15734.648017  \n",
       "575     22898.648017  \n",
       "\n",
       "[576 rows x 6 columns]"
      ]
     },
     "execution_count": 176,
     "metadata": {},
     "output_type": "execute_result"
    }
   ],
   "source": [
    "df_model['building_type'] = 1\n",
    "df_model['embodied_carbon'] = df_model['Area'] * coefficient_1\n",
    "\n",
    "df_model"
   ]
  }
 ],
 "metadata": {
  "kernelspec": {
   "display_name": "Python 3 (ipykernel)",
   "language": "python",
   "name": "python3"
  },
  "language_info": {
   "codemirror_mode": {
    "name": "ipython",
    "version": 3
   },
   "file_extension": ".py",
   "mimetype": "text/x-python",
   "name": "python",
   "nbconvert_exporter": "python",
   "pygments_lexer": "ipython3",
   "version": "3.11.5"
  }
 },
 "nbformat": 4,
 "nbformat_minor": 5
}
