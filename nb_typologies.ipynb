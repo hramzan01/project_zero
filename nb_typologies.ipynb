{
 "cells": [
  {
   "cell_type": "markdown",
   "metadata": {},
   "source": [
    "# **Typologies DF**"
   ]
  },
  {
   "cell_type": "markdown",
   "metadata": {},
   "source": [
    "## Expected Features"
   ]
  },
  {
   "cell_type": "markdown",
   "metadata": {},
   "source": [
    "| features name | type  | description  |\n",
    "|----\t|---\t|---\n",
    "| `asset` | str | example description of the feature\n",
    "| `typology` | str | example description of the feature\n",
    "| `building_id` | str | example description of the feature\n",
    "| `area` | float | example description of the feature\n",
    "| `zone` | str | example description of the feature\n",
    "| `phase` | int | example description of the feature\n",
    "| `plot` | str | example description of the feature\n",
    "| `efficiency` | float | float value representing the efficiency as a percentage of 100 (1.0 = 100%, 0.5 = 50%, 0.1 = 10% )\n",
    "\n",
    "Typology dataframes shoud contain the building typologies as well as any other location based identification such as plot zone and building types. areas should also be inlcuded "
   ]
  },
  {
   "cell_type": "code",
   "execution_count": 5,
   "metadata": {},
   "outputs": [
    {
     "name": "stdout",
     "output_type": "stream",
     "text": [
      "The autoreload extension is already loaded. To reload it, use:\n",
      "  %reload_ext autoreload\n"
     ]
    }
   ],
   "source": [
    "%load_ext autoreload\n",
    "%autoreload 2"
   ]
  },
  {
   "cell_type": "markdown",
   "metadata": {},
   "source": []
  },
  {
   "cell_type": "code",
   "execution_count": 6,
   "metadata": {},
   "outputs": [],
   "source": [
    "# import modules\n",
    "import pandas as pd\n",
    "import numpy as np\n",
    "import seaborn as sns\n",
    "import matplotlib.pyplot as plot"
   ]
  },
  {
   "cell_type": "code",
   "execution_count": 7,
   "metadata": {},
   "outputs": [],
   "source": [
    "from etl.extract import ProjectZero"
   ]
  },
  {
   "cell_type": "code",
   "execution_count": 8,
   "metadata": {},
   "outputs": [
    {
     "data": {
      "text/html": [
       "<div>\n",
       "<style scoped>\n",
       "    .dataframe tbody tr th:only-of-type {\n",
       "        vertical-align: middle;\n",
       "    }\n",
       "\n",
       "    .dataframe tbody tr th {\n",
       "        vertical-align: top;\n",
       "    }\n",
       "\n",
       "    .dataframe thead th {\n",
       "        text-align: right;\n",
       "    }\n",
       "</style>\n",
       "<table border=\"1\" class=\"dataframe\">\n",
       "  <thead>\n",
       "    <tr style=\"text-align: right;\">\n",
       "      <th></th>\n",
       "      <th>ID</th>\n",
       "      <th>Typology</th>\n",
       "      <th>Area</th>\n",
       "      <th>Plot</th>\n",
       "      <th>Building</th>\n",
       "      <th>Colour</th>\n",
       "    </tr>\n",
       "  </thead>\n",
       "  <tbody>\n",
       "    <tr>\n",
       "      <th>0</th>\n",
       "      <td>be49f53d-2a79-4d59-a0f4-39cfbccac1ef</td>\n",
       "      <td>Commercial</td>\n",
       "      <td>1696.329992</td>\n",
       "      <td>YH090703-05</td>\n",
       "      <td></td>\n",
       "      <td>#FF8DA2</td>\n",
       "    </tr>\n",
       "    <tr>\n",
       "      <th>1</th>\n",
       "      <td>186a8323-9d4e-4307-8d0a-32207f5acf58</td>\n",
       "      <td>Commercial</td>\n",
       "      <td>2896.125039</td>\n",
       "      <td>YH090703-04</td>\n",
       "      <td>Tower 03</td>\n",
       "      <td>#FF8DA2</td>\n",
       "    </tr>\n",
       "    <tr>\n",
       "      <th>2</th>\n",
       "      <td>2fce15ca-9547-40c0-b47c-831838e39a1f</td>\n",
       "      <td>Commercial</td>\n",
       "      <td>2056.249041</td>\n",
       "      <td>YH090703-04</td>\n",
       "      <td>Tower 03</td>\n",
       "      <td>#FF8DA2</td>\n",
       "    </tr>\n",
       "  </tbody>\n",
       "</table>\n",
       "</div>"
      ],
      "text/plain": [
       "                                     ID    Typology         Area         Plot  \\\n",
       "0  be49f53d-2a79-4d59-a0f4-39cfbccac1ef  Commercial  1696.329992  YH090703-05   \n",
       "1  186a8323-9d4e-4307-8d0a-32207f5acf58  Commercial  2896.125039  YH090703-04   \n",
       "2  2fce15ca-9547-40c0-b47c-831838e39a1f  Commercial  2056.249041  YH090703-04   \n",
       "\n",
       "   Building   Colour  \n",
       "0            #FF8DA2  \n",
       "1  Tower 03  #FF8DA2  \n",
       "2  Tower 03  #FF8DA2  "
      ]
     },
     "execution_count": 8,
     "metadata": {},
     "output_type": "execute_result"
    }
   ],
   "source": [
    "# import projectzero data\n",
    "from etl.extract import ProjectZero\n",
    "data = ProjectZero().get_data()\n",
    "\n",
    "# view keys\n",
    "data.keys()\n",
    "\n",
    "# df_model instance\n",
    "df_model = data['hz_model'].copy()\n",
    "df_model.head(3)"
   ]
  },
  {
   "cell_type": "markdown",
   "metadata": {},
   "source": [
    "## 1. `get_building_typology`"
   ]
  },
  {
   "cell_type": "markdown",
   "metadata": {},
   "source": [
    "this method should return a dataframe that has the following features:\\\n",
    "`id`, `asset`, `typology`, `plot`, `building`"
   ]
  },
  {
   "cell_type": "code",
   "execution_count": 9,
   "metadata": {},
   "outputs": [
    {
     "data": {
      "text/plain": [
       "ID          0\n",
       "Typology    0\n",
       "Area        0\n",
       "Plot        0\n",
       "Building    0\n",
       "Colour      0\n",
       "dtype: int64"
      ]
     },
     "execution_count": 9,
     "metadata": {},
     "output_type": "execute_result"
    }
   ],
   "source": [
    "df_model.isna().sum()"
   ]
  },
  {
   "cell_type": "markdown",
   "metadata": {},
   "source": [
    "## 2. `get_building_facade`"
   ]
  },
  {
   "cell_type": "markdown",
   "metadata": {},
   "source": [
    "this method should return a dataframe that has the following features: \\\n",
    "`building`, `area`, `facade`"
   ]
  },
  {
   "cell_type": "code",
   "execution_count": 10,
   "metadata": {},
   "outputs": [
    {
     "data": {
      "text/plain": [
       "ID          0\n",
       "Typology    0\n",
       "Area        0\n",
       "Plot        0\n",
       "Building    0\n",
       "Colour      0\n",
       "dtype: int64"
      ]
     },
     "execution_count": 10,
     "metadata": {},
     "output_type": "execute_result"
    }
   ],
   "source": [
    "df_model.isna().sum()"
   ]
  },
  {
   "cell_type": "markdown",
   "metadata": {},
   "source": [
    "## 3. `get_building_floors`"
   ]
  },
  {
   "cell_type": "markdown",
   "metadata": {},
   "source": [
    "this method should return a dataframe that has the following features: \\\n",
    "`building`, `height`, `floors`"
   ]
  },
  {
   "cell_type": "code",
   "execution_count": 11,
   "metadata": {},
   "outputs": [
    {
     "data": {
      "text/plain": [
       "ID          0\n",
       "Typology    0\n",
       "Area        0\n",
       "Plot        0\n",
       "Building    0\n",
       "Colour      0\n",
       "dtype: int64"
      ]
     },
     "execution_count": 11,
     "metadata": {},
     "output_type": "execute_result"
    }
   ],
   "source": [
    "df_model.isna().sum()"
   ]
  },
  {
   "cell_type": "markdown",
   "metadata": {},
   "source": [
    "## 4. `get_building_areas`"
   ]
  },
  {
   "cell_type": "markdown",
   "metadata": {},
   "source": [
    "this method should return a dataframe that has the following features: \\\n",
    "`building`, `area`, `efficiency`, `gfa`"
   ]
  },
  {
   "cell_type": "code",
   "execution_count": 12,
   "metadata": {},
   "outputs": [
    {
     "data": {
      "text/plain": [
       "ID          0\n",
       "Typology    0\n",
       "Area        0\n",
       "Plot        0\n",
       "Building    0\n",
       "Colour      0\n",
       "dtype: int64"
      ]
     },
     "execution_count": 12,
     "metadata": {},
     "output_type": "execute_result"
    }
   ],
   "source": [
    "df_model.isna().sum()"
   ]
  }
 ],
 "metadata": {
  "kernelspec": {
   "display_name": "lewagon",
   "language": "python",
   "name": "python3"
  },
  "language_info": {
   "codemirror_mode": {
    "name": "ipython",
    "version": 3
   },
   "file_extension": ".py",
   "mimetype": "text/x-python",
   "name": "python",
   "nbconvert_exporter": "python",
   "pygments_lexer": "ipython3",
   "version": "3.10.6"
  }
 },
 "nbformat": 4,
 "nbformat_minor": 2
}
