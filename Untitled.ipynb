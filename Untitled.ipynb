{
 "cells": [
  {
   "cell_type": "markdown",
   "id": "3e9dbbd1-2ad2-4ddc-ba03-5fe180c1552f",
   "metadata": {},
   "source": [
    "# Generating the EC coefficient"
   ]
  },
  {
   "cell_type": "markdown",
   "metadata": {},
   "source": [
    "1. Import datasets using **pz modules**\n",
    "2. Create all possible **combinations** or define options\n",
    "3. Caluclate the embodied carbon /m2 for each option\n",
    "4. Merge combinations data with corresponding **model data**\n"
   ]
  },
  {
   "cell_type": "code",
   "execution_count": 3,
   "id": "0fdfe924-a927-48cf-b76e-3439e4e4f35c",
   "metadata": {
    "tags": []
   },
   "outputs": [
    {
     "name": "stdout",
     "output_type": "stream",
     "text": [
      "The autoreload extension is already loaded. To reload it, use:\n",
      "  %reload_ext autoreload\n"
     ]
    }
   ],
   "source": [
    "import pandas as pd\n",
    "import ydata_profiling\n",
    "import numpy as np\n",
    "from scripts.data import ProjectZero as pz\n",
    "\n",
    "%load_ext autoreload\n",
    "%autoreload 2"
   ]
  },
  {
   "cell_type": "markdown",
   "metadata": {},
   "source": [
    "---"
   ]
  },
  {
   "cell_type": "markdown",
   "metadata": {},
   "source": [
    "### Importing Datasets: One touch templates, Model data, "
   ]
  },
  {
   "cell_type": "code",
   "execution_count": null,
   "id": "ebdc93ff-d390-496e-97ae-6077b0c4ffae",
   "metadata": {
    "tags": []
   },
   "outputs": [],
   "source": [
    "data = pz().get_data().copy()\n",
    "\n",
    "df_model = data['rhino_hz']\n",
    "df_options = data['sus_ecsampel']"
   ]
  },
  {
   "cell_type": "markdown",
   "metadata": {},
   "source": [
    "### Grouping By **type**"
   ]
  },
  {
   "cell_type": "code",
   "execution_count": 38,
   "metadata": {},
   "outputs": [
    {
     "data": {
      "text/plain": [
       "Index(['building_type', 'building_use', 'basement_count', 'building_height',\n",
       "       'building_width', 'building_depth', 'element_type', 'building_element',\n",
       "       'value', 'unit'],\n",
       "      dtype='object')"
      ]
     },
     "execution_count": 38,
     "metadata": {},
     "output_type": "execute_result"
    }
   ],
   "source": [
    "df_ecarb.columns"
   ]
  },
  {
   "cell_type": "code",
   "execution_count": 45,
   "metadata": {},
   "outputs": [
    {
     "data": {
      "text/html": [
       "<div>\n",
       "<style scoped>\n",
       "    .dataframe tbody tr th:only-of-type {\n",
       "        vertical-align: middle;\n",
       "    }\n",
       "\n",
       "    .dataframe tbody tr th {\n",
       "        vertical-align: top;\n",
       "    }\n",
       "\n",
       "    .dataframe thead th {\n",
       "        text-align: right;\n",
       "    }\n",
       "</style>\n",
       "<table border=\"1\" class=\"dataframe\">\n",
       "  <thead>\n",
       "    <tr style=\"text-align: right;\">\n",
       "      <th></th>\n",
       "      <th>building_type</th>\n",
       "      <th>value</th>\n",
       "      <th>building_use</th>\n",
       "    </tr>\n",
       "  </thead>\n",
       "  <tbody>\n",
       "    <tr>\n",
       "      <th>0</th>\n",
       "      <td>1</td>\n",
       "      <td>692.0</td>\n",
       "      <td>Office</td>\n",
       "    </tr>\n",
       "    <tr>\n",
       "      <th>1</th>\n",
       "      <td>2</td>\n",
       "      <td>848.0</td>\n",
       "      <td>Office</td>\n",
       "    </tr>\n",
       "  </tbody>\n",
       "</table>\n",
       "</div>"
      ],
      "text/plain": [
       "   building_type  value building_use\n",
       "0              1  692.0       Office\n",
       "1              2  848.0       Office"
      ]
     },
     "execution_count": 45,
     "metadata": {},
     "output_type": "execute_result"
    }
   ],
   "source": [
    "grouped = df_ecarb.groupby('building_type', as_index=False).agg({'value':'sum', 'building_use':'max'})\n",
    "grouped"
   ]
  },
  {
   "cell_type": "code",
   "execution_count": 22,
   "metadata": {},
   "outputs": [
    {
     "data": {
      "text/plain": [
       "692.0"
      ]
     },
     "execution_count": 22,
     "metadata": {},
     "output_type": "execute_result"
    }
   ],
   "source": []
  },
  {
   "cell_type": "markdown",
   "id": "c12342f2-37f1-4a33-9b9a-875460cf2351",
   "metadata": {},
   "source": [
    "## Enumerate the Element Types"
   ]
  },
  {
   "cell_type": "code",
   "execution_count": 5,
   "id": "7a54a0ad-3460-42bb-a93a-f4355ba0d474",
   "metadata": {
    "tags": []
   },
   "outputs": [],
   "source": [
    "df_foundation =  df[df.element_type == 'Foundation']\n",
    "df_columns =  df[df.element_type == 'Columns']\n",
    "df_external_wall =  df[df.element_type == 'External Walls']"
   ]
  },
  {
   "cell_type": "code",
   "execution_count": 6,
   "id": "9da11c39-427e-410e-9862-6831026a9442",
   "metadata": {
    "tags": []
   },
   "outputs": [
    {
     "data": {
      "text/html": [
       "<div>\n",
       "<style scoped>\n",
       "    .dataframe tbody tr th:only-of-type {\n",
       "        vertical-align: middle;\n",
       "    }\n",
       "\n",
       "    .dataframe tbody tr th {\n",
       "        vertical-align: top;\n",
       "    }\n",
       "\n",
       "    .dataframe thead th {\n",
       "        text-align: right;\n",
       "    }\n",
       "</style>\n",
       "<table border=\"1\" class=\"dataframe\">\n",
       "  <thead>\n",
       "    <tr style=\"text-align: right;\">\n",
       "      <th></th>\n",
       "      <th>building_type</th>\n",
       "      <th>building_use</th>\n",
       "      <th>basement_count</th>\n",
       "      <th>building_height</th>\n",
       "      <th>building_width</th>\n",
       "      <th>building_depth</th>\n",
       "      <th>element_type</th>\n",
       "      <th>building_element</th>\n",
       "      <th>value</th>\n",
       "      <th>unit</th>\n",
       "    </tr>\n",
       "  </thead>\n",
       "  <tbody>\n",
       "    <tr>\n",
       "      <th>0</th>\n",
       "      <td>1</td>\n",
       "      <td>Office</td>\n",
       "      <td>0</td>\n",
       "      <td>25</td>\n",
       "      <td>20</td>\n",
       "      <td>20</td>\n",
       "      <td>Foundation</td>\n",
       "      <td>Footing foundations for hard soils (sand, grav...</td>\n",
       "      <td>9.0</td>\n",
       "      <td>KgCO2e/m2</td>\n",
       "    </tr>\n",
       "    <tr>\n",
       "      <th>1</th>\n",
       "      <td>1</td>\n",
       "      <td>Office</td>\n",
       "      <td>0</td>\n",
       "      <td>25</td>\n",
       "      <td>20</td>\n",
       "      <td>20</td>\n",
       "      <td>Foundation</td>\n",
       "      <td>Steel core piling foundation for soft soils (15m)</td>\n",
       "      <td>44.0</td>\n",
       "      <td>KgCO2e/m2</td>\n",
       "    </tr>\n",
       "    <tr>\n",
       "      <th>2</th>\n",
       "      <td>1</td>\n",
       "      <td>Office</td>\n",
       "      <td>0</td>\n",
       "      <td>25</td>\n",
       "      <td>20</td>\n",
       "      <td>20</td>\n",
       "      <td>Foundation</td>\n",
       "      <td>Rammed concrete piling foundation for hard soi...</td>\n",
       "      <td>12.0</td>\n",
       "      <td>KgCO2e/m2</td>\n",
       "    </tr>\n",
       "    <tr>\n",
       "      <th>24</th>\n",
       "      <td>2</td>\n",
       "      <td>Office</td>\n",
       "      <td>3</td>\n",
       "      <td>45</td>\n",
       "      <td>40</td>\n",
       "      <td>40</td>\n",
       "      <td>Foundation</td>\n",
       "      <td>Steel core piling foundation for soft soils (2...</td>\n",
       "      <td>92.0</td>\n",
       "      <td>KgCO2e/m2</td>\n",
       "    </tr>\n",
       "    <tr>\n",
       "      <th>25</th>\n",
       "      <td>2</td>\n",
       "      <td>Office</td>\n",
       "      <td>3</td>\n",
       "      <td>45</td>\n",
       "      <td>40</td>\n",
       "      <td>40</td>\n",
       "      <td>Foundation</td>\n",
       "      <td>Rammed concrete piling foundation for soft soi...</td>\n",
       "      <td>24.0</td>\n",
       "      <td>KgCO2e/m2</td>\n",
       "    </tr>\n",
       "  </tbody>\n",
       "</table>\n",
       "</div>"
      ],
      "text/plain": [
       "    building_type building_use  basement_count  building_height  \\\n",
       "0               1       Office               0               25   \n",
       "1               1       Office               0               25   \n",
       "2               1       Office               0               25   \n",
       "24              2       Office               3               45   \n",
       "25              2       Office               3               45   \n",
       "\n",
       "    building_width  building_depth element_type  \\\n",
       "0               20              20   Foundation   \n",
       "1               20              20   Foundation   \n",
       "2               20              20   Foundation   \n",
       "24              40              40   Foundation   \n",
       "25              40              40   Foundation   \n",
       "\n",
       "                                     building_element  value       unit  \n",
       "0   Footing foundations for hard soils (sand, grav...    9.0  KgCO2e/m2  \n",
       "1   Steel core piling foundation for soft soils (15m)   44.0  KgCO2e/m2  \n",
       "2   Rammed concrete piling foundation for hard soi...   12.0  KgCO2e/m2  \n",
       "24  Steel core piling foundation for soft soils (2...   92.0  KgCO2e/m2  \n",
       "25  Rammed concrete piling foundation for soft soi...   24.0  KgCO2e/m2  "
      ]
     },
     "execution_count": 6,
     "metadata": {},
     "output_type": "execute_result"
    }
   ],
   "source": [
    "df_foundation"
   ]
  },
  {
   "cell_type": "code",
   "execution_count": 10,
   "id": "8c79b6c0-2bf8-45b7-bfb3-0d2af2512650",
   "metadata": {
    "tags": []
   },
   "outputs": [],
   "source": [
    "elements_foundation = df_foundation.building_element\n",
    "elements_columns = list(df_columns.building_element)\n",
    "elements_external_wall = list(df_external_wall.building_element)"
   ]
  },
  {
   "cell_type": "code",
   "execution_count": 14,
   "id": "467f50d2-5d70-4c2e-a3a3-23647e00d805",
   "metadata": {
    "tags": []
   },
   "outputs": [
    {
     "data": {
      "text/plain": [
       "0     Footing foundations for hard soils (sand, grav...\n",
       "1     Steel core piling foundation for soft soils (15m)\n",
       "2     Rammed concrete piling foundation for hard soi...\n",
       "24    Steel core piling foundation for soft soils (2...\n",
       "25    Rammed concrete piling foundation for soft soi...\n",
       "Name: building_element, dtype: object"
      ]
     },
     "execution_count": 14,
     "metadata": {},
     "output_type": "execute_result"
    }
   ],
   "source": [
    "listelements_foundation"
   ]
  }
 ],
 "metadata": {
  "kernelspec": {
   "display_name": "Python 3 (ipykernel)",
   "language": "python",
   "name": "python3"
  },
  "language_info": {
   "codemirror_mode": {
    "name": "ipython",
    "version": 3
   },
   "file_extension": ".py",
   "mimetype": "text/x-python",
   "name": "python",
   "nbconvert_exporter": "python",
   "pygments_lexer": "ipython3",
   "version": "3.11.5"
  }
 },
 "nbformat": 4,
 "nbformat_minor": 5
}
