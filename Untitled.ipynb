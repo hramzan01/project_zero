{
 "cells": [
  {
   "cell_type": "code",
   "execution_count": 2,
   "id": "75c644e7-3136-486c-bd73-28f17e0f5dfc",
   "metadata": {
    "tags": []
   },
   "outputs": [],
   "source": [
    "import numpy as np"
   ]
  },
  {
   "cell_type": "code",
   "execution_count": 5,
   "id": "59fb720a-effe-462b-8c11-78ffcd720cdf",
   "metadata": {
    "tags": []
   },
   "outputs": [
    {
     "data": {
      "text/plain": [
       "array([[50,  2,  1],\n",
       "       [60,  3,  2],\n",
       "       [70,  4,  3],\n",
       "       [80,  2,  1]])"
      ]
     },
     "execution_count": 5,
     "metadata": {},
     "output_type": "execute_result"
    }
   ],
   "source": [
    "features_matrix = np.array([\n",
    "    [50, 2, 1],\n",
    "    [60, 3, 2],\n",
    "    [70, 4, 3],\n",
    "    [80, 2, 1]\n",
    "])\n",
    "\n",
    "features_matrix"
   ]
  },
  {
   "cell_type": "code",
   "execution_count": 7,
   "id": "9e4f09d4-e233-4f4a-82c3-6de54709c1e4",
   "metadata": {
    "tags": []
   },
   "outputs": [
    {
     "data": {
      "text/plain": [
       "array([ 5000, 30000, 10000])"
      ]
     },
     "execution_count": 7,
     "metadata": {},
     "output_type": "execute_result"
    }
   ],
   "source": [
    "# Matrix representing weights for each feature\n",
    "weights_matrix = np.array([5000, 30000, 10000])  # Example weights for each feature\n",
    "\n",
    "weights_matrix"
   ]
  },
  {
   "cell_type": "code",
   "execution_count": 10,
   "id": "c6be33fb-d6aa-4397-b300-9e5b4010b705",
   "metadata": {
    "tags": []
   },
   "outputs": [
    {
     "data": {
      "text/plain": [
       "array([320000, 410000, 500000, 470000])"
      ]
     },
     "execution_count": 10,
     "metadata": {},
     "output_type": "execute_result"
    }
   ],
   "source": [
    "# Estimate prices for the apartments based on features and weights\n",
    "estimated_prices = features_matrix @ weights_matrix\n",
    "\n",
    "estimated_prices"
   ]
  },
  {
   "cell_type": "code",
   "execution_count": 11,
   "id": "94a6801a-c6d6-44a2-afa8-8093237137f5",
   "metadata": {
    "tags": []
   },
   "outputs": [
    {
     "data": {
      "text/plain": [
       "250000"
      ]
     },
     "execution_count": 11,
     "metadata": {},
     "output_type": "execute_result"
    }
   ],
   "source": [
    "50*5000 "
   ]
  },
  {
   "cell_type": "code",
   "execution_count": 17,
   "id": "97c45cd7-d00d-4536-957b-f6351a39d714",
   "metadata": {
    "tags": []
   },
   "outputs": [
    {
     "data": {
      "text/plain": [
       "60000"
      ]
     },
     "execution_count": 17,
     "metadata": {},
     "output_type": "execute_result"
    }
   ],
   "source": [
    "2 * 30000"
   ]
  },
  {
   "cell_type": "code",
   "execution_count": 16,
   "id": "c1fc38a6-2f79-44dc-bcc6-1f143a549f37",
   "metadata": {
    "tags": []
   },
   "outputs": [
    {
     "data": {
      "text/plain": [
       "10000"
      ]
     },
     "execution_count": 16,
     "metadata": {},
     "output_type": "execute_result"
    }
   ],
   "source": [
    "1 * 10000 "
   ]
  }
 ],
 "metadata": {
  "kernelspec": {
   "display_name": "Python 3 (ipykernel)",
   "language": "python",
   "name": "python3"
  },
  "language_info": {
   "codemirror_mode": {
    "name": "ipython",
    "version": 3
   },
   "file_extension": ".py",
   "mimetype": "text/x-python",
   "name": "python",
   "nbconvert_exporter": "python",
   "pygments_lexer": "ipython3",
   "version": "3.11.5"
  }
 },
 "nbformat": 4,
 "nbformat_minor": 5
}
