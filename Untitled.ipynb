{
 "cells": [
  {
   "cell_type": "markdown",
   "id": "4751d6a5-b7b8-4652-8ba3-ff457719fa56",
   "metadata": {},
   "source": [
    "# Options Algorythm"
   ]
  },
  {
   "cell_type": "code",
   "execution_count": 24,
   "id": "c42c6dab-c165-49f1-8ec7-3816a6838c6a",
   "metadata": {
    "tags": []
   },
   "outputs": [],
   "source": [
    "from itertools import combinations\n",
    "import pandas as pd"
   ]
  },
  {
   "cell_type": "code",
   "execution_count": null,
   "id": "0ae52a9b-e499-4c6a-ab70-e0629985d0be",
   "metadata": {},
   "outputs": [],
   "source": [
    "df = pd.read_csv(data/csv/)"
   ]
  },
  {
   "cell_type": "code",
   "execution_count": 18,
   "id": "04e9bef9-fe06-49c4-ba48-0045469956c3",
   "metadata": {
    "collapsed": true,
    "jupyter": {
     "outputs_hidden": true
    },
    "tags": []
   },
   "outputs": [
    {
     "data": {
      "text/plain": [
       "[(1, 2, 3),\n",
       " (1, 2, 4),\n",
       " (1, 2, 5),\n",
       " (1, 2, 6),\n",
       " (1, 3, 4),\n",
       " (1, 3, 5),\n",
       " (1, 3, 6),\n",
       " (1, 4, 5),\n",
       " (1, 4, 6),\n",
       " (1, 5, 6),\n",
       " (2, 3, 4),\n",
       " (2, 3, 5),\n",
       " (2, 3, 6),\n",
       " (2, 4, 5),\n",
       " (2, 4, 6),\n",
       " (2, 5, 6),\n",
       " (3, 4, 5),\n",
       " (3, 4, 6),\n",
       " (3, 5, 6),\n",
       " (4, 5, 6)]"
      ]
     },
     "execution_count": 18,
     "metadata": {},
     "output_type": "execute_result"
    }
   ],
   "source": [
    "elements = [1, 2, 3, 4, 5, 6]\n",
    "r = 3\n",
    "\n",
    "combinations = list(combinations(elements, r))\n",
    "combinations"
   ]
  },
  {
   "cell_type": "code",
   "execution_count": 23,
   "id": "2b3867a3-d3a3-4b76-8473-1e84fcdc7d85",
   "metadata": {
    "collapsed": true,
    "jupyter": {
     "outputs_hidden": true
    },
    "tags": []
   },
   "outputs": [
    {
     "name": "stdout",
     "output_type": "stream",
     "text": [
      "config 1: (1, 2, 3)\n",
      "config 2: (1, 2, 4)\n",
      "config 3: (1, 2, 5)\n",
      "config 4: (1, 2, 6)\n",
      "config 5: (1, 3, 4)\n",
      "config 6: (1, 3, 5)\n",
      "config 7: (1, 3, 6)\n",
      "config 8: (1, 4, 5)\n",
      "config 9: (1, 4, 6)\n",
      "config 10: (1, 5, 6)\n",
      "config 11: (2, 3, 4)\n",
      "config 12: (2, 3, 5)\n",
      "config 13: (2, 3, 6)\n",
      "config 14: (2, 4, 5)\n",
      "config 15: (2, 4, 6)\n",
      "config 16: (2, 5, 6)\n",
      "config 17: (3, 4, 5)\n",
      "config 18: (3, 4, 6)\n",
      "config 19: (3, 5, 6)\n",
      "config 20: (4, 5, 6)\n"
     ]
    }
   ],
   "source": [
    "for num, combo in enumerate(combinations):\n",
    "    print(f'config {num + 1}: {combo}')"
   ]
  },
  {
   "cell_type": "code",
   "execution_count": null,
   "id": "ad12c553-385d-47f8-8d95-bef189db1838",
   "metadata": {},
   "outputs": [],
   "source": [
    "options = [\n",
    "    'Steel core piling foundation for soft soils (15m)'\n",
    "    'Rammed concrete piling foundation for hard soils (15m)'\n",
    "    'facade type 1'\n",
    "]"
   ]
  }
 ],
 "metadata": {
  "kernelspec": {
   "display_name": "Python 3 (ipykernel)",
   "language": "python",
   "name": "python3"
  },
  "language_info": {
   "codemirror_mode": {
    "name": "ipython",
    "version": 3
   },
   "file_extension": ".py",
   "mimetype": "text/x-python",
   "name": "python",
   "nbconvert_exporter": "python",
   "pygments_lexer": "ipython3",
   "version": "3.11.5"
  }
 },
 "nbformat": 4,
 "nbformat_minor": 5
}
