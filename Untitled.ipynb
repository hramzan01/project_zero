{
 "cells": [
  {
   "cell_type": "markdown",
   "id": "3e9dbbd1-2ad2-4ddc-ba03-5fe180c1552f",
   "metadata": {},
   "source": [
    "# Generating the EC coefficient"
   ]
  },
  {
   "cell_type": "markdown",
   "metadata": {},
   "source": [
    "1. Import datasets using **ProjectZero modules**\n",
    "2. Create all possible **combinations** or define options\n",
    "3. Caluclate the embodied carbon /m2 for each option\n",
    "4. Merge combinations data with corresponding **model data**\n"
   ]
  },
  {
   "cell_type": "code",
   "execution_count": 73,
   "id": "0fdfe924-a927-48cf-b76e-3439e4e4f35c",
   "metadata": {
    "tags": []
   },
   "outputs": [
    {
     "name": "stdout",
     "output_type": "stream",
     "text": [
      "The autoreload extension is already loaded. To reload it, use:\n",
      "  %reload_ext autoreload\n"
     ]
    }
   ],
   "source": [
    "import pandas as pd\n",
    "import ydata_profiling\n",
    "import numpy as np\n",
    "from scripts.data import ProjectZero as pz\n",
    "\n",
    "%load_ext autoreload\n",
    "%autoreload 2"
   ]
  },
  {
   "cell_type": "markdown",
   "metadata": {},
   "source": [
    "---"
   ]
  },
  {
   "cell_type": "markdown",
   "metadata": {},
   "source": [
    "### 1. Importing Datasets: One touch templates, Model data, "
   ]
  },
  {
   "cell_type": "code",
   "execution_count": 74,
   "id": "ebdc93ff-d390-496e-97ae-6077b0c4ffae",
   "metadata": {
    "tags": []
   },
   "outputs": [],
   "source": [
    "data = pz().get_data().copy()\n",
    "\n",
    "df_model = data['hz_model']\n",
    "df_options = data['sus_options']"
   ]
  },
  {
   "cell_type": "markdown",
   "metadata": {},
   "source": [
    "### 2 .Defining the Options"
   ]
  },
  {
   "cell_type": "markdown",
   "metadata": {},
   "source": [
    "**Define option 01** "
   ]
  },
  {
   "cell_type": "code",
   "execution_count": 87,
   "metadata": {},
   "outputs": [
    {
     "data": {
      "text/html": [
       "<div>\n",
       "<style scoped>\n",
       "    .dataframe tbody tr th:only-of-type {\n",
       "        vertical-align: middle;\n",
       "    }\n",
       "\n",
       "    .dataframe tbody tr th {\n",
       "        vertical-align: top;\n",
       "    }\n",
       "\n",
       "    .dataframe thead th {\n",
       "        text-align: right;\n",
       "    }\n",
       "</style>\n",
       "<table border=\"1\" class=\"dataframe\">\n",
       "  <thead>\n",
       "    <tr style=\"text-align: right;\">\n",
       "      <th></th>\n",
       "      <th>building_type</th>\n",
       "      <th>building_use</th>\n",
       "      <th>basement_count</th>\n",
       "      <th>building_height</th>\n",
       "      <th>building_width</th>\n",
       "      <th>building_depth</th>\n",
       "      <th>element_type</th>\n",
       "      <th>building_element</th>\n",
       "      <th>value</th>\n",
       "      <th>unit</th>\n",
       "    </tr>\n",
       "  </thead>\n",
       "  <tbody>\n",
       "    <tr>\n",
       "      <th>0</th>\n",
       "      <td>1</td>\n",
       "      <td>Office</td>\n",
       "      <td>0</td>\n",
       "      <td>25</td>\n",
       "      <td>20</td>\n",
       "      <td>20</td>\n",
       "      <td>Foundation</td>\n",
       "      <td>Footing foundations for hard soils (sand, grav...</td>\n",
       "      <td>9.0</td>\n",
       "      <td>KgCO2e/m2</td>\n",
       "    </tr>\n",
       "    <tr>\n",
       "      <th>1</th>\n",
       "      <td>1</td>\n",
       "      <td>Office</td>\n",
       "      <td>0</td>\n",
       "      <td>25</td>\n",
       "      <td>20</td>\n",
       "      <td>20</td>\n",
       "      <td>Foundation</td>\n",
       "      <td>Steel core piling foundation for soft soils (15m)</td>\n",
       "      <td>44.0</td>\n",
       "      <td>KgCO2e/m2</td>\n",
       "    </tr>\n",
       "  </tbody>\n",
       "</table>\n",
       "</div>"
      ],
      "text/plain": [
       "   building_type building_use  basement_count  building_height  \\\n",
       "0              1       Office               0               25   \n",
       "1              1       Office               0               25   \n",
       "\n",
       "   building_width  building_depth element_type  \\\n",
       "0              20              20   Foundation   \n",
       "1              20              20   Foundation   \n",
       "\n",
       "                                    building_element  value       unit  \n",
       "0  Footing foundations for hard soils (sand, grav...    9.0  KgCO2e/m2  \n",
       "1  Steel core piling foundation for soft soils (15m)   44.0  KgCO2e/m2  "
      ]
     },
     "execution_count": 87,
     "metadata": {},
     "output_type": "execute_result"
    }
   ],
   "source": [
    "option_1 = df_options[df_options.building_type == 1]\n",
    "option_1.head(2)"
   ]
  },
  {
   "cell_type": "markdown",
   "metadata": {},
   "source": [
    "**Define config 01**"
   ]
  },
  {
   "cell_type": "code",
   "execution_count": null,
   "metadata": {},
   "outputs": [
    {
     "data": {
      "text/plain": [
       "8"
      ]
     },
     "execution_count": 105,
     "metadata": {},
     "output_type": "execute_result"
    }
   ],
   "source": [
    "key_names = list(option_1['element_type'].unique())\n",
    "building_elements = [list(option_1['building_element'][option_1.element_type ==  key]) for key in key_names]"
   ]
  },
  {
   "cell_type": "markdown",
   "metadata": {},
   "source": [
    "**Make dictionary of types {element_type: [building elements] }**"
   ]
  },
  {
   "cell_type": "code",
   "execution_count": 107,
   "metadata": {},
   "outputs": [
    {
     "name": "stdout",
     "output_type": "stream",
     "text": [
      "{'Foundation': ['Footing foundations for hard soils (sand, gravel, silt or clay) per GFA, Includes: point and strip footings', 'Steel core piling foundation for soft soils (15m)', 'Rammed concrete piling foundation for hard soils (15m)'], 'Ground slab': ['Concrete ground slab assembly incl. insulation'], 'Floor Slab': ['In-situ concrete slab assembly', 'Concrete cast-in-situ floor slab assembly (150mm)', 'Metal-concrete composite decking (150mm)', 'Hollow-core slab floor assembly, incl. mineral wool acoustic slabs', 'CLT floor slab assembly (200mm)'], 'Columns': ['Reinforced wall, for concrete building', 'Precast concrete column', 'In-situ concrete column', 'Timber column - for timber frame buildings', 'Steel column'], 'Shear Wall': ['Reinforced concrete shear wall'], 'Beams': ['Precast concrete beam', 'In-situ concrete beam', 'Timber beam - for timber frame buildings', 'Steel beam'], 'Stairs': ['Concrete assembly for stairs and elevator shafts per one metre height', 'CLT assembly for stairs and elevator shaft'], 'External Walls': ['Timber frame external wall assembly, incl. mineral wool insulation, U-value 0.18 W/m2K, 320 mm', 'Timber Frame Cavity Wall & Service Void, U-value 0.22, (Part L 2016)', 'Steel sandwich element external wall assembly, incl. mineral wool insulation, U-value 0.18 W/m2K, 200 mm']}\n"
     ]
    }
   ],
   "source": [
    "element_collection = {}\n",
    "\n",
    "for key,element in zip(key_names, building_elements):\n",
    "    element_collection[key] = element\n",
    "\n",
    "print(element_collection)"
   ]
  },
  {
   "cell_type": "markdown",
   "id": "c12342f2-37f1-4a33-9b9a-875460cf2351",
   "metadata": {},
   "source": [
    "## Enumerate the Element Types"
   ]
  },
  {
   "cell_type": "code",
   "execution_count": null,
   "id": "7a54a0ad-3460-42bb-a93a-f4355ba0d474",
   "metadata": {
    "tags": []
   },
   "outputs": [],
   "source": [
    "df_foundation =  df[df.element_type == 'Foundation']\n",
    "df_columns =  df[df.element_type == 'Columns']\n",
    "df_external_wall =  df[df.element_type == 'External Walls']"
   ]
  },
  {
   "cell_type": "code",
   "execution_count": null,
   "id": "9da11c39-427e-410e-9862-6831026a9442",
   "metadata": {
    "tags": []
   },
   "outputs": [
    {
     "data": {
      "text/html": [
       "<div>\n",
       "<style scoped>\n",
       "    .dataframe tbody tr th:only-of-type {\n",
       "        vertical-align: middle;\n",
       "    }\n",
       "\n",
       "    .dataframe tbody tr th {\n",
       "        vertical-align: top;\n",
       "    }\n",
       "\n",
       "    .dataframe thead th {\n",
       "        text-align: right;\n",
       "    }\n",
       "</style>\n",
       "<table border=\"1\" class=\"dataframe\">\n",
       "  <thead>\n",
       "    <tr style=\"text-align: right;\">\n",
       "      <th></th>\n",
       "      <th>building_type</th>\n",
       "      <th>building_use</th>\n",
       "      <th>basement_count</th>\n",
       "      <th>building_height</th>\n",
       "      <th>building_width</th>\n",
       "      <th>building_depth</th>\n",
       "      <th>element_type</th>\n",
       "      <th>building_element</th>\n",
       "      <th>value</th>\n",
       "      <th>unit</th>\n",
       "    </tr>\n",
       "  </thead>\n",
       "  <tbody>\n",
       "    <tr>\n",
       "      <th>0</th>\n",
       "      <td>1</td>\n",
       "      <td>Office</td>\n",
       "      <td>0</td>\n",
       "      <td>25</td>\n",
       "      <td>20</td>\n",
       "      <td>20</td>\n",
       "      <td>Foundation</td>\n",
       "      <td>Footing foundations for hard soils (sand, grav...</td>\n",
       "      <td>9.0</td>\n",
       "      <td>KgCO2e/m2</td>\n",
       "    </tr>\n",
       "    <tr>\n",
       "      <th>1</th>\n",
       "      <td>1</td>\n",
       "      <td>Office</td>\n",
       "      <td>0</td>\n",
       "      <td>25</td>\n",
       "      <td>20</td>\n",
       "      <td>20</td>\n",
       "      <td>Foundation</td>\n",
       "      <td>Steel core piling foundation for soft soils (15m)</td>\n",
       "      <td>44.0</td>\n",
       "      <td>KgCO2e/m2</td>\n",
       "    </tr>\n",
       "    <tr>\n",
       "      <th>2</th>\n",
       "      <td>1</td>\n",
       "      <td>Office</td>\n",
       "      <td>0</td>\n",
       "      <td>25</td>\n",
       "      <td>20</td>\n",
       "      <td>20</td>\n",
       "      <td>Foundation</td>\n",
       "      <td>Rammed concrete piling foundation for hard soi...</td>\n",
       "      <td>12.0</td>\n",
       "      <td>KgCO2e/m2</td>\n",
       "    </tr>\n",
       "    <tr>\n",
       "      <th>24</th>\n",
       "      <td>2</td>\n",
       "      <td>Office</td>\n",
       "      <td>3</td>\n",
       "      <td>45</td>\n",
       "      <td>40</td>\n",
       "      <td>40</td>\n",
       "      <td>Foundation</td>\n",
       "      <td>Steel core piling foundation for soft soils (2...</td>\n",
       "      <td>92.0</td>\n",
       "      <td>KgCO2e/m2</td>\n",
       "    </tr>\n",
       "    <tr>\n",
       "      <th>25</th>\n",
       "      <td>2</td>\n",
       "      <td>Office</td>\n",
       "      <td>3</td>\n",
       "      <td>45</td>\n",
       "      <td>40</td>\n",
       "      <td>40</td>\n",
       "      <td>Foundation</td>\n",
       "      <td>Rammed concrete piling foundation for soft soi...</td>\n",
       "      <td>24.0</td>\n",
       "      <td>KgCO2e/m2</td>\n",
       "    </tr>\n",
       "  </tbody>\n",
       "</table>\n",
       "</div>"
      ],
      "text/plain": [
       "    building_type building_use  basement_count  building_height  \\\n",
       "0               1       Office               0               25   \n",
       "1               1       Office               0               25   \n",
       "2               1       Office               0               25   \n",
       "24              2       Office               3               45   \n",
       "25              2       Office               3               45   \n",
       "\n",
       "    building_width  building_depth element_type  \\\n",
       "0               20              20   Foundation   \n",
       "1               20              20   Foundation   \n",
       "2               20              20   Foundation   \n",
       "24              40              40   Foundation   \n",
       "25              40              40   Foundation   \n",
       "\n",
       "                                     building_element  value       unit  \n",
       "0   Footing foundations for hard soils (sand, grav...    9.0  KgCO2e/m2  \n",
       "1   Steel core piling foundation for soft soils (15m)   44.0  KgCO2e/m2  \n",
       "2   Rammed concrete piling foundation for hard soi...   12.0  KgCO2e/m2  \n",
       "24  Steel core piling foundation for soft soils (2...   92.0  KgCO2e/m2  \n",
       "25  Rammed concrete piling foundation for soft soi...   24.0  KgCO2e/m2  "
      ]
     },
     "execution_count": 6,
     "metadata": {},
     "output_type": "execute_result"
    }
   ],
   "source": [
    "df_foundation"
   ]
  }
 ],
 "metadata": {
  "kernelspec": {
   "display_name": "Python 3 (ipykernel)",
   "language": "python",
   "name": "python3"
  },
  "language_info": {
   "codemirror_mode": {
    "name": "ipython",
    "version": 3
   },
   "file_extension": ".py",
   "mimetype": "text/x-python",
   "name": "python",
   "nbconvert_exporter": "python",
   "pygments_lexer": "ipython3",
   "version": "3.11.5"
  }
 },
 "nbformat": 4,
 "nbformat_minor": 5
}
