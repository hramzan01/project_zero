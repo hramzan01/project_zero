{
 "cells": [
  {
   "cell_type": "markdown",
   "id": "726c8610-b303-4656-925c-7f9241b0c457",
   "metadata": {},
   "source": [
    "# DAP Zero - data processing"
   ]
  },
  {
   "cell_type": "markdown",
   "id": "fcf34314-17df-423e-8487-fac665178561",
   "metadata": {
    "tags": []
   },
   "source": [
    "\n",
    "## import the data"
   ]
  },
  {
   "cell_type": "code",
   "execution_count": 28,
   "id": "7075b907-f664-4586-951f-bfb58d5af4e0",
   "metadata": {
    "tags": []
   },
   "outputs": [],
   "source": [
    "import pandas as pd\n",
    "import numpy as np"
   ]
  },
  {
   "cell_type": "code",
   "execution_count": 29,
   "id": "f4978c15-158e-4712-92e3-33af179c74f0",
   "metadata": {
    "tags": []
   },
   "outputs": [],
   "source": [
    "df_model = pd.read_csv('data_model.csv')\n",
    "df_repo = pd.read_csv('data_repo.csv')"
   ]
  },
  {
   "cell_type": "code",
   "execution_count": 30,
   "id": "0c2b25d8-dd1e-4d0e-9be9-94aff7b608a2",
   "metadata": {
    "tags": []
   },
   "outputs": [
    {
     "data": {
      "text/html": [
       "<div>\n",
       "<style scoped>\n",
       "    .dataframe tbody tr th:only-of-type {\n",
       "        vertical-align: middle;\n",
       "    }\n",
       "\n",
       "    .dataframe tbody tr th {\n",
       "        vertical-align: top;\n",
       "    }\n",
       "\n",
       "    .dataframe thead th {\n",
       "        text-align: right;\n",
       "    }\n",
       "</style>\n",
       "<table border=\"1\" class=\"dataframe\">\n",
       "  <thead>\n",
       "    <tr style=\"text-align: right;\">\n",
       "      <th></th>\n",
       "      <th>type</th>\n",
       "      <th>area</th>\n",
       "    </tr>\n",
       "  </thead>\n",
       "  <tbody>\n",
       "    <tr>\n",
       "      <th>0</th>\n",
       "      <td>residential</td>\n",
       "      <td>100</td>\n",
       "    </tr>\n",
       "    <tr>\n",
       "      <th>1</th>\n",
       "      <td>residential</td>\n",
       "      <td>100</td>\n",
       "    </tr>\n",
       "    <tr>\n",
       "      <th>2</th>\n",
       "      <td>residential</td>\n",
       "      <td>100</td>\n",
       "    </tr>\n",
       "    <tr>\n",
       "      <th>3</th>\n",
       "      <td>residential</td>\n",
       "      <td>100</td>\n",
       "    </tr>\n",
       "    <tr>\n",
       "      <th>4</th>\n",
       "      <td>residential</td>\n",
       "      <td>100</td>\n",
       "    </tr>\n",
       "  </tbody>\n",
       "</table>\n",
       "</div>"
      ],
      "text/plain": [
       "          type  area\n",
       "0  residential   100\n",
       "1  residential   100\n",
       "2  residential   100\n",
       "3  residential   100\n",
       "4  residential   100"
      ]
     },
     "execution_count": 30,
     "metadata": {},
     "output_type": "execute_result"
    }
   ],
   "source": [
    "df_model.head()"
   ]
  },
  {
   "cell_type": "code",
   "execution_count": 31,
   "id": "9f6bf75e-f866-4ac3-897d-aa4e740a4bca",
   "metadata": {
    "tags": []
   },
   "outputs": [
    {
     "data": {
      "text/html": [
       "<div>\n",
       "<style scoped>\n",
       "    .dataframe tbody tr th:only-of-type {\n",
       "        vertical-align: middle;\n",
       "    }\n",
       "\n",
       "    .dataframe tbody tr th {\n",
       "        vertical-align: top;\n",
       "    }\n",
       "\n",
       "    .dataframe thead th {\n",
       "        text-align: right;\n",
       "    }\n",
       "</style>\n",
       "<table border=\"1\" class=\"dataframe\">\n",
       "  <thead>\n",
       "    <tr style=\"text-align: right;\">\n",
       "      <th></th>\n",
       "      <th>type</th>\n",
       "      <th>gfa</th>\n",
       "      <th>gla</th>\n",
       "      <th>bua</th>\n",
       "      <th>residents</th>\n",
       "      <th>employees</th>\n",
       "      <th>visitors</th>\n",
       "      <th>parking</th>\n",
       "    </tr>\n",
       "  </thead>\n",
       "  <tbody>\n",
       "    <tr>\n",
       "      <th>0</th>\n",
       "      <td>residential</td>\n",
       "      <td>0.600</td>\n",
       "      <td>0.600</td>\n",
       "      <td>0.600</td>\n",
       "      <td>0.600</td>\n",
       "      <td>0.600</td>\n",
       "      <td>0.600</td>\n",
       "      <td>0.600</td>\n",
       "    </tr>\n",
       "    <tr>\n",
       "      <th>1</th>\n",
       "      <td>office</td>\n",
       "      <td>0.500</td>\n",
       "      <td>0.500</td>\n",
       "      <td>0.500</td>\n",
       "      <td>0.500</td>\n",
       "      <td>0.500</td>\n",
       "      <td>0.500</td>\n",
       "      <td>0.500</td>\n",
       "    </tr>\n",
       "    <tr>\n",
       "      <th>2</th>\n",
       "      <td>hotel</td>\n",
       "      <td>0.005</td>\n",
       "      <td>0.005</td>\n",
       "      <td>0.005</td>\n",
       "      <td>0.005</td>\n",
       "      <td>0.005</td>\n",
       "      <td>0.005</td>\n",
       "      <td>0.005</td>\n",
       "    </tr>\n",
       "    <tr>\n",
       "      <th>3</th>\n",
       "      <td>community</td>\n",
       "      <td>1.000</td>\n",
       "      <td>1.000</td>\n",
       "      <td>1.000</td>\n",
       "      <td>1.000</td>\n",
       "      <td>1.000</td>\n",
       "      <td>1.000</td>\n",
       "      <td>1.000</td>\n",
       "    </tr>\n",
       "    <tr>\n",
       "      <th>4</th>\n",
       "      <td>retail</td>\n",
       "      <td>0.050</td>\n",
       "      <td>0.050</td>\n",
       "      <td>0.050</td>\n",
       "      <td>0.050</td>\n",
       "      <td>0.050</td>\n",
       "      <td>0.050</td>\n",
       "      <td>0.050</td>\n",
       "    </tr>\n",
       "  </tbody>\n",
       "</table>\n",
       "</div>"
      ],
      "text/plain": [
       "          type    gfa    gla    bua  residents  employees  visitors  parking\n",
       "0  residential  0.600  0.600  0.600      0.600      0.600     0.600    0.600\n",
       "1       office  0.500  0.500  0.500      0.500      0.500     0.500    0.500\n",
       "2        hotel  0.005  0.005  0.005      0.005      0.005     0.005    0.005\n",
       "3    community  1.000  1.000  1.000      1.000      1.000     1.000    1.000\n",
       "4       retail  0.050  0.050  0.050      0.050      0.050     0.050    0.050"
      ]
     },
     "execution_count": 31,
     "metadata": {},
     "output_type": "execute_result"
    }
   ],
   "source": [
    "df_repo.head()"
   ]
  },
  {
   "cell_type": "markdown",
   "id": "2eb5b966-03a0-4b6a-855c-02d971c30704",
   "metadata": {
    "tags": []
   },
   "source": [
    "## merge the data frames"
   ]
  },
  {
   "cell_type": "code",
   "execution_count": 32,
   "id": "3958aa38-31ae-4121-b59d-0ee2d1271ba0",
   "metadata": {
    "tags": []
   },
   "outputs": [
    {
     "data": {
      "text/html": [
       "<div>\n",
       "<style scoped>\n",
       "    .dataframe tbody tr th:only-of-type {\n",
       "        vertical-align: middle;\n",
       "    }\n",
       "\n",
       "    .dataframe tbody tr th {\n",
       "        vertical-align: top;\n",
       "    }\n",
       "\n",
       "    .dataframe thead th {\n",
       "        text-align: right;\n",
       "    }\n",
       "</style>\n",
       "<table border=\"1\" class=\"dataframe\">\n",
       "  <thead>\n",
       "    <tr style=\"text-align: right;\">\n",
       "      <th></th>\n",
       "      <th>type</th>\n",
       "      <th>area</th>\n",
       "      <th>gfa</th>\n",
       "      <th>gla</th>\n",
       "      <th>bua</th>\n",
       "      <th>residents</th>\n",
       "      <th>employees</th>\n",
       "      <th>visitors</th>\n",
       "      <th>parking</th>\n",
       "    </tr>\n",
       "  </thead>\n",
       "  <tbody>\n",
       "    <tr>\n",
       "      <th>0</th>\n",
       "      <td>residential</td>\n",
       "      <td>100</td>\n",
       "      <td>0.6</td>\n",
       "      <td>0.6</td>\n",
       "      <td>0.6</td>\n",
       "      <td>0.6</td>\n",
       "      <td>0.6</td>\n",
       "      <td>0.6</td>\n",
       "      <td>0.6</td>\n",
       "    </tr>\n",
       "    <tr>\n",
       "      <th>1</th>\n",
       "      <td>residential</td>\n",
       "      <td>100</td>\n",
       "      <td>0.6</td>\n",
       "      <td>0.6</td>\n",
       "      <td>0.6</td>\n",
       "      <td>0.6</td>\n",
       "      <td>0.6</td>\n",
       "      <td>0.6</td>\n",
       "      <td>0.6</td>\n",
       "    </tr>\n",
       "    <tr>\n",
       "      <th>2</th>\n",
       "      <td>residential</td>\n",
       "      <td>100</td>\n",
       "      <td>0.6</td>\n",
       "      <td>0.6</td>\n",
       "      <td>0.6</td>\n",
       "      <td>0.6</td>\n",
       "      <td>0.6</td>\n",
       "      <td>0.6</td>\n",
       "      <td>0.6</td>\n",
       "    </tr>\n",
       "    <tr>\n",
       "      <th>3</th>\n",
       "      <td>residential</td>\n",
       "      <td>100</td>\n",
       "      <td>0.6</td>\n",
       "      <td>0.6</td>\n",
       "      <td>0.6</td>\n",
       "      <td>0.6</td>\n",
       "      <td>0.6</td>\n",
       "      <td>0.6</td>\n",
       "      <td>0.6</td>\n",
       "    </tr>\n",
       "    <tr>\n",
       "      <th>4</th>\n",
       "      <td>residential</td>\n",
       "      <td>100</td>\n",
       "      <td>0.6</td>\n",
       "      <td>0.6</td>\n",
       "      <td>0.6</td>\n",
       "      <td>0.6</td>\n",
       "      <td>0.6</td>\n",
       "      <td>0.6</td>\n",
       "      <td>0.6</td>\n",
       "    </tr>\n",
       "  </tbody>\n",
       "</table>\n",
       "</div>"
      ],
      "text/plain": [
       "          type  area  gfa  gla  bua  residents  employees  visitors  parking\n",
       "0  residential   100  0.6  0.6  0.6        0.6        0.6       0.6      0.6\n",
       "1  residential   100  0.6  0.6  0.6        0.6        0.6       0.6      0.6\n",
       "2  residential   100  0.6  0.6  0.6        0.6        0.6       0.6      0.6\n",
       "3  residential   100  0.6  0.6  0.6        0.6        0.6       0.6      0.6\n",
       "4  residential   100  0.6  0.6  0.6        0.6        0.6       0.6      0.6"
      ]
     },
     "execution_count": 32,
     "metadata": {},
     "output_type": "execute_result"
    }
   ],
   "source": [
    "merged = pd.merge(df_model,df_repo)\n",
    "merged.head()"
   ]
  },
  {
   "cell_type": "markdown",
   "id": "181711be-dd4f-4682-97d0-cb88ba28c182",
   "metadata": {},
   "source": [
    "\n",
    "## process the data"
   ]
  },
  {
   "cell_type": "code",
   "execution_count": 35,
   "id": "f4152d6a-ad3a-449e-b84a-9de031017c2b",
   "metadata": {
    "tags": []
   },
   "outputs": [
    {
     "data": {
      "text/html": [
       "<div>\n",
       "<style scoped>\n",
       "    .dataframe tbody tr th:only-of-type {\n",
       "        vertical-align: middle;\n",
       "    }\n",
       "\n",
       "    .dataframe tbody tr th {\n",
       "        vertical-align: top;\n",
       "    }\n",
       "\n",
       "    .dataframe thead th {\n",
       "        text-align: right;\n",
       "    }\n",
       "</style>\n",
       "<table border=\"1\" class=\"dataframe\">\n",
       "  <thead>\n",
       "    <tr style=\"text-align: right;\">\n",
       "      <th></th>\n",
       "      <th>type</th>\n",
       "      <th>area</th>\n",
       "      <th>gfa</th>\n",
       "      <th>gla</th>\n",
       "      <th>bua</th>\n",
       "      <th>residents</th>\n",
       "      <th>employees</th>\n",
       "      <th>visitors</th>\n",
       "      <th>parking</th>\n",
       "    </tr>\n",
       "  </thead>\n",
       "  <tbody>\n",
       "    <tr>\n",
       "      <th>0</th>\n",
       "      <td>residential</td>\n",
       "      <td>100</td>\n",
       "      <td>60.0</td>\n",
       "      <td>6000.0</td>\n",
       "      <td>6000.0</td>\n",
       "      <td>60.0</td>\n",
       "      <td>60.0</td>\n",
       "      <td>60.0</td>\n",
       "      <td>60.0</td>\n",
       "    </tr>\n",
       "    <tr>\n",
       "      <th>1</th>\n",
       "      <td>residential</td>\n",
       "      <td>100</td>\n",
       "      <td>60.0</td>\n",
       "      <td>6000.0</td>\n",
       "      <td>6000.0</td>\n",
       "      <td>60.0</td>\n",
       "      <td>60.0</td>\n",
       "      <td>60.0</td>\n",
       "      <td>60.0</td>\n",
       "    </tr>\n",
       "    <tr>\n",
       "      <th>2</th>\n",
       "      <td>residential</td>\n",
       "      <td>100</td>\n",
       "      <td>60.0</td>\n",
       "      <td>6000.0</td>\n",
       "      <td>6000.0</td>\n",
       "      <td>60.0</td>\n",
       "      <td>60.0</td>\n",
       "      <td>60.0</td>\n",
       "      <td>60.0</td>\n",
       "    </tr>\n",
       "    <tr>\n",
       "      <th>3</th>\n",
       "      <td>residential</td>\n",
       "      <td>100</td>\n",
       "      <td>60.0</td>\n",
       "      <td>6000.0</td>\n",
       "      <td>6000.0</td>\n",
       "      <td>60.0</td>\n",
       "      <td>60.0</td>\n",
       "      <td>60.0</td>\n",
       "      <td>60.0</td>\n",
       "    </tr>\n",
       "    <tr>\n",
       "      <th>4</th>\n",
       "      <td>residential</td>\n",
       "      <td>100</td>\n",
       "      <td>60.0</td>\n",
       "      <td>6000.0</td>\n",
       "      <td>6000.0</td>\n",
       "      <td>60.0</td>\n",
       "      <td>60.0</td>\n",
       "      <td>60.0</td>\n",
       "      <td>60.0</td>\n",
       "    </tr>\n",
       "  </tbody>\n",
       "</table>\n",
       "</div>"
      ],
      "text/plain": [
       "          type  area   gfa     gla     bua  residents  employees  visitors  \\\n",
       "0  residential   100  60.0  6000.0  6000.0       60.0       60.0      60.0   \n",
       "1  residential   100  60.0  6000.0  6000.0       60.0       60.0      60.0   \n",
       "2  residential   100  60.0  6000.0  6000.0       60.0       60.0      60.0   \n",
       "3  residential   100  60.0  6000.0  6000.0       60.0       60.0      60.0   \n",
       "4  residential   100  60.0  6000.0  6000.0       60.0       60.0      60.0   \n",
       "\n",
       "   parking  \n",
       "0     60.0  \n",
       "1     60.0  \n",
       "2     60.0  \n",
       "3     60.0  \n",
       "4     60.0  "
      ]
     },
     "execution_count": 35,
     "metadata": {},
     "output_type": "execute_result"
    }
   ],
   "source": [
    "md = merged.copy()\n",
    "md['gfa'] = md['area'] * md['gfa']\n",
    "md['gla'] = md['area'] * md['gfa']\n",
    "md['bua'] = md['area'] * md['gfa']\n",
    "md['residents'] = md['area'] * md['residents']\n",
    "md['employees'] = md['area'] * md['employees']\n",
    "md['visitors'] = md['area'] * md['visitors']\n",
    "md['parking'] = md['area'] * md['parking']\n",
    "\n",
    "md.head()"
   ]
  },
  {
   "cell_type": "markdown",
   "id": "5ab974eb-cc0d-4c40-b6dc-5ef9a7832dd4",
   "metadata": {},
   "source": [
    "## export the csv"
   ]
  },
  {
   "cell_type": "code",
   "execution_count": 34,
   "id": "7d1eb5ac-8af3-4353-b303-d99d9ab1b819",
   "metadata": {
    "tags": []
   },
   "outputs": [],
   "source": [
    "md.to_csv('output/data_dap.csv')"
   ]
  }
 ],
 "metadata": {
  "kernelspec": {
   "display_name": "Python 3 (ipykernel)",
   "language": "python",
   "name": "python3"
  },
  "language_info": {
   "codemirror_mode": {
    "name": "ipython",
    "version": 3
   },
   "file_extension": ".py",
   "mimetype": "text/x-python",
   "name": "python",
   "nbconvert_exporter": "python",
   "pygments_lexer": "ipython3",
   "version": "3.11.4"
  },
  "toc-autonumbering": true,
  "toc-showmarkdowntxt": true
 },
 "nbformat": 4,
 "nbformat_minor": 5
}
