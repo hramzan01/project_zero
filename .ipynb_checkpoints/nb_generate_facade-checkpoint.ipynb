{
 "cells": [
  {
   "cell_type": "markdown",
   "id": "1d40409e-2955-4431-9f2c-7e8d0cdddbec",
   "metadata": {},
   "source": [
    "# Generate Facade Values "
   ]
  },
  {
   "cell_type": "markdown",
   "id": "42eb7e40-068a-4c9a-ba82-2c997765505e",
   "metadata": {},
   "source": [
    "### importing libraries and data "
   ]
  },
  {
   "cell_type": "code",
   "execution_count": 6,
   "id": "3a10bb38-d133-4048-a49f-f2c3065bfd96",
   "metadata": {
    "tags": []
   },
   "outputs": [],
   "source": [
    "import pandas as pd\n",
    "import numpy as np"
   ]
  },
  {
   "cell_type": "code",
   "execution_count": 4,
   "id": "196a4799-de83-4fa9-93d6-e10456bbe89d",
   "metadata": {
    "tags": []
   },
   "outputs": [
    {
     "data": {
      "text/html": [
       "<div>\n",
       "<style scoped>\n",
       "    .dataframe tbody tr th:only-of-type {\n",
       "        vertical-align: middle;\n",
       "    }\n",
       "\n",
       "    .dataframe tbody tr th {\n",
       "        vertical-align: top;\n",
       "    }\n",
       "\n",
       "    .dataframe thead th {\n",
       "        text-align: right;\n",
       "    }\n",
       "</style>\n",
       "<table border=\"1\" class=\"dataframe\">\n",
       "  <thead>\n",
       "    <tr style=\"text-align: right;\">\n",
       "      <th></th>\n",
       "      <th>typology</th>\n",
       "      <th>area</th>\n",
       "    </tr>\n",
       "  </thead>\n",
       "  <tbody>\n",
       "    <tr>\n",
       "      <th>0</th>\n",
       "      <td>Landscape</td>\n",
       "      <td>1548.40</td>\n",
       "    </tr>\n",
       "    <tr>\n",
       "      <th>1</th>\n",
       "      <td>Landscape</td>\n",
       "      <td>3212.90</td>\n",
       "    </tr>\n",
       "    <tr>\n",
       "      <th>2</th>\n",
       "      <td>Landscape</td>\n",
       "      <td>2366.70</td>\n",
       "    </tr>\n",
       "    <tr>\n",
       "      <th>3</th>\n",
       "      <td>Landscape</td>\n",
       "      <td>511.51</td>\n",
       "    </tr>\n",
       "    <tr>\n",
       "      <th>4</th>\n",
       "      <td>Landscape</td>\n",
       "      <td>720.00</td>\n",
       "    </tr>\n",
       "    <tr>\n",
       "      <th>...</th>\n",
       "      <td>...</td>\n",
       "      <td>...</td>\n",
       "    </tr>\n",
       "    <tr>\n",
       "      <th>571</th>\n",
       "      <td>Retail</td>\n",
       "      <td>790.69</td>\n",
       "    </tr>\n",
       "    <tr>\n",
       "      <th>572</th>\n",
       "      <td>Retail</td>\n",
       "      <td>1218.20</td>\n",
       "    </tr>\n",
       "    <tr>\n",
       "      <th>573</th>\n",
       "      <td>Retail</td>\n",
       "      <td>1911.20</td>\n",
       "    </tr>\n",
       "    <tr>\n",
       "      <th>574</th>\n",
       "      <td>Retail</td>\n",
       "      <td>790.69</td>\n",
       "    </tr>\n",
       "    <tr>\n",
       "      <th>575</th>\n",
       "      <td>Retail</td>\n",
       "      <td>1150.70</td>\n",
       "    </tr>\n",
       "  </tbody>\n",
       "</table>\n",
       "<p>576 rows × 2 columns</p>\n",
       "</div>"
      ],
      "text/plain": [
       "      typology     area\n",
       "0    Landscape  1548.40\n",
       "1    Landscape  3212.90\n",
       "2    Landscape  2366.70\n",
       "3    Landscape   511.51\n",
       "4    Landscape   720.00\n",
       "..         ...      ...\n",
       "571     Retail   790.69\n",
       "572     Retail  1218.20\n",
       "573     Retail  1911.20\n",
       "574     Retail   790.69\n",
       "575     Retail  1150.70\n",
       "\n",
       "[576 rows x 2 columns]"
      ]
     },
     "execution_count": 4,
     "metadata": {},
     "output_type": "execute_result"
    }
   ],
   "source": [
    "df = pd.read_csv('data/data_rhino_hz.csv').copy()\n",
    "df"
   ]
  },
  {
   "cell_type": "markdown",
   "id": "48681ff5-63e7-4cc3-9d01-60f74912bf31",
   "metadata": {},
   "source": [
    "### Implementing the facade formula"
   ]
  },
  {
   "cell_type": "code",
   "execution_count": 22,
   "id": "30265e33-0bf4-4590-bbf7-bc300bc05c29",
   "metadata": {
    "tags": []
   },
   "outputs": [
    {
     "data": {
      "text/plain": [
       "0      629.595426\n",
       "1      906.919181\n",
       "2      778.379856\n",
       "3      361.865389\n",
       "4      429.325052\n",
       "          ...    \n",
       "571    449.907368\n",
       "572    558.443551\n",
       "573    699.476376\n",
       "574    449.907368\n",
       "575    542.751509\n",
       "Name: area, Length: 576, dtype: float64"
      ]
     },
     "execution_count": 22,
     "metadata": {},
     "output_type": "execute_result"
    }
   ],
   "source": [
    "# rationalising the formula\n",
    "area = df.area\n",
    "perimeter = np.sqrt(area) * 4\n",
    "height = 4\n",
    "\n",
    "facade = perimeter * height\n",
    "facade"
   ]
  },
  {
   "cell_type": "markdown",
   "id": "feb42955-18cb-4a93-ad1a-a5270687962d",
   "metadata": {
    "tags": []
   },
   "source": [
    "### adding column to the dataframe"
   ]
  },
  {
   "cell_type": "code",
   "execution_count": 18,
   "id": "d15ae008-ddea-4e82-8990-b0b1d684d52a",
   "metadata": {
    "tags": []
   },
   "outputs": [
    {
     "data": {
      "text/html": [
       "<div>\n",
       "<style scoped>\n",
       "    .dataframe tbody tr th:only-of-type {\n",
       "        vertical-align: middle;\n",
       "    }\n",
       "\n",
       "    .dataframe tbody tr th {\n",
       "        vertical-align: top;\n",
       "    }\n",
       "\n",
       "    .dataframe thead th {\n",
       "        text-align: right;\n",
       "    }\n",
       "</style>\n",
       "<table border=\"1\" class=\"dataframe\">\n",
       "  <thead>\n",
       "    <tr style=\"text-align: right;\">\n",
       "      <th></th>\n",
       "      <th>typology</th>\n",
       "      <th>area</th>\n",
       "      <th>facade</th>\n",
       "    </tr>\n",
       "  </thead>\n",
       "  <tbody>\n",
       "    <tr>\n",
       "      <th>0</th>\n",
       "      <td>Landscape</td>\n",
       "      <td>1548.40</td>\n",
       "      <td>629.595426</td>\n",
       "    </tr>\n",
       "    <tr>\n",
       "      <th>1</th>\n",
       "      <td>Landscape</td>\n",
       "      <td>3212.90</td>\n",
       "      <td>906.919181</td>\n",
       "    </tr>\n",
       "    <tr>\n",
       "      <th>2</th>\n",
       "      <td>Landscape</td>\n",
       "      <td>2366.70</td>\n",
       "      <td>778.379856</td>\n",
       "    </tr>\n",
       "    <tr>\n",
       "      <th>3</th>\n",
       "      <td>Landscape</td>\n",
       "      <td>511.51</td>\n",
       "      <td>361.865389</td>\n",
       "    </tr>\n",
       "    <tr>\n",
       "      <th>4</th>\n",
       "      <td>Landscape</td>\n",
       "      <td>720.00</td>\n",
       "      <td>429.325052</td>\n",
       "    </tr>\n",
       "    <tr>\n",
       "      <th>...</th>\n",
       "      <td>...</td>\n",
       "      <td>...</td>\n",
       "      <td>...</td>\n",
       "    </tr>\n",
       "    <tr>\n",
       "      <th>571</th>\n",
       "      <td>Retail</td>\n",
       "      <td>790.69</td>\n",
       "      <td>449.907368</td>\n",
       "    </tr>\n",
       "    <tr>\n",
       "      <th>572</th>\n",
       "      <td>Retail</td>\n",
       "      <td>1218.20</td>\n",
       "      <td>558.443551</td>\n",
       "    </tr>\n",
       "    <tr>\n",
       "      <th>573</th>\n",
       "      <td>Retail</td>\n",
       "      <td>1911.20</td>\n",
       "      <td>699.476376</td>\n",
       "    </tr>\n",
       "    <tr>\n",
       "      <th>574</th>\n",
       "      <td>Retail</td>\n",
       "      <td>790.69</td>\n",
       "      <td>449.907368</td>\n",
       "    </tr>\n",
       "    <tr>\n",
       "      <th>575</th>\n",
       "      <td>Retail</td>\n",
       "      <td>1150.70</td>\n",
       "      <td>542.751509</td>\n",
       "    </tr>\n",
       "  </tbody>\n",
       "</table>\n",
       "<p>576 rows × 3 columns</p>\n",
       "</div>"
      ],
      "text/plain": [
       "      typology     area      facade\n",
       "0    Landscape  1548.40  629.595426\n",
       "1    Landscape  3212.90  906.919181\n",
       "2    Landscape  2366.70  778.379856\n",
       "3    Landscape   511.51  361.865389\n",
       "4    Landscape   720.00  429.325052\n",
       "..         ...      ...         ...\n",
       "571     Retail   790.69  449.907368\n",
       "572     Retail  1218.20  558.443551\n",
       "573     Retail  1911.20  699.476376\n",
       "574     Retail   790.69  449.907368\n",
       "575     Retail  1150.70  542.751509\n",
       "\n",
       "[576 rows x 3 columns]"
      ]
     },
     "execution_count": 18,
     "metadata": {},
     "output_type": "execute_result"
    }
   ],
   "source": [
    "df['facade'] = facade\n",
    "\n",
    "df"
   ]
  },
  {
   "cell_type": "markdown",
   "id": "9952147a-7669-4d6f-80d3-16e5d04d7287",
   "metadata": {},
   "source": [
    "### merging into function"
   ]
  },
  {
   "cell_type": "code",
   "execution_count": 24,
   "id": "2c6f1eb8-c787-4947-81a8-f751f9a42936",
   "metadata": {
    "tags": []
   },
   "outputs": [],
   "source": [
    "import pandas as pd\n",
    "import numpy as np\n",
    "\n",
    "def generate_facade(df: pd.DataFrame, area: pd.Series, height: int):\n",
    "    area = df.area\n",
    "    perimeter = np.sqrt(area) * 4\n",
    "    facade = perimeter * height\n",
    "    df['facade'] = facade\n",
    "    \n",
    "    return df"
   ]
  }
 ],
 "metadata": {
  "kernelspec": {
   "display_name": "Python 3 (ipykernel)",
   "language": "python",
   "name": "python3"
  },
  "language_info": {
   "codemirror_mode": {
    "name": "ipython",
    "version": 3
   },
   "file_extension": ".py",
   "mimetype": "text/x-python",
   "name": "python",
   "nbconvert_exporter": "python",
   "pygments_lexer": "ipython3",
   "version": "3.11.5"
  }
 },
 "nbformat": 4,
 "nbformat_minor": 5
}
