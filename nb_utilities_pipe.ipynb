{
 "cells": [
  {
   "cell_type": "markdown",
   "metadata": {},
   "source": [
    "---"
   ]
  },
  {
   "cell_type": "markdown",
   "metadata": {},
   "source": [
    "# Utilities Pipeline"
   ]
  },
  {
   "cell_type": "markdown",
   "metadata": {},
   "source": [
    "### 01 Preprocessor"
   ]
  },
  {
   "cell_type": "code",
   "execution_count": 40,
   "metadata": {},
   "outputs": [],
   "source": [
    "from sklearn.pipeline import make_pipeline\n",
    "from sklearn.pipeline import make_union\n",
    "from sklearn.compose import make_column_transformer\n",
    "from sklearn.compose import make_column_selector\n",
    "\n",
    "from sklearn.preprocessing import StandardScaler\n",
    "from sklearn.preprocessing import OneHotEncoder\n",
    "from sklearn.impute import SimpleImputer\n"
   ]
  },
  {
   "cell_type": "code",
   "execution_count": 41,
   "metadata": {},
   "outputs": [],
   "source": [
    "import pandas as pd\n",
    "from sklearn.model_selection import train_test_split\n",
    "\n",
    "## Would load cleaned data using '''load.py''' once data cleaning is done\n",
    "data = pd.read_csv('data/raw/csv/data_ext_nyc.csv', low_memory=False)\n",
    "\n",
    "# create X and y\n",
    "X = data.drop(columns='Electricity Use - Grid Purchase (kWh)')\n",
    "y = data['Electricity Use - Grid Purchase (kWh)'].fillna(0)\n",
    "\n",
    "# create train and test\n",
    "X_train, X_test, y_train, y_test = train_test_split(X, y, test_size=0.3)"
   ]
  },
  {
   "cell_type": "code",
   "execution_count": 45,
   "metadata": {},
   "outputs": [
    {
     "data": {
      "text/html": [
       "<style>#sk-container-id-7 {color: black;background-color: white;}#sk-container-id-7 pre{padding: 0;}#sk-container-id-7 div.sk-toggleable {background-color: white;}#sk-container-id-7 label.sk-toggleable__label {cursor: pointer;display: block;width: 100%;margin-bottom: 0;padding: 0.3em;box-sizing: border-box;text-align: center;}#sk-container-id-7 label.sk-toggleable__label-arrow:before {content: \"▸\";float: left;margin-right: 0.25em;color: #696969;}#sk-container-id-7 label.sk-toggleable__label-arrow:hover:before {color: black;}#sk-container-id-7 div.sk-estimator:hover label.sk-toggleable__label-arrow:before {color: black;}#sk-container-id-7 div.sk-toggleable__content {max-height: 0;max-width: 0;overflow: hidden;text-align: left;background-color: #f0f8ff;}#sk-container-id-7 div.sk-toggleable__content pre {margin: 0.2em;color: black;border-radius: 0.25em;background-color: #f0f8ff;}#sk-container-id-7 input.sk-toggleable__control:checked~div.sk-toggleable__content {max-height: 200px;max-width: 100%;overflow: auto;}#sk-container-id-7 input.sk-toggleable__control:checked~label.sk-toggleable__label-arrow:before {content: \"▾\";}#sk-container-id-7 div.sk-estimator input.sk-toggleable__control:checked~label.sk-toggleable__label {background-color: #d4ebff;}#sk-container-id-7 div.sk-label input.sk-toggleable__control:checked~label.sk-toggleable__label {background-color: #d4ebff;}#sk-container-id-7 input.sk-hidden--visually {border: 0;clip: rect(1px 1px 1px 1px);clip: rect(1px, 1px, 1px, 1px);height: 1px;margin: -1px;overflow: hidden;padding: 0;position: absolute;width: 1px;}#sk-container-id-7 div.sk-estimator {font-family: monospace;background-color: #f0f8ff;border: 1px dotted black;border-radius: 0.25em;box-sizing: border-box;margin-bottom: 0.5em;}#sk-container-id-7 div.sk-estimator:hover {background-color: #d4ebff;}#sk-container-id-7 div.sk-parallel-item::after {content: \"\";width: 100%;border-bottom: 1px solid gray;flex-grow: 1;}#sk-container-id-7 div.sk-label:hover label.sk-toggleable__label {background-color: #d4ebff;}#sk-container-id-7 div.sk-serial::before {content: \"\";position: absolute;border-left: 1px solid gray;box-sizing: border-box;top: 0;bottom: 0;left: 50%;z-index: 0;}#sk-container-id-7 div.sk-serial {display: flex;flex-direction: column;align-items: center;background-color: white;padding-right: 0.2em;padding-left: 0.2em;position: relative;}#sk-container-id-7 div.sk-item {position: relative;z-index: 1;}#sk-container-id-7 div.sk-parallel {display: flex;align-items: stretch;justify-content: center;background-color: white;position: relative;}#sk-container-id-7 div.sk-item::before, #sk-container-id-7 div.sk-parallel-item::before {content: \"\";position: absolute;border-left: 1px solid gray;box-sizing: border-box;top: 0;bottom: 0;left: 50%;z-index: -1;}#sk-container-id-7 div.sk-parallel-item {display: flex;flex-direction: column;z-index: 1;position: relative;background-color: white;}#sk-container-id-7 div.sk-parallel-item:first-child::after {align-self: flex-end;width: 50%;}#sk-container-id-7 div.sk-parallel-item:last-child::after {align-self: flex-start;width: 50%;}#sk-container-id-7 div.sk-parallel-item:only-child::after {width: 0;}#sk-container-id-7 div.sk-dashed-wrapped {border: 1px dashed gray;margin: 0 0.4em 0.5em 0.4em;box-sizing: border-box;padding-bottom: 0.4em;background-color: white;}#sk-container-id-7 div.sk-label label {font-family: monospace;font-weight: bold;display: inline-block;line-height: 1.2em;}#sk-container-id-7 div.sk-label-container {text-align: center;}#sk-container-id-7 div.sk-container {/* jupyter's `normalize.less` sets `[hidden] { display: none; }` but bootstrap.min.css set `[hidden] { display: none !important; }` so we also need the `!important` here to be able to override the default hidden behavior on the sphinx rendered scikit-learn.org. See: https://github.com/scikit-learn/scikit-learn/issues/21755 */display: inline-block !important;position: relative;}#sk-container-id-7 div.sk-text-repr-fallback {display: none;}</style><div id=\"sk-container-id-7\" class=\"sk-top-container\"><div class=\"sk-text-repr-fallback\"><pre>FeatureUnion(transformer_list=[(&#x27;columntransformer&#x27;,\n",
       "                                ColumnTransformer(remainder=&#x27;passthrough&#x27;,\n",
       "                                                  transformers=[(&#x27;pipeline&#x27;,\n",
       "                                                                 Pipeline(steps=[(&#x27;simpleimputer&#x27;,\n",
       "                                                                                  SimpleImputer()),\n",
       "                                                                                 (&#x27;standardscaler&#x27;,\n",
       "                                                                                  StandardScaler())]),\n",
       "                                                                 &lt;sklearn.compose._column_transformer.make_column_selector object at 0x000001EDCA770950&gt;),\n",
       "                                                                (&#x27;onehotencoder&#x27;,\n",
       "                                                                 OneHotEncoder(handle_unknown=&#x27;ignore&#x27;),\n",
       "                                                                 &lt;sklearn.compose._column_transformer.make_column_selector object at 0x000001EDCA7712D0&gt;)]))])</pre><b>In a Jupyter environment, please rerun this cell to show the HTML representation or trust the notebook. <br />On GitHub, the HTML representation is unable to render, please try loading this page with nbviewer.org.</b></div><div class=\"sk-container\" hidden><div class=\"sk-item sk-dashed-wrapped\"><div class=\"sk-label-container\"><div class=\"sk-label sk-toggleable\"><input class=\"sk-toggleable__control sk-hidden--visually\" id=\"sk-estimator-id-53\" type=\"checkbox\" ><label for=\"sk-estimator-id-53\" class=\"sk-toggleable__label sk-toggleable__label-arrow\">FeatureUnion</label><div class=\"sk-toggleable__content\"><pre>FeatureUnion(transformer_list=[(&#x27;columntransformer&#x27;,\n",
       "                                ColumnTransformer(remainder=&#x27;passthrough&#x27;,\n",
       "                                                  transformers=[(&#x27;pipeline&#x27;,\n",
       "                                                                 Pipeline(steps=[(&#x27;simpleimputer&#x27;,\n",
       "                                                                                  SimpleImputer()),\n",
       "                                                                                 (&#x27;standardscaler&#x27;,\n",
       "                                                                                  StandardScaler())]),\n",
       "                                                                 &lt;sklearn.compose._column_transformer.make_column_selector object at 0x000001EDCA770950&gt;),\n",
       "                                                                (&#x27;onehotencoder&#x27;,\n",
       "                                                                 OneHotEncoder(handle_unknown=&#x27;ignore&#x27;),\n",
       "                                                                 &lt;sklearn.compose._column_transformer.make_column_selector object at 0x000001EDCA7712D0&gt;)]))])</pre></div></div></div><div class=\"sk-parallel\"><div class=\"sk-parallel-item\"><div class=\"sk-item\"><div class=\"sk-label-container\"><div class=\"sk-label sk-toggleable\"><label>columntransformer</label></div></div><div class=\"sk-serial\"><div class=\"sk-item sk-dashed-wrapped\"><div class=\"sk-parallel\"><div class=\"sk-parallel-item\"><div class=\"sk-item\"><div class=\"sk-label-container\"><div class=\"sk-label sk-toggleable\"><input class=\"sk-toggleable__control sk-hidden--visually\" id=\"sk-estimator-id-54\" type=\"checkbox\" ><label for=\"sk-estimator-id-54\" class=\"sk-toggleable__label sk-toggleable__label-arrow\">pipeline</label><div class=\"sk-toggleable__content\"><pre>&lt;sklearn.compose._column_transformer.make_column_selector object at 0x000001EDCA770950&gt;</pre></div></div></div><div class=\"sk-serial\"><div class=\"sk-item\"><div class=\"sk-serial\"><div class=\"sk-item\"><div class=\"sk-estimator sk-toggleable\"><input class=\"sk-toggleable__control sk-hidden--visually\" id=\"sk-estimator-id-55\" type=\"checkbox\" ><label for=\"sk-estimator-id-55\" class=\"sk-toggleable__label sk-toggleable__label-arrow\">SimpleImputer</label><div class=\"sk-toggleable__content\"><pre>SimpleImputer()</pre></div></div></div><div class=\"sk-item\"><div class=\"sk-estimator sk-toggleable\"><input class=\"sk-toggleable__control sk-hidden--visually\" id=\"sk-estimator-id-56\" type=\"checkbox\" ><label for=\"sk-estimator-id-56\" class=\"sk-toggleable__label sk-toggleable__label-arrow\">StandardScaler</label><div class=\"sk-toggleable__content\"><pre>StandardScaler()</pre></div></div></div></div></div></div></div></div><div class=\"sk-parallel-item\"><div class=\"sk-item\"><div class=\"sk-label-container\"><div class=\"sk-label sk-toggleable\"><input class=\"sk-toggleable__control sk-hidden--visually\" id=\"sk-estimator-id-57\" type=\"checkbox\" ><label for=\"sk-estimator-id-57\" class=\"sk-toggleable__label sk-toggleable__label-arrow\">onehotencoder</label><div class=\"sk-toggleable__content\"><pre>&lt;sklearn.compose._column_transformer.make_column_selector object at 0x000001EDCA7712D0&gt;</pre></div></div></div><div class=\"sk-serial\"><div class=\"sk-item\"><div class=\"sk-estimator sk-toggleable\"><input class=\"sk-toggleable__control sk-hidden--visually\" id=\"sk-estimator-id-58\" type=\"checkbox\" ><label for=\"sk-estimator-id-58\" class=\"sk-toggleable__label sk-toggleable__label-arrow\">OneHotEncoder</label><div class=\"sk-toggleable__content\"><pre>OneHotEncoder(handle_unknown=&#x27;ignore&#x27;)</pre></div></div></div></div></div></div><div class=\"sk-parallel-item\"><div class=\"sk-item\"><div class=\"sk-label-container\"><div class=\"sk-label sk-toggleable\"><input class=\"sk-toggleable__control sk-hidden--visually\" id=\"sk-estimator-id-59\" type=\"checkbox\" ><label for=\"sk-estimator-id-59\" class=\"sk-toggleable__label sk-toggleable__label-arrow\">remainder</label><div class=\"sk-toggleable__content\"><pre></pre></div></div></div><div class=\"sk-serial\"><div class=\"sk-item\"><div class=\"sk-estimator sk-toggleable\"><input class=\"sk-toggleable__control sk-hidden--visually\" id=\"sk-estimator-id-60\" type=\"checkbox\" ><label for=\"sk-estimator-id-60\" class=\"sk-toggleable__label sk-toggleable__label-arrow\">passthrough</label><div class=\"sk-toggleable__content\"><pre>passthrough</pre></div></div></div></div></div></div></div></div></div></div></div></div></div></div></div>"
      ],
      "text/plain": [
       "FeatureUnion(transformer_list=[('columntransformer',\n",
       "                                ColumnTransformer(remainder='passthrough',\n",
       "                                                  transformers=[('pipeline',\n",
       "                                                                 Pipeline(steps=[('simpleimputer',\n",
       "                                                                                  SimpleImputer()),\n",
       "                                                                                 ('standardscaler',\n",
       "                                                                                  StandardScaler())]),\n",
       "                                                                 <sklearn.compose._column_transformer.make_column_selector object at 0x000001EDCA770950>),\n",
       "                                                                ('onehotencoder',\n",
       "                                                                 OneHotEncoder(handle_unknown='ignore'),\n",
       "                                                                 <sklearn.compose._column_transformer.make_column_selector object at 0x000001EDCA7712D0>)]))])"
      ]
     },
     "execution_count": 45,
     "metadata": {},
     "output_type": "execute_result"
    }
   ],
   "source": [
    "num_col = make_column_selector(dtype_include=['float64'])\n",
    "cat_col = make_column_selector(dtype_include=['object','bool'])\n",
    "\n",
    "num_transformer = make_pipeline(SimpleImputer(), StandardScaler())\n",
    "cat_transformer = OneHotEncoder(handle_unknown='ignore',)\n",
    "\n",
    "preproc_basic = make_column_transformer(\n",
    "    (num_transformer, num_col),\n",
    "    (cat_transformer, cat_col),\n",
    "    remainder='passthrough'\n",
    ")\n",
    "\n",
    "preproc_full = make_union(preproc_basic) # can add new column feature here too\n",
    "preproc_full"
   ]
  },
  {
   "cell_type": "markdown",
   "metadata": {},
   "source": [
    "### 02 Fitting Model "
   ]
  },
  {
   "cell_type": "code",
   "execution_count": 50,
   "metadata": {},
   "outputs": [
    {
     "name": "stdout",
     "output_type": "stream",
     "text": [
      "score: -9.311187681956296e+29\n",
      "prediction: [-3.47267854e+21]\n"
     ]
    }
   ],
   "source": [
    "from sklearn.linear_model import SGDRegressor\n",
    "\n",
    "pipeline = make_pipeline(preproc_full, SGDRegressor()))\n",
    "pipeline\n",
    "\n",
    "# train pipeline\n",
    "pipeline.fit(X_train, y_train)\n",
    "\n",
    "# Score model\n",
    "print(f'score: {pipeline.score(X_test,y_test)}')\n",
    "pipeline\n",
    "\n",
    "# Make predictions\n",
    "print(f'prediction: {pipeline.predict(X_test.iloc[0:1])}')\n"
   ]
  },
  {
   "cell_type": "markdown",
   "metadata": {},
   "source": [
    "### 03 Optimising pipeline"
   ]
  },
  {
   "cell_type": "code",
   "execution_count": 54,
   "metadata": {},
   "outputs": [
    {
     "data": {
      "text/plain": [
       "{'memory': None,\n",
       " 'steps': [('featureunion',\n",
       "   FeatureUnion(transformer_list=[('columntransformer',\n",
       "                                   ColumnTransformer(remainder='passthrough',\n",
       "                                                     transformers=[('pipeline',\n",
       "                                                                    Pipeline(steps=[('simpleimputer',\n",
       "                                                                                     SimpleImputer()),\n",
       "                                                                                    ('standardscaler',\n",
       "                                                                                     StandardScaler())]),\n",
       "                                                                    <sklearn.compose._column_transformer.make_column_selector object at 0x000001EDCA770950>),\n",
       "                                                                   ('onehotencoder',\n",
       "                                                                    OneHotEncoder(handle_unknown='ignore'),\n",
       "                                                                    <sklearn.compose._column_transformer.make_column_selector object at 0x000001EDCA7712D0>)]))])),\n",
       "  ('sgdregressor', SGDRegressor())],\n",
       " 'verbose': False,\n",
       " 'featureunion': FeatureUnion(transformer_list=[('columntransformer',\n",
       "                                 ColumnTransformer(remainder='passthrough',\n",
       "                                                   transformers=[('pipeline',\n",
       "                                                                  Pipeline(steps=[('simpleimputer',\n",
       "                                                                                   SimpleImputer()),\n",
       "                                                                                  ('standardscaler',\n",
       "                                                                                   StandardScaler())]),\n",
       "                                                                  <sklearn.compose._column_transformer.make_column_selector object at 0x000001EDCA770950>),\n",
       "                                                                 ('onehotencoder',\n",
       "                                                                  OneHotEncoder(handle_unknown='ignore'),\n",
       "                                                                  <sklearn.compose._column_transformer.make_column_selector object at 0x000001EDCA7712D0>)]))]),\n",
       " 'sgdregressor': SGDRegressor(),\n",
       " 'featureunion__n_jobs': None,\n",
       " 'featureunion__transformer_list': [('columntransformer',\n",
       "   ColumnTransformer(remainder='passthrough',\n",
       "                     transformers=[('pipeline',\n",
       "                                    Pipeline(steps=[('simpleimputer',\n",
       "                                                     SimpleImputer()),\n",
       "                                                    ('standardscaler',\n",
       "                                                     StandardScaler())]),\n",
       "                                    <sklearn.compose._column_transformer.make_column_selector object at 0x000001EDCA770950>),\n",
       "                                   ('onehotencoder',\n",
       "                                    OneHotEncoder(handle_unknown='ignore'),\n",
       "                                    <sklearn.compose._column_transformer.make_column_selector object at 0x000001EDCA7712D0>)]))],\n",
       " 'featureunion__transformer_weights': None,\n",
       " 'featureunion__verbose': False,\n",
       " 'featureunion__columntransformer': ColumnTransformer(remainder='passthrough',\n",
       "                   transformers=[('pipeline',\n",
       "                                  Pipeline(steps=[('simpleimputer',\n",
       "                                                   SimpleImputer()),\n",
       "                                                  ('standardscaler',\n",
       "                                                   StandardScaler())]),\n",
       "                                  <sklearn.compose._column_transformer.make_column_selector object at 0x000001EDCA770950>),\n",
       "                                 ('onehotencoder',\n",
       "                                  OneHotEncoder(handle_unknown='ignore'),\n",
       "                                  <sklearn.compose._column_transformer.make_column_selector object at 0x000001EDCA7712D0>)]),\n",
       " 'featureunion__columntransformer__n_jobs': None,\n",
       " 'featureunion__columntransformer__remainder': 'passthrough',\n",
       " 'featureunion__columntransformer__sparse_threshold': 0.3,\n",
       " 'featureunion__columntransformer__transformer_weights': None,\n",
       " 'featureunion__columntransformer__transformers': [('pipeline',\n",
       "   Pipeline(steps=[('simpleimputer', SimpleImputer()),\n",
       "                   ('standardscaler', StandardScaler())]),\n",
       "   <sklearn.compose._column_transformer.make_column_selector at 0x1edca770950>),\n",
       "  ('onehotencoder',\n",
       "   OneHotEncoder(handle_unknown='ignore'),\n",
       "   <sklearn.compose._column_transformer.make_column_selector at 0x1edca7712d0>)],\n",
       " 'featureunion__columntransformer__verbose': False,\n",
       " 'featureunion__columntransformer__verbose_feature_names_out': True,\n",
       " 'featureunion__columntransformer__pipeline': Pipeline(steps=[('simpleimputer', SimpleImputer()),\n",
       "                 ('standardscaler', StandardScaler())]),\n",
       " 'featureunion__columntransformer__onehotencoder': OneHotEncoder(handle_unknown='ignore'),\n",
       " 'featureunion__columntransformer__pipeline__memory': None,\n",
       " 'featureunion__columntransformer__pipeline__steps': [('simpleimputer',\n",
       "   SimpleImputer()),\n",
       "  ('standardscaler', StandardScaler())],\n",
       " 'featureunion__columntransformer__pipeline__verbose': False,\n",
       " 'featureunion__columntransformer__pipeline__simpleimputer': SimpleImputer(),\n",
       " 'featureunion__columntransformer__pipeline__standardscaler': StandardScaler(),\n",
       " 'featureunion__columntransformer__pipeline__simpleimputer__add_indicator': False,\n",
       " 'featureunion__columntransformer__pipeline__simpleimputer__copy': True,\n",
       " 'featureunion__columntransformer__pipeline__simpleimputer__fill_value': None,\n",
       " 'featureunion__columntransformer__pipeline__simpleimputer__keep_empty_features': False,\n",
       " 'featureunion__columntransformer__pipeline__simpleimputer__missing_values': nan,\n",
       " 'featureunion__columntransformer__pipeline__simpleimputer__strategy': 'mean',\n",
       " 'featureunion__columntransformer__pipeline__simpleimputer__verbose': 'deprecated',\n",
       " 'featureunion__columntransformer__pipeline__standardscaler__copy': True,\n",
       " 'featureunion__columntransformer__pipeline__standardscaler__with_mean': True,\n",
       " 'featureunion__columntransformer__pipeline__standardscaler__with_std': True,\n",
       " 'featureunion__columntransformer__onehotencoder__categories': 'auto',\n",
       " 'featureunion__columntransformer__onehotencoder__drop': None,\n",
       " 'featureunion__columntransformer__onehotencoder__dtype': numpy.float64,\n",
       " 'featureunion__columntransformer__onehotencoder__handle_unknown': 'ignore',\n",
       " 'featureunion__columntransformer__onehotencoder__max_categories': None,\n",
       " 'featureunion__columntransformer__onehotencoder__min_frequency': None,\n",
       " 'featureunion__columntransformer__onehotencoder__sparse': 'deprecated',\n",
       " 'featureunion__columntransformer__onehotencoder__sparse_output': True,\n",
       " 'sgdregressor__alpha': 0.0001,\n",
       " 'sgdregressor__average': False,\n",
       " 'sgdregressor__early_stopping': False,\n",
       " 'sgdregressor__epsilon': 0.1,\n",
       " 'sgdregressor__eta0': 0.01,\n",
       " 'sgdregressor__fit_intercept': True,\n",
       " 'sgdregressor__l1_ratio': 0.15,\n",
       " 'sgdregressor__learning_rate': 'invscaling',\n",
       " 'sgdregressor__loss': 'squared_error',\n",
       " 'sgdregressor__max_iter': 1000,\n",
       " 'sgdregressor__n_iter_no_change': 5,\n",
       " 'sgdregressor__penalty': 'l2',\n",
       " 'sgdregressor__power_t': 0.25,\n",
       " 'sgdregressor__random_state': None,\n",
       " 'sgdregressor__shuffle': True,\n",
       " 'sgdregressor__tol': 0.001,\n",
       " 'sgdregressor__validation_fraction': 0.1,\n",
       " 'sgdregressor__verbose': 0,\n",
       " 'sgdregressor__warm_start': False}"
      ]
     },
     "execution_count": 54,
     "metadata": {},
     "output_type": "execute_result"
    }
   ],
   "source": [
    "# which params are searchable\n",
    "pipeline.get_params()"
   ]
  },
  {
   "cell_type": "code",
   "execution_count": 61,
   "metadata": {},
   "outputs": [
    {
     "name": "stderr",
     "output_type": "stream",
     "text": [
      "c:\\Users\\hramzan\\AppData\\Local\\anaconda3\\Lib\\site-packages\\sklearn\\linear_model\\_stochastic_gradient.py:1548: ConvergenceWarning: Maximum number of iteration reached before convergence. Consider increasing max_iter to improve the fit.\n",
      "  warnings.warn(\n",
      "c:\\Users\\hramzan\\AppData\\Local\\anaconda3\\Lib\\site-packages\\sklearn\\linear_model\\_stochastic_gradient.py:1548: ConvergenceWarning: Maximum number of iteration reached before convergence. Consider increasing max_iter to improve the fit.\n",
      "  warnings.warn(\n",
      "c:\\Users\\hramzan\\AppData\\Local\\anaconda3\\Lib\\site-packages\\sklearn\\linear_model\\_stochastic_gradient.py:1548: ConvergenceWarning: Maximum number of iteration reached before convergence. Consider increasing max_iter to improve the fit.\n",
      "  warnings.warn(\n",
      "c:\\Users\\hramzan\\AppData\\Local\\anaconda3\\Lib\\site-packages\\sklearn\\linear_model\\_stochastic_gradient.py:1548: ConvergenceWarning: Maximum number of iteration reached before convergence. Consider increasing max_iter to improve the fit.\n",
      "  warnings.warn(\n",
      "c:\\Users\\hramzan\\AppData\\Local\\anaconda3\\Lib\\site-packages\\sklearn\\linear_model\\_stochastic_gradient.py:1548: ConvergenceWarning: Maximum number of iteration reached before convergence. Consider increasing max_iter to improve the fit.\n",
      "  warnings.warn(\n",
      "c:\\Users\\hramzan\\AppData\\Local\\anaconda3\\Lib\\site-packages\\sklearn\\linear_model\\_stochastic_gradient.py:1548: ConvergenceWarning: Maximum number of iteration reached before convergence. Consider increasing max_iter to improve the fit.\n",
      "  warnings.warn(\n",
      "c:\\Users\\hramzan\\AppData\\Local\\anaconda3\\Lib\\site-packages\\sklearn\\linear_model\\_stochastic_gradient.py:1548: ConvergenceWarning: Maximum number of iteration reached before convergence. Consider increasing max_iter to improve the fit.\n",
      "  warnings.warn(\n",
      "c:\\Users\\hramzan\\AppData\\Local\\anaconda3\\Lib\\site-packages\\sklearn\\linear_model\\_stochastic_gradient.py:1548: ConvergenceWarning: Maximum number of iteration reached before convergence. Consider increasing max_iter to improve the fit.\n",
      "  warnings.warn(\n",
      "c:\\Users\\hramzan\\AppData\\Local\\anaconda3\\Lib\\site-packages\\sklearn\\linear_model\\_stochastic_gradient.py:1548: ConvergenceWarning: Maximum number of iteration reached before convergence. Consider increasing max_iter to improve the fit.\n",
      "  warnings.warn(\n",
      "c:\\Users\\hramzan\\AppData\\Local\\anaconda3\\Lib\\site-packages\\sklearn\\linear_model\\_stochastic_gradient.py:1548: ConvergenceWarning: Maximum number of iteration reached before convergence. Consider increasing max_iter to improve the fit.\n",
      "  warnings.warn(\n",
      "c:\\Users\\hramzan\\AppData\\Local\\anaconda3\\Lib\\site-packages\\sklearn\\model_selection\\_validation.py:378: FitFailedWarning: \n",
      "5 fits failed out of a total of 15.\n",
      "The score on these train-test partitions for these parameters will be set to nan.\n",
      "If these failures are not expected, you can try to debug them by setting error_score='raise'.\n",
      "\n",
      "Below are more details about the failures:\n",
      "--------------------------------------------------------------------------------\n",
      "5 fits failed with the following error:\n",
      "Traceback (most recent call last):\n",
      "  File \"c:\\Users\\hramzan\\AppData\\Local\\anaconda3\\Lib\\site-packages\\sklearn\\model_selection\\_validation.py\", line 686, in _fit_and_score\n",
      "    estimator.fit(X_train, y_train, **fit_params)\n",
      "  File \"c:\\Users\\hramzan\\AppData\\Local\\anaconda3\\Lib\\site-packages\\sklearn\\pipeline.py\", line 405, in fit\n",
      "    self._final_estimator.fit(Xt, y, **fit_params_last_step)\n",
      "  File \"c:\\Users\\hramzan\\AppData\\Local\\anaconda3\\Lib\\site-packages\\sklearn\\linear_model\\_stochastic_gradient.py\", line 1582, in fit\n",
      "    self._validate_params()\n",
      "  File \"c:\\Users\\hramzan\\AppData\\Local\\anaconda3\\Lib\\site-packages\\sklearn\\base.py\", line 600, in _validate_params\n",
      "    validate_parameter_constraints(\n",
      "  File \"c:\\Users\\hramzan\\AppData\\Local\\anaconda3\\Lib\\site-packages\\sklearn\\utils\\_param_validation.py\", line 97, in validate_parameter_constraints\n",
      "    raise InvalidParameterError(\n",
      "sklearn.utils._param_validation.InvalidParameterError: The 'penalty' parameter of SGDRegressor must be a str among {'elasticnet', 'l1', 'l2'} or None. Got 'None' instead.\n",
      "\n",
      "  warnings.warn(some_fits_failed_message, FitFailedWarning)\n",
      "c:\\Users\\hramzan\\AppData\\Local\\anaconda3\\Lib\\site-packages\\sklearn\\model_selection\\_search.py:952: UserWarning: One or more of the test scores are non-finite: [-680178.80566826              nan   -4689.23456256]\n",
      "  warnings.warn(\n",
      "c:\\Users\\hramzan\\AppData\\Local\\anaconda3\\Lib\\site-packages\\sklearn\\linear_model\\_stochastic_gradient.py:1548: ConvergenceWarning: Maximum number of iteration reached before convergence. Consider increasing max_iter to improve the fit.\n",
      "  warnings.warn(\n"
     ]
    },
    {
     "data": {
      "text/plain": [
       "{'sgdregressor__penalty': 'elasticnet',\n",
       " 'sgdregressor__loss': 'huber',\n",
       " 'sgdregressor__alpha': 0.001,\n",
       " 'featureunion__columntransformer__pipeline__simpleimputer__strategy': 'most_frequent'}"
      ]
     },
     "execution_count": 61,
     "metadata": {},
     "output_type": "execute_result"
    }
   ],
   "source": [
    "from sklearn.model_selection import RandomizedSearchCV\n",
    "\n",
    "# which params are searchable\n",
    "pipeline.get_params()\n",
    "\n",
    "# define params to search \n",
    "param_distributions = {\n",
    "    'featureunion__columntransformer__pipeline__simpleimputer__strategy': ['mean','median','most_frequent'],\n",
    "    'sgdregressor__alpha': [0.0001,0.001, 0.01, 0.1],\n",
    "    'sgdregressor__loss': ['huber', 'epsilon_insensitive', 'squared_epsilon_insensitive'],\n",
    "    'sgdregressor__penalty': ['l2', 'l1', 'elasticnet', 'None']\n",
    "}\n",
    "\n",
    "randomized_search = RandomizedSearchCV(\n",
    "    pipeline,\n",
    "    param_distributions=param_distributions,\n",
    "    n_iter=10,\n",
    "    cv=5,\n",
    "    scoring='r2'\n",
    ")\n",
    "\n",
    "randomized_search.fit(X_train,y_train)\n",
    "randomized_search.best_params_"
   ]
  }
 ],
 "metadata": {
  "kernelspec": {
   "display_name": "base",
   "language": "python",
   "name": "python3"
  },
  "language_info": {
   "codemirror_mode": {
    "name": "ipython",
    "version": 3
   },
   "file_extension": ".py",
   "mimetype": "text/x-python",
   "name": "python",
   "nbconvert_exporter": "python",
   "pygments_lexer": "ipython3",
   "version": "3.11.5"
  }
 },
 "nbformat": 4,
 "nbformat_minor": 2
}
