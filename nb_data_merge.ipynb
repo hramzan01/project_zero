{
 "cells": [
  {
   "cell_type": "markdown",
   "id": "726c8610-b303-4656-925c-7f9241b0c457",
   "metadata": {},
   "source": [
    "# DAP Zero - Data Processing"
   ]
  },
  {
   "cell_type": "markdown",
   "id": "fcf34314-17df-423e-8487-fac665178561",
   "metadata": {
    "tags": []
   },
   "source": [
    "\n",
    "## Import the Data"
   ]
  },
  {
   "cell_type": "code",
   "execution_count": null,
   "id": "7075b907-f664-4586-951f-bfb58d5af4e0",
   "metadata": {
    "tags": []
   },
   "outputs": [],
   "source": [
    "import pandas as pd\n",
    "import numpy as np"
   ]
  },
  {
   "cell_type": "code",
   "execution_count": null,
   "id": "f4978c15-158e-4712-92e3-33af179c74f0",
   "metadata": {
    "tags": []
   },
   "outputs": [],
   "source": [
    "df_model = pd.read_csv('data_rhino_hz.csv')\n",
    "df_repo = pd.read_csv('data_test_repo.csv')"
   ]
  },
  {
   "cell_type": "code",
   "execution_count": null,
   "id": "0c2b25d8-dd1e-4d0e-9be9-94aff7b608a2",
   "metadata": {
    "tags": []
   },
   "outputs": [
    {
     "data": {
      "text/html": [
       "<div>\n",
       "<style scoped>\n",
       "    .dataframe tbody tr th:only-of-type {\n",
       "        vertical-align: middle;\n",
       "    }\n",
       "\n",
       "    .dataframe tbody tr th {\n",
       "        vertical-align: top;\n",
       "    }\n",
       "\n",
       "    .dataframe thead th {\n",
       "        text-align: right;\n",
       "    }\n",
       "</style>\n",
       "<table border=\"1\" class=\"dataframe\">\n",
       "  <thead>\n",
       "    <tr style=\"text-align: right;\">\n",
       "      <th></th>\n",
       "      <th>typology</th>\n",
       "      <th>area</th>\n",
       "    </tr>\n",
       "  </thead>\n",
       "  <tbody>\n",
       "    <tr>\n",
       "      <th>0</th>\n",
       "      <td>landscape</td>\n",
       "      <td>1548.40</td>\n",
       "    </tr>\n",
       "    <tr>\n",
       "      <th>1</th>\n",
       "      <td>landscape</td>\n",
       "      <td>3212.90</td>\n",
       "    </tr>\n",
       "    <tr>\n",
       "      <th>2</th>\n",
       "      <td>landscape</td>\n",
       "      <td>2366.70</td>\n",
       "    </tr>\n",
       "    <tr>\n",
       "      <th>3</th>\n",
       "      <td>landscape</td>\n",
       "      <td>511.51</td>\n",
       "    </tr>\n",
       "    <tr>\n",
       "      <th>4</th>\n",
       "      <td>landscape</td>\n",
       "      <td>720.00</td>\n",
       "    </tr>\n",
       "  </tbody>\n",
       "</table>\n",
       "</div>"
      ],
      "text/plain": [
       "    typology     area\n",
       "0  landscape  1548.40\n",
       "1  landscape  3212.90\n",
       "2  landscape  2366.70\n",
       "3  landscape   511.51\n",
       "4  landscape   720.00"
      ]
     },
     "execution_count": 61,
     "metadata": {},
     "output_type": "execute_result"
    }
   ],
   "source": [
    "df_model['typology'] = df_model['typology'].str.lower()\n",
    "df_model.head()"
   ]
  },
  {
   "cell_type": "code",
   "execution_count": null,
   "id": "9f6bf75e-f866-4ac3-897d-aa4e740a4bca",
   "metadata": {
    "tags": []
   },
   "outputs": [
    {
     "data": {
      "text/html": [
       "<div>\n",
       "<style scoped>\n",
       "    .dataframe tbody tr th:only-of-type {\n",
       "        vertical-align: middle;\n",
       "    }\n",
       "\n",
       "    .dataframe tbody tr th {\n",
       "        vertical-align: top;\n",
       "    }\n",
       "\n",
       "    .dataframe thead th {\n",
       "        text-align: right;\n",
       "    }\n",
       "</style>\n",
       "<table border=\"1\" class=\"dataframe\">\n",
       "  <thead>\n",
       "    <tr style=\"text-align: right;\">\n",
       "      <th></th>\n",
       "      <th>typology</th>\n",
       "      <th>gfa</th>\n",
       "      <th>gla</th>\n",
       "      <th>bua</th>\n",
       "      <th>residents</th>\n",
       "      <th>employees</th>\n",
       "      <th>visitors</th>\n",
       "      <th>parking</th>\n",
       "    </tr>\n",
       "  </thead>\n",
       "  <tbody>\n",
       "    <tr>\n",
       "      <th>0</th>\n",
       "      <td>residential</td>\n",
       "      <td>0.600</td>\n",
       "      <td>0.600</td>\n",
       "      <td>0.600</td>\n",
       "      <td>0.600</td>\n",
       "      <td>0.600</td>\n",
       "      <td>0.600</td>\n",
       "      <td>0.600</td>\n",
       "    </tr>\n",
       "    <tr>\n",
       "      <th>1</th>\n",
       "      <td>office</td>\n",
       "      <td>0.500</td>\n",
       "      <td>0.500</td>\n",
       "      <td>0.500</td>\n",
       "      <td>0.500</td>\n",
       "      <td>0.500</td>\n",
       "      <td>0.500</td>\n",
       "      <td>0.500</td>\n",
       "    </tr>\n",
       "    <tr>\n",
       "      <th>2</th>\n",
       "      <td>hotel</td>\n",
       "      <td>0.005</td>\n",
       "      <td>0.005</td>\n",
       "      <td>0.005</td>\n",
       "      <td>0.005</td>\n",
       "      <td>0.005</td>\n",
       "      <td>0.005</td>\n",
       "      <td>0.005</td>\n",
       "    </tr>\n",
       "    <tr>\n",
       "      <th>3</th>\n",
       "      <td>community</td>\n",
       "      <td>1.000</td>\n",
       "      <td>1.000</td>\n",
       "      <td>1.000</td>\n",
       "      <td>1.000</td>\n",
       "      <td>1.000</td>\n",
       "      <td>1.000</td>\n",
       "      <td>1.000</td>\n",
       "    </tr>\n",
       "    <tr>\n",
       "      <th>4</th>\n",
       "      <td>retail</td>\n",
       "      <td>0.050</td>\n",
       "      <td>0.050</td>\n",
       "      <td>0.050</td>\n",
       "      <td>0.050</td>\n",
       "      <td>0.050</td>\n",
       "      <td>0.050</td>\n",
       "      <td>0.050</td>\n",
       "    </tr>\n",
       "  </tbody>\n",
       "</table>\n",
       "</div>"
      ],
      "text/plain": [
       "      typology    gfa    gla    bua  residents  employees  visitors  parking\n",
       "0  residential  0.600  0.600  0.600      0.600      0.600     0.600    0.600\n",
       "1       office  0.500  0.500  0.500      0.500      0.500     0.500    0.500\n",
       "2        hotel  0.005  0.005  0.005      0.005      0.005     0.005    0.005\n",
       "3    community  1.000  1.000  1.000      1.000      1.000     1.000    1.000\n",
       "4       retail  0.050  0.050  0.050      0.050      0.050     0.050    0.050"
      ]
     },
     "execution_count": 62,
     "metadata": {},
     "output_type": "execute_result"
    }
   ],
   "source": [
    "df_repo.head()"
   ]
  },
  {
   "cell_type": "markdown",
   "id": "2eb5b966-03a0-4b6a-855c-02d971c30704",
   "metadata": {
    "tags": []
   },
   "source": [
    "---\n",
    "## merge the data frames"
   ]
  },
  {
   "cell_type": "code",
   "execution_count": 63,
   "id": "3958aa38-31ae-4121-b59d-0ee2d1271ba0",
   "metadata": {
    "tags": []
   },
   "outputs": [
    {
     "data": {
      "text/plain": [
       "array(['landscape', 'commercial', 'hotel', 'plaza', 'retail'],\n",
       "      dtype=object)"
      ]
     },
     "execution_count": 63,
     "metadata": {},
     "output_type": "execute_result"
    }
   ],
   "source": [
    "merged = pd.merge(df_model, df_repo, how='left', left_on='typology', right_on='typology')\n",
    "merged.head()\n",
    "merged['typology'].unique()"
   ]
  },
  {
   "cell_type": "markdown",
   "id": "181711be-dd4f-4682-97d0-cb88ba28c182",
   "metadata": {},
   "source": [
    "\n",
    "## process the data"
   ]
  },
  {
   "cell_type": "code",
   "execution_count": 74,
   "id": "f4152d6a-ad3a-449e-b84a-9de031017c2b",
   "metadata": {
    "tags": []
   },
   "outputs": [
    {
     "data": {
      "text/html": [
       "<div>\n",
       "<style scoped>\n",
       "    .dataframe tbody tr th:only-of-type {\n",
       "        vertical-align: middle;\n",
       "    }\n",
       "\n",
       "    .dataframe tbody tr th {\n",
       "        vertical-align: top;\n",
       "    }\n",
       "\n",
       "    .dataframe thead th {\n",
       "        text-align: right;\n",
       "    }\n",
       "</style>\n",
       "<table border=\"1\" class=\"dataframe\">\n",
       "  <thead>\n",
       "    <tr style=\"text-align: right;\">\n",
       "      <th></th>\n",
       "      <th>typology</th>\n",
       "      <th>area</th>\n",
       "      <th>gfa</th>\n",
       "      <th>gla</th>\n",
       "      <th>bua</th>\n",
       "      <th>residents</th>\n",
       "      <th>employees</th>\n",
       "      <th>visitors</th>\n",
       "      <th>parking</th>\n",
       "    </tr>\n",
       "  </thead>\n",
       "  <tbody>\n",
       "    <tr>\n",
       "      <th>0</th>\n",
       "      <td>landscape</td>\n",
       "      <td>1548.40</td>\n",
       "      <td>NaN</td>\n",
       "      <td>NaN</td>\n",
       "      <td>NaN</td>\n",
       "      <td>NaN</td>\n",
       "      <td>NaN</td>\n",
       "      <td>NaN</td>\n",
       "      <td>NaN</td>\n",
       "    </tr>\n",
       "    <tr>\n",
       "      <th>1</th>\n",
       "      <td>landscape</td>\n",
       "      <td>3212.90</td>\n",
       "      <td>NaN</td>\n",
       "      <td>NaN</td>\n",
       "      <td>NaN</td>\n",
       "      <td>NaN</td>\n",
       "      <td>NaN</td>\n",
       "      <td>NaN</td>\n",
       "      <td>NaN</td>\n",
       "    </tr>\n",
       "    <tr>\n",
       "      <th>2</th>\n",
       "      <td>landscape</td>\n",
       "      <td>2366.70</td>\n",
       "      <td>NaN</td>\n",
       "      <td>NaN</td>\n",
       "      <td>NaN</td>\n",
       "      <td>NaN</td>\n",
       "      <td>NaN</td>\n",
       "      <td>NaN</td>\n",
       "      <td>NaN</td>\n",
       "    </tr>\n",
       "    <tr>\n",
       "      <th>3</th>\n",
       "      <td>landscape</td>\n",
       "      <td>511.51</td>\n",
       "      <td>NaN</td>\n",
       "      <td>NaN</td>\n",
       "      <td>NaN</td>\n",
       "      <td>NaN</td>\n",
       "      <td>NaN</td>\n",
       "      <td>NaN</td>\n",
       "      <td>NaN</td>\n",
       "    </tr>\n",
       "    <tr>\n",
       "      <th>4</th>\n",
       "      <td>landscape</td>\n",
       "      <td>720.00</td>\n",
       "      <td>NaN</td>\n",
       "      <td>NaN</td>\n",
       "      <td>NaN</td>\n",
       "      <td>NaN</td>\n",
       "      <td>NaN</td>\n",
       "      <td>NaN</td>\n",
       "      <td>NaN</td>\n",
       "    </tr>\n",
       "    <tr>\n",
       "      <th>...</th>\n",
       "      <td>...</td>\n",
       "      <td>...</td>\n",
       "      <td>...</td>\n",
       "      <td>...</td>\n",
       "      <td>...</td>\n",
       "      <td>...</td>\n",
       "      <td>...</td>\n",
       "      <td>...</td>\n",
       "      <td>...</td>\n",
       "    </tr>\n",
       "    <tr>\n",
       "      <th>571</th>\n",
       "      <td>retail</td>\n",
       "      <td>790.69</td>\n",
       "      <td>39.5345</td>\n",
       "      <td>31259.533805</td>\n",
       "      <td>31259.533805</td>\n",
       "      <td>39.5345</td>\n",
       "      <td>39.5345</td>\n",
       "      <td>39.5345</td>\n",
       "      <td>39.5345</td>\n",
       "    </tr>\n",
       "    <tr>\n",
       "      <th>572</th>\n",
       "      <td>retail</td>\n",
       "      <td>1218.20</td>\n",
       "      <td>60.9100</td>\n",
       "      <td>74200.562000</td>\n",
       "      <td>74200.562000</td>\n",
       "      <td>60.9100</td>\n",
       "      <td>60.9100</td>\n",
       "      <td>60.9100</td>\n",
       "      <td>60.9100</td>\n",
       "    </tr>\n",
       "    <tr>\n",
       "      <th>573</th>\n",
       "      <td>retail</td>\n",
       "      <td>1911.20</td>\n",
       "      <td>95.5600</td>\n",
       "      <td>182634.272000</td>\n",
       "      <td>182634.272000</td>\n",
       "      <td>95.5600</td>\n",
       "      <td>95.5600</td>\n",
       "      <td>95.5600</td>\n",
       "      <td>95.5600</td>\n",
       "    </tr>\n",
       "    <tr>\n",
       "      <th>574</th>\n",
       "      <td>retail</td>\n",
       "      <td>790.69</td>\n",
       "      <td>39.5345</td>\n",
       "      <td>31259.533805</td>\n",
       "      <td>31259.533805</td>\n",
       "      <td>39.5345</td>\n",
       "      <td>39.5345</td>\n",
       "      <td>39.5345</td>\n",
       "      <td>39.5345</td>\n",
       "    </tr>\n",
       "    <tr>\n",
       "      <th>575</th>\n",
       "      <td>retail</td>\n",
       "      <td>1150.70</td>\n",
       "      <td>57.5350</td>\n",
       "      <td>66205.524500</td>\n",
       "      <td>66205.524500</td>\n",
       "      <td>57.5350</td>\n",
       "      <td>57.5350</td>\n",
       "      <td>57.5350</td>\n",
       "      <td>57.5350</td>\n",
       "    </tr>\n",
       "  </tbody>\n",
       "</table>\n",
       "<p>576 rows × 9 columns</p>\n",
       "</div>"
      ],
      "text/plain": [
       "      typology     area      gfa            gla            bua  residents  \\\n",
       "0    landscape  1548.40      NaN            NaN            NaN        NaN   \n",
       "1    landscape  3212.90      NaN            NaN            NaN        NaN   \n",
       "2    landscape  2366.70      NaN            NaN            NaN        NaN   \n",
       "3    landscape   511.51      NaN            NaN            NaN        NaN   \n",
       "4    landscape   720.00      NaN            NaN            NaN        NaN   \n",
       "..         ...      ...      ...            ...            ...        ...   \n",
       "571     retail   790.69  39.5345   31259.533805   31259.533805    39.5345   \n",
       "572     retail  1218.20  60.9100   74200.562000   74200.562000    60.9100   \n",
       "573     retail  1911.20  95.5600  182634.272000  182634.272000    95.5600   \n",
       "574     retail   790.69  39.5345   31259.533805   31259.533805    39.5345   \n",
       "575     retail  1150.70  57.5350   66205.524500   66205.524500    57.5350   \n",
       "\n",
       "     employees  visitors  parking  \n",
       "0          NaN       NaN      NaN  \n",
       "1          NaN       NaN      NaN  \n",
       "2          NaN       NaN      NaN  \n",
       "3          NaN       NaN      NaN  \n",
       "4          NaN       NaN      NaN  \n",
       "..         ...       ...      ...  \n",
       "571    39.5345   39.5345  39.5345  \n",
       "572    60.9100   60.9100  60.9100  \n",
       "573    95.5600   95.5600  95.5600  \n",
       "574    39.5345   39.5345  39.5345  \n",
       "575    57.5350   57.5350  57.5350  \n",
       "\n",
       "[576 rows x 9 columns]"
      ]
     },
     "execution_count": 74,
     "metadata": {},
     "output_type": "execute_result"
    }
   ],
   "source": [
    "md = merged.copy()\n",
    "\n",
    "md['gfa'] = md['area'] * md['gfa']\n",
    "md['gla'] = md['area'] * md['gfa']\n",
    "md['bua'] = md['area'] * md['gfa']\n",
    "md['residents'] = md['area'] * md['residents']\n",
    "md['employees'] = md['area'] * md['employees']\n",
    "md['visitors'] = md['area'] * md['visitors']\n",
    "md['parking'] = md['area'] * md['parking']\n",
    "\n",
    "filter = md['typology'] == 'hotel'\n",
    "md"
   ]
  },
  {
   "cell_type": "markdown",
   "id": "5ab974eb-cc0d-4c40-b6dc-5ef9a7832dd4",
   "metadata": {},
   "source": [
    "## export the csv"
   ]
  },
  {
   "cell_type": "code",
   "execution_count": 75,
   "id": "7d1eb5ac-8af3-4353-b303-d99d9ab1b819",
   "metadata": {
    "tags": []
   },
   "outputs": [],
   "source": [
    "md.to_csv('output/data_dap.csv')"
   ]
  }
 ],
 "metadata": {
  "kernelspec": {
   "display_name": "Python 3 (ipykernel)",
   "language": "python",
   "name": "python3"
  },
  "language_info": {
   "codemirror_mode": {
    "name": "ipython",
    "version": 3
   },
   "file_extension": ".py",
   "mimetype": "text/x-python",
   "name": "python",
   "nbconvert_exporter": "python",
   "pygments_lexer": "ipython3",
   "version": "3.11.5"
  },
  "toc-autonumbering": true,
  "toc-showmarkdowntxt": true
 },
 "nbformat": 4,
 "nbformat_minor": 5
}
