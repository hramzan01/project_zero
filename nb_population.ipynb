{
 "cells": [
  {
   "cell_type": "markdown",
   "metadata": {},
   "source": [
    "# **Population DF**"
   ]
  },
  {
   "cell_type": "markdown",
   "metadata": {},
   "source": [
    "## Expected Features"
   ]
  },
  {
   "cell_type": "markdown",
   "metadata": {},
   "source": [
    "| features name | type  | description  |\n",
    "|----\t|---\t|---\n",
    "| `asset` | str | example description of the feature\n",
    "| `typology` | str | example description of the feature\n",
    "| `building_id` | str | example description of the feature\n",
    "| `area` | float | example description of the feature\n",
    "| `zone` | str | example description of the feature\n",
    "| `phase` | int | example description of the feature\n",
    "| `plot` | str | example description of the feature\n",
    "| `efficiency` | float | float value representing the efficiency as a percentage of 100 (1.0 = 100%, 0.5 = 50%, 0.1 = 10% )\n",
    "\n",
    "the dataframe is amplified by the specailist dataset: `coefficients`\\\n",
    " has all the parking and population formulas for that particular area of governance"
   ]
  },
  {
   "cell_type": "code",
   "execution_count": 5,
   "metadata": {},
   "outputs": [
    {
     "name": "stdout",
     "output_type": "stream",
     "text": [
      "The autoreload extension is already loaded. To reload it, use:\n",
      "  %reload_ext autoreload\n"
     ]
    }
   ],
   "source": [
    "%load_ext autoreload\n",
    "%autoreload 2"
   ]
  },
  {
   "cell_type": "markdown",
   "metadata": {},
   "source": []
  },
  {
   "cell_type": "code",
   "execution_count": 6,
   "metadata": {},
   "outputs": [],
   "source": [
    "# import modules\n",
    "import pandas as pd\n",
    "import numpy as np\n",
    "import seaborn as sns\n",
    "import matplotlib.pyplot as plot"
   ]
  },
  {
   "cell_type": "code",
   "execution_count": 7,
   "metadata": {},
   "outputs": [],
   "source": [
    "from etl.extract import ProjectZero"
   ]
  },
  {
   "cell_type": "code",
   "execution_count": 9,
   "metadata": {},
   "outputs": [
    {
     "data": {
      "text/html": [
       "<div>\n",
       "<style scoped>\n",
       "    .dataframe tbody tr th:only-of-type {\n",
       "        vertical-align: middle;\n",
       "    }\n",
       "\n",
       "    .dataframe tbody tr th {\n",
       "        vertical-align: top;\n",
       "    }\n",
       "\n",
       "    .dataframe thead th {\n",
       "        text-align: right;\n",
       "    }\n",
       "</style>\n",
       "<table border=\"1\" class=\"dataframe\">\n",
       "  <thead>\n",
       "    <tr style=\"text-align: right;\">\n",
       "      <th></th>\n",
       "      <th>asset</th>\n",
       "      <th>efficiency</th>\n",
       "      <th>parking req</th>\n",
       "      <th>residents</th>\n",
       "      <th>employees</th>\n",
       "      <th>visitors</th>\n",
       "    </tr>\n",
       "  </thead>\n",
       "  <tbody>\n",
       "    <tr>\n",
       "      <th>0</th>\n",
       "      <td>Community</td>\n",
       "      <td>1.00</td>\n",
       "      <td>0.00</td>\n",
       "      <td>NaN</td>\n",
       "      <td>0.05</td>\n",
       "      <td>0.1</td>\n",
       "    </tr>\n",
       "    <tr>\n",
       "      <th>1</th>\n",
       "      <td>Hotel</td>\n",
       "      <td>0.70</td>\n",
       "      <td>0.24</td>\n",
       "      <td>NaN</td>\n",
       "      <td>0.60</td>\n",
       "      <td>1.5</td>\n",
       "    </tr>\n",
       "    <tr>\n",
       "      <th>2</th>\n",
       "      <td>Office</td>\n",
       "      <td>0.85</td>\n",
       "      <td>0.01</td>\n",
       "      <td>NaN</td>\n",
       "      <td>0.05</td>\n",
       "      <td>0.1</td>\n",
       "    </tr>\n",
       "  </tbody>\n",
       "</table>\n",
       "</div>"
      ],
      "text/plain": [
       "       asset  efficiency  parking req  residents  employees   visitors\n",
       "0  Community        1.00         0.00        NaN        0.05       0.1\n",
       "1      Hotel        0.70         0.24        NaN        0.60       1.5\n",
       "2     Office        0.85         0.01        NaN        0.05       0.1"
      ]
     },
     "execution_count": 9,
     "metadata": {},
     "output_type": "execute_result"
    }
   ],
   "source": [
    "# import projectzero data\n",
    "from etl.extract import ProjectZero\n",
    "data = ProjectZero().get_data()\n",
    "\n",
    "# view keys\n",
    "data.keys()\n",
    "\n",
    "# df_model instance\n",
    "df_model = data['hz_model'].copy()\n",
    "df_coeff = data['ksa_coefficients']\n",
    "df_coeff.head(3)"
   ]
  },
  {
   "cell_type": "markdown",
   "metadata": {},
   "source": [
    "## 1. `get_building_population`"
   ]
  },
  {
   "cell_type": "markdown",
   "metadata": {},
   "source": [
    "this method should return a dataframe that has the following features:\\\n",
    "`building`, `area`, `residents`, `employees`, `visitors`"
   ]
  },
  {
   "cell_type": "code",
   "execution_count": 10,
   "metadata": {},
   "outputs": [
    {
     "data": {
      "text/plain": [
       "ID          0\n",
       "Typology    0\n",
       "Area        0\n",
       "Plot        0\n",
       "Building    0\n",
       "Colour      0\n",
       "dtype: int64"
      ]
     },
     "execution_count": 10,
     "metadata": {},
     "output_type": "execute_result"
    }
   ],
   "source": [
    "df_model.isna().sum()"
   ]
  },
  {
   "cell_type": "markdown",
   "metadata": {},
   "source": [
    "## 2. `get_parking_requirement`"
   ]
  },
  {
   "cell_type": "markdown",
   "metadata": {},
   "source": [
    "this method should return a dataframe that has the following features:\\\n",
    "`building`, `asset`, `area`, `parking_required`"
   ]
  },
  {
   "cell_type": "code",
   "execution_count": null,
   "metadata": {},
   "outputs": [
    {
     "data": {
      "text/plain": [
       "ID          0\n",
       "Typology    0\n",
       "Area        0\n",
       "Plot        0\n",
       "Building    0\n",
       "Colour      0\n",
       "dtype: int64"
      ]
     },
     "metadata": {},
     "output_type": "display_data"
    }
   ],
   "source": [
    "df_model.isna().sum()"
   ]
  }
 ],
 "metadata": {
  "kernelspec": {
   "display_name": "lewagon",
   "language": "python",
   "name": "python3"
  },
  "language_info": {
   "codemirror_mode": {
    "name": "ipython",
    "version": 3
   },
   "file_extension": ".py",
   "mimetype": "text/x-python",
   "name": "python",
   "nbconvert_exporter": "python",
   "pygments_lexer": "ipython3",
   "version": "3.10.6"
  }
 },
 "nbformat": 4,
 "nbformat_minor": 2
}
