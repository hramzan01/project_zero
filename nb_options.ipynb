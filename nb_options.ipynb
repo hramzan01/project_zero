{
 "cells": [
  {
   "cell_type": "markdown",
   "id": "4751d6a5-b7b8-4652-8ba3-ff457719fa56",
   "metadata": {},
   "source": [
    "# Options Algorythm "
   ]
  },
  {
   "cell_type": "code",
   "execution_count": 2,
   "id": "c42c6dab-c165-49f1-8ec7-3816a6838c6a",
   "metadata": {
    "tags": []
   },
   "outputs": [],
   "source": [
    "from itertools import combinations, product\n",
    "import pandas as pd"
   ]
  },
  {
   "cell_type": "markdown",
   "id": "b2b1b977-d929-4c58-b430-d8c5987b518e",
   "metadata": {},
   "source": [
    "---"
   ]
  },
  {
   "cell_type": "markdown",
   "id": "b268c3ee-e2cd-4c43-b7f6-29f0375c2ef2",
   "metadata": {
    "tags": []
   },
   "source": [
    "## Importing Dataframe "
   ]
  },
  {
   "cell_type": "code",
   "execution_count": 4,
   "id": "0ae52a9b-e499-4c6a-ab70-e0629985d0be",
   "metadata": {
    "tags": []
   },
   "outputs": [
    {
     "data": {
      "text/html": [
       "<div>\n",
       "<style scoped>\n",
       "    .dataframe tbody tr th:only-of-type {\n",
       "        vertical-align: middle;\n",
       "    }\n",
       "\n",
       "    .dataframe tbody tr th {\n",
       "        vertical-align: top;\n",
       "    }\n",
       "\n",
       "    .dataframe thead th {\n",
       "        text-align: right;\n",
       "    }\n",
       "</style>\n",
       "<table border=\"1\" class=\"dataframe\">\n",
       "  <thead>\n",
       "    <tr style=\"text-align: right;\">\n",
       "      <th></th>\n",
       "      <th>building_type</th>\n",
       "      <th>building_use</th>\n",
       "      <th>basement_count</th>\n",
       "      <th>building_height</th>\n",
       "      <th>building_width</th>\n",
       "      <th>building_depth</th>\n",
       "      <th>element_type</th>\n",
       "      <th>building_element</th>\n",
       "      <th>value</th>\n",
       "      <th>unit</th>\n",
       "    </tr>\n",
       "  </thead>\n",
       "  <tbody>\n",
       "    <tr>\n",
       "      <th>0</th>\n",
       "      <td>1</td>\n",
       "      <td>Office</td>\n",
       "      <td>0</td>\n",
       "      <td>25</td>\n",
       "      <td>20</td>\n",
       "      <td>20</td>\n",
       "      <td>Foundation</td>\n",
       "      <td>Footing foundations for hard soils (sand, grav...</td>\n",
       "      <td>9.0</td>\n",
       "      <td>KgCO2e/m2</td>\n",
       "    </tr>\n",
       "    <tr>\n",
       "      <th>1</th>\n",
       "      <td>1</td>\n",
       "      <td>Office</td>\n",
       "      <td>0</td>\n",
       "      <td>25</td>\n",
       "      <td>20</td>\n",
       "      <td>20</td>\n",
       "      <td>Foundation</td>\n",
       "      <td>Steel core piling foundation for soft soils (15m)</td>\n",
       "      <td>44.0</td>\n",
       "      <td>KgCO2e/m2</td>\n",
       "    </tr>\n",
       "    <tr>\n",
       "      <th>2</th>\n",
       "      <td>1</td>\n",
       "      <td>Office</td>\n",
       "      <td>0</td>\n",
       "      <td>25</td>\n",
       "      <td>20</td>\n",
       "      <td>20</td>\n",
       "      <td>Foundation</td>\n",
       "      <td>Rammed concrete piling foundation for hard soi...</td>\n",
       "      <td>12.0</td>\n",
       "      <td>KgCO2e/m2</td>\n",
       "    </tr>\n",
       "  </tbody>\n",
       "</table>\n",
       "</div>"
      ],
      "text/plain": [
       "   building_type building_use  basement_count  building_height  \\\n",
       "0              1       Office               0               25   \n",
       "1              1       Office               0               25   \n",
       "2              1       Office               0               25   \n",
       "\n",
       "   building_width  building_depth element_type  \\\n",
       "0              20              20   Foundation   \n",
       "1              20              20   Foundation   \n",
       "2              20              20   Foundation   \n",
       "\n",
       "                                    building_element  value       unit  \n",
       "0  Footing foundations for hard soils (sand, grav...    9.0  KgCO2e/m2  \n",
       "1  Steel core piling foundation for soft soils (15m)   44.0  KgCO2e/m2  \n",
       "2  Rammed concrete piling foundation for hard soi...   12.0  KgCO2e/m2  "
      ]
     },
     "execution_count": 4,
     "metadata": {},
     "output_type": "execute_result"
    }
   ],
   "source": [
    "df = pd.read_csv('data/csv/data_sus_ecsampel.csv')\n",
    "df.head(3)"
   ]
  },
  {
   "cell_type": "markdown",
   "id": "7c4adbca-14e3-406c-98af-2b326bab6181",
   "metadata": {},
   "source": []
  },
  {
   "cell_type": "markdown",
   "id": "f2a3cdee-60c7-48db-b4a4-b9917262e716",
   "metadata": {},
   "source": [
    "## Finding simple combinations 🧮"
   ]
  },
  {
   "cell_type": "code",
   "execution_count": 18,
   "id": "04e9bef9-fe06-49c4-ba48-0045469956c3",
   "metadata": {
    "collapsed": true,
    "jupyter": {
     "outputs_hidden": true
    },
    "tags": []
   },
   "outputs": [
    {
     "data": {
      "text/plain": [
       "[(1, 2, 3),\n",
       " (1, 2, 4),\n",
       " (1, 2, 5),\n",
       " (1, 2, 6),\n",
       " (1, 3, 4),\n",
       " (1, 3, 5),\n",
       " (1, 3, 6),\n",
       " (1, 4, 5),\n",
       " (1, 4, 6),\n",
       " (1, 5, 6),\n",
       " (2, 3, 4),\n",
       " (2, 3, 5),\n",
       " (2, 3, 6),\n",
       " (2, 4, 5),\n",
       " (2, 4, 6),\n",
       " (2, 5, 6),\n",
       " (3, 4, 5),\n",
       " (3, 4, 6),\n",
       " (3, 5, 6),\n",
       " (4, 5, 6)]"
      ]
     },
     "execution_count": 18,
     "metadata": {},
     "output_type": "execute_result"
    }
   ],
   "source": [
    "elements = [1, 2, 3, 4, 5, 6]\n",
    "r = 3\n",
    "\n",
    "combinations = list(combinations(elements, r))\n",
    "combinations"
   ]
  },
  {
   "cell_type": "code",
   "execution_count": 23,
   "id": "2b3867a3-d3a3-4b76-8473-1e84fcdc7d85",
   "metadata": {
    "tags": []
   },
   "outputs": [
    {
     "name": "stdout",
     "output_type": "stream",
     "text": [
      "config 1: (1, 2, 3)\n",
      "config 2: (1, 2, 4)\n",
      "config 3: (1, 2, 5)\n",
      "config 4: (1, 2, 6)\n",
      "config 5: (1, 3, 4)\n",
      "config 6: (1, 3, 5)\n",
      "config 7: (1, 3, 6)\n",
      "config 8: (1, 4, 5)\n",
      "config 9: (1, 4, 6)\n",
      "config 10: (1, 5, 6)\n",
      "config 11: (2, 3, 4)\n",
      "config 12: (2, 3, 5)\n",
      "config 13: (2, 3, 6)\n",
      "config 14: (2, 4, 5)\n",
      "config 15: (2, 4, 6)\n",
      "config 16: (2, 5, 6)\n",
      "config 17: (3, 4, 5)\n",
      "config 18: (3, 4, 6)\n",
      "config 19: (3, 5, 6)\n",
      "config 20: (4, 5, 6)\n"
     ]
    }
   ],
   "source": [
    "for num, combo in enumerate(combinations):\n",
    "    print(f'config {num + 1}: {combo}')"
   ]
  },
  {
   "cell_type": "markdown",
   "id": "a4a52242-fb8f-4928-aab2-6705304160dc",
   "metadata": {},
   "source": [
    "## Finding combinations form multiple lists 🧮 + 🧮 + 🧮"
   ]
  },
  {
   "cell_type": "code",
   "execution_count": 41,
   "id": "c8d551f0-04b2-4edc-8efb-6c93e1bb7992",
   "metadata": {
    "tags": []
   },
   "outputs": [
    {
     "name": "stdout",
     "output_type": "stream",
     "text": [
      "[(1, 'a', 'x'), (1, 'a', 'y'), (1, 'a', 'z'), (1, 'b', 'x'), (1, 'b', 'y'), (1, 'b', 'z'), (1, 'c', 'x'), (1, 'c', 'y'), (1, 'c', 'z'), (2, 'a', 'x'), (2, 'a', 'y'), (2, 'a', 'z'), (2, 'b', 'x'), (2, 'b', 'y'), (2, 'b', 'z'), (2, 'c', 'x'), (2, 'c', 'y'), (2, 'c', 'z'), (3, 'a', 'x'), (3, 'a', 'y'), (3, 'a', 'z'), (3, 'b', 'x'), (3, 'b', 'y'), (3, 'b', 'z'), (3, 'c', 'x'), (3, 'c', 'y'), (3, 'c', 'z')]\n"
     ]
    },
    {
     "data": {
      "text/plain": [
       "27"
      ]
     },
     "execution_count": 41,
     "metadata": {},
     "output_type": "execute_result"
    }
   ],
   "source": [
    "list1 = [1, 2, 3]\n",
    "list2 = ['a', 'b', 'c']\n",
    "list3 = ['x', 'y', 'z']\n",
    "\n",
    "combinations = list(product(list1, list2, list3))\n",
    "print(combinations)\n",
    "len(combinations)"
   ]
  },
  {
   "cell_type": "markdown",
   "id": "5443a427-42f3-4f0a-8133-ba8a92d5afca",
   "metadata": {},
   "source": [
    "---"
   ]
  },
  {
   "cell_type": "markdown",
   "id": "8cca925a-1a87-43ff-9565-776740980948",
   "metadata": {
    "tags": []
   },
   "source": [
    "## Applying to the real data"
   ]
  },
  {
   "cell_type": "code",
   "execution_count": 21,
   "id": "06b0159c-43df-4f32-a96a-121d6d5008df",
   "metadata": {
    "tags": []
   },
   "outputs": [
    {
     "data": {
      "text/plain": [
       "array(['Foundation', 'Ground slab', 'Floor Slab', 'Columns', 'Shear Wall',\n",
       "       'Beams', 'Stairs', 'External Walls', nan, 'Diagonal wind bracings',\n",
       "       'Connecting parts', 'Secondary beams'], dtype=object)"
      ]
     },
     "execution_count": 21,
     "metadata": {},
     "output_type": "execute_result"
    }
   ],
   "source": [
    "df.element_type.unique()"
   ]
  },
  {
   "cell_type": "code",
   "execution_count": 27,
   "id": "72765495-6e5f-471f-a3ee-6dc480f46b44",
   "metadata": {
    "tags": []
   },
   "outputs": [],
   "source": [
    "df_foundation =  df[df.element_type == 'Foundation']\n",
    "df_columns =  df[df.element_type == 'Columns']\n",
    "df_external_wall =  df[df.element_type == 'External Walls']"
   ]
  },
  {
   "cell_type": "markdown",
   "id": "a7e91414-f0e2-414c-89b6-d3b165ac2f09",
   "metadata": {},
   "source": [
    "## creating 3 elements lists foundation, columns & external walls"
   ]
  },
  {
   "cell_type": "code",
   "execution_count": 36,
   "id": "d146dc26-ed32-4f66-ab9b-b87224c9b628",
   "metadata": {
    "tags": []
   },
   "outputs": [],
   "source": [
    "elements_foundation = list(df_foundation.building_element)\n",
    "\n",
    "elements_columns = list(df_columns.building_element)\n",
    "\n",
    "elements_external_wall = list(df_external_wall.building_element)"
   ]
  },
  {
   "cell_type": "markdown",
   "id": "a69f282c-c61b-4fb3-84b3-0be9763e82ca",
   "metadata": {},
   "source": [
    "## apply the iter logic"
   ]
  },
  {
   "cell_type": "code",
   "execution_count": 40,
   "id": "c1a57f7f-7889-4fc6-be58-7281c37d0895",
   "metadata": {
    "tags": []
   },
   "outputs": [
    {
     "name": "stdout",
     "output_type": "stream",
     "text": [
      "('Footing foundations for hard soils (sand, gravel, silt or clay) per GFA, Includes: point and strip footings', 'Reinforced wall, for concrete building', 'Timber frame external wall assembly, incl. mineral wool insulation, U-value 0.18 W/m2K, 320 mm')\n",
      "('Footing foundations for hard soils (sand, gravel, silt or clay) per GFA, Includes: point and strip footings', 'Reinforced wall, for concrete building', 'Timber Frame Cavity Wall & Service Void, U-value 0.22, (Part L 2016)')\n",
      "('Footing foundations for hard soils (sand, gravel, silt or clay) per GFA, Includes: point and strip footings', 'Reinforced wall, for concrete building', 'Steel sandwich element external wall assembly, incl. mineral wool insulation, U-value 0.18 W/m2K, 200 mm')\n",
      "('Footing foundations for hard soils (sand, gravel, silt or clay) per GFA, Includes: point and strip footings', 'Precast concrete column', 'Timber frame external wall assembly, incl. mineral wool insulation, U-value 0.18 W/m2K, 320 mm')\n",
      "('Footing foundations for hard soils (sand, gravel, silt or clay) per GFA, Includes: point and strip footings', 'Precast concrete column', 'Timber Frame Cavity Wall & Service Void, U-value 0.22, (Part L 2016)')\n",
      "('Footing foundations for hard soils (sand, gravel, silt or clay) per GFA, Includes: point and strip footings', 'Precast concrete column', 'Steel sandwich element external wall assembly, incl. mineral wool insulation, U-value 0.18 W/m2K, 200 mm')\n",
      "('Footing foundations for hard soils (sand, gravel, silt or clay) per GFA, Includes: point and strip footings', 'In-situ concrete column', 'Timber frame external wall assembly, incl. mineral wool insulation, U-value 0.18 W/m2K, 320 mm')\n",
      "('Footing foundations for hard soils (sand, gravel, silt or clay) per GFA, Includes: point and strip footings', 'In-situ concrete column', 'Timber Frame Cavity Wall & Service Void, U-value 0.22, (Part L 2016)')\n",
      "('Footing foundations for hard soils (sand, gravel, silt or clay) per GFA, Includes: point and strip footings', 'In-situ concrete column', 'Steel sandwich element external wall assembly, incl. mineral wool insulation, U-value 0.18 W/m2K, 200 mm')\n",
      "('Footing foundations for hard soils (sand, gravel, silt or clay) per GFA, Includes: point and strip footings', 'Timber column - for timber frame buildings', 'Timber frame external wall assembly, incl. mineral wool insulation, U-value 0.18 W/m2K, 320 mm')\n",
      "('Footing foundations for hard soils (sand, gravel, silt or clay) per GFA, Includes: point and strip footings', 'Timber column - for timber frame buildings', 'Timber Frame Cavity Wall & Service Void, U-value 0.22, (Part L 2016)')\n",
      "('Footing foundations for hard soils (sand, gravel, silt or clay) per GFA, Includes: point and strip footings', 'Timber column - for timber frame buildings', 'Steel sandwich element external wall assembly, incl. mineral wool insulation, U-value 0.18 W/m2K, 200 mm')\n",
      "('Footing foundations for hard soils (sand, gravel, silt or clay) per GFA, Includes: point and strip footings', 'Steel column', 'Timber frame external wall assembly, incl. mineral wool insulation, U-value 0.18 W/m2K, 320 mm')\n",
      "('Footing foundations for hard soils (sand, gravel, silt or clay) per GFA, Includes: point and strip footings', 'Steel column', 'Timber Frame Cavity Wall & Service Void, U-value 0.22, (Part L 2016)')\n",
      "('Footing foundations for hard soils (sand, gravel, silt or clay) per GFA, Includes: point and strip footings', 'Steel column', 'Steel sandwich element external wall assembly, incl. mineral wool insulation, U-value 0.18 W/m2K, 200 mm')\n",
      "('Footing foundations for hard soils (sand, gravel, silt or clay) per GFA, Includes: point and strip footings', 'Precast concrete column', 'Timber frame external wall assembly, incl. mineral wool insulation, U-value 0.18 W/m2K, 320 mm')\n",
      "('Footing foundations for hard soils (sand, gravel, silt or clay) per GFA, Includes: point and strip footings', 'Precast concrete column', 'Timber Frame Cavity Wall & Service Void, U-value 0.22, (Part L 2016)')\n",
      "('Footing foundations for hard soils (sand, gravel, silt or clay) per GFA, Includes: point and strip footings', 'Precast concrete column', 'Steel sandwich element external wall assembly, incl. mineral wool insulation, U-value 0.18 W/m2K, 200 mm')\n",
      "('Footing foundations for hard soils (sand, gravel, silt or clay) per GFA, Includes: point and strip footings', 'In-situ concrete column', 'Timber frame external wall assembly, incl. mineral wool insulation, U-value 0.18 W/m2K, 320 mm')\n",
      "('Footing foundations for hard soils (sand, gravel, silt or clay) per GFA, Includes: point and strip footings', 'In-situ concrete column', 'Timber Frame Cavity Wall & Service Void, U-value 0.22, (Part L 2016)')\n",
      "('Footing foundations for hard soils (sand, gravel, silt or clay) per GFA, Includes: point and strip footings', 'In-situ concrete column', 'Steel sandwich element external wall assembly, incl. mineral wool insulation, U-value 0.18 W/m2K, 200 mm')\n",
      "('Footing foundations for hard soils (sand, gravel, silt or clay) per GFA, Includes: point and strip footings', 'Timber column - for timber frame buildings', 'Timber frame external wall assembly, incl. mineral wool insulation, U-value 0.18 W/m2K, 320 mm')\n",
      "('Footing foundations for hard soils (sand, gravel, silt or clay) per GFA, Includes: point and strip footings', 'Timber column - for timber frame buildings', 'Timber Frame Cavity Wall & Service Void, U-value 0.22, (Part L 2016)')\n",
      "('Footing foundations for hard soils (sand, gravel, silt or clay) per GFA, Includes: point and strip footings', 'Timber column - for timber frame buildings', 'Steel sandwich element external wall assembly, incl. mineral wool insulation, U-value 0.18 W/m2K, 200 mm')\n",
      "('Footing foundations for hard soils (sand, gravel, silt or clay) per GFA, Includes: point and strip footings', 'Steel column', 'Timber frame external wall assembly, incl. mineral wool insulation, U-value 0.18 W/m2K, 320 mm')\n",
      "('Footing foundations for hard soils (sand, gravel, silt or clay) per GFA, Includes: point and strip footings', 'Steel column', 'Timber Frame Cavity Wall & Service Void, U-value 0.22, (Part L 2016)')\n",
      "('Footing foundations for hard soils (sand, gravel, silt or clay) per GFA, Includes: point and strip footings', 'Steel column', 'Steel sandwich element external wall assembly, incl. mineral wool insulation, U-value 0.18 W/m2K, 200 mm')\n",
      "('Steel core piling foundation for soft soils (15m)', 'Reinforced wall, for concrete building', 'Timber frame external wall assembly, incl. mineral wool insulation, U-value 0.18 W/m2K, 320 mm')\n",
      "('Steel core piling foundation for soft soils (15m)', 'Reinforced wall, for concrete building', 'Timber Frame Cavity Wall & Service Void, U-value 0.22, (Part L 2016)')\n",
      "('Steel core piling foundation for soft soils (15m)', 'Reinforced wall, for concrete building', 'Steel sandwich element external wall assembly, incl. mineral wool insulation, U-value 0.18 W/m2K, 200 mm')\n",
      "('Steel core piling foundation for soft soils (15m)', 'Precast concrete column', 'Timber frame external wall assembly, incl. mineral wool insulation, U-value 0.18 W/m2K, 320 mm')\n",
      "('Steel core piling foundation for soft soils (15m)', 'Precast concrete column', 'Timber Frame Cavity Wall & Service Void, U-value 0.22, (Part L 2016)')\n",
      "('Steel core piling foundation for soft soils (15m)', 'Precast concrete column', 'Steel sandwich element external wall assembly, incl. mineral wool insulation, U-value 0.18 W/m2K, 200 mm')\n",
      "('Steel core piling foundation for soft soils (15m)', 'In-situ concrete column', 'Timber frame external wall assembly, incl. mineral wool insulation, U-value 0.18 W/m2K, 320 mm')\n",
      "('Steel core piling foundation for soft soils (15m)', 'In-situ concrete column', 'Timber Frame Cavity Wall & Service Void, U-value 0.22, (Part L 2016)')\n",
      "('Steel core piling foundation for soft soils (15m)', 'In-situ concrete column', 'Steel sandwich element external wall assembly, incl. mineral wool insulation, U-value 0.18 W/m2K, 200 mm')\n",
      "('Steel core piling foundation for soft soils (15m)', 'Timber column - for timber frame buildings', 'Timber frame external wall assembly, incl. mineral wool insulation, U-value 0.18 W/m2K, 320 mm')\n",
      "('Steel core piling foundation for soft soils (15m)', 'Timber column - for timber frame buildings', 'Timber Frame Cavity Wall & Service Void, U-value 0.22, (Part L 2016)')\n",
      "('Steel core piling foundation for soft soils (15m)', 'Timber column - for timber frame buildings', 'Steel sandwich element external wall assembly, incl. mineral wool insulation, U-value 0.18 W/m2K, 200 mm')\n",
      "('Steel core piling foundation for soft soils (15m)', 'Steel column', 'Timber frame external wall assembly, incl. mineral wool insulation, U-value 0.18 W/m2K, 320 mm')\n",
      "('Steel core piling foundation for soft soils (15m)', 'Steel column', 'Timber Frame Cavity Wall & Service Void, U-value 0.22, (Part L 2016)')\n",
      "('Steel core piling foundation for soft soils (15m)', 'Steel column', 'Steel sandwich element external wall assembly, incl. mineral wool insulation, U-value 0.18 W/m2K, 200 mm')\n",
      "('Steel core piling foundation for soft soils (15m)', 'Precast concrete column', 'Timber frame external wall assembly, incl. mineral wool insulation, U-value 0.18 W/m2K, 320 mm')\n",
      "('Steel core piling foundation for soft soils (15m)', 'Precast concrete column', 'Timber Frame Cavity Wall & Service Void, U-value 0.22, (Part L 2016)')\n",
      "('Steel core piling foundation for soft soils (15m)', 'Precast concrete column', 'Steel sandwich element external wall assembly, incl. mineral wool insulation, U-value 0.18 W/m2K, 200 mm')\n",
      "('Steel core piling foundation for soft soils (15m)', 'In-situ concrete column', 'Timber frame external wall assembly, incl. mineral wool insulation, U-value 0.18 W/m2K, 320 mm')\n",
      "('Steel core piling foundation for soft soils (15m)', 'In-situ concrete column', 'Timber Frame Cavity Wall & Service Void, U-value 0.22, (Part L 2016)')\n",
      "('Steel core piling foundation for soft soils (15m)', 'In-situ concrete column', 'Steel sandwich element external wall assembly, incl. mineral wool insulation, U-value 0.18 W/m2K, 200 mm')\n",
      "('Steel core piling foundation for soft soils (15m)', 'Timber column - for timber frame buildings', 'Timber frame external wall assembly, incl. mineral wool insulation, U-value 0.18 W/m2K, 320 mm')\n",
      "('Steel core piling foundation for soft soils (15m)', 'Timber column - for timber frame buildings', 'Timber Frame Cavity Wall & Service Void, U-value 0.22, (Part L 2016)')\n",
      "('Steel core piling foundation for soft soils (15m)', 'Timber column - for timber frame buildings', 'Steel sandwich element external wall assembly, incl. mineral wool insulation, U-value 0.18 W/m2K, 200 mm')\n",
      "('Steel core piling foundation for soft soils (15m)', 'Steel column', 'Timber frame external wall assembly, incl. mineral wool insulation, U-value 0.18 W/m2K, 320 mm')\n",
      "('Steel core piling foundation for soft soils (15m)', 'Steel column', 'Timber Frame Cavity Wall & Service Void, U-value 0.22, (Part L 2016)')\n",
      "('Steel core piling foundation for soft soils (15m)', 'Steel column', 'Steel sandwich element external wall assembly, incl. mineral wool insulation, U-value 0.18 W/m2K, 200 mm')\n",
      "('Rammed concrete piling foundation for hard soils (15m)', 'Reinforced wall, for concrete building', 'Timber frame external wall assembly, incl. mineral wool insulation, U-value 0.18 W/m2K, 320 mm')\n",
      "('Rammed concrete piling foundation for hard soils (15m)', 'Reinforced wall, for concrete building', 'Timber Frame Cavity Wall & Service Void, U-value 0.22, (Part L 2016)')\n",
      "('Rammed concrete piling foundation for hard soils (15m)', 'Reinforced wall, for concrete building', 'Steel sandwich element external wall assembly, incl. mineral wool insulation, U-value 0.18 W/m2K, 200 mm')\n",
      "('Rammed concrete piling foundation for hard soils (15m)', 'Precast concrete column', 'Timber frame external wall assembly, incl. mineral wool insulation, U-value 0.18 W/m2K, 320 mm')\n",
      "('Rammed concrete piling foundation for hard soils (15m)', 'Precast concrete column', 'Timber Frame Cavity Wall & Service Void, U-value 0.22, (Part L 2016)')\n",
      "('Rammed concrete piling foundation for hard soils (15m)', 'Precast concrete column', 'Steel sandwich element external wall assembly, incl. mineral wool insulation, U-value 0.18 W/m2K, 200 mm')\n",
      "('Rammed concrete piling foundation for hard soils (15m)', 'In-situ concrete column', 'Timber frame external wall assembly, incl. mineral wool insulation, U-value 0.18 W/m2K, 320 mm')\n",
      "('Rammed concrete piling foundation for hard soils (15m)', 'In-situ concrete column', 'Timber Frame Cavity Wall & Service Void, U-value 0.22, (Part L 2016)')\n",
      "('Rammed concrete piling foundation for hard soils (15m)', 'In-situ concrete column', 'Steel sandwich element external wall assembly, incl. mineral wool insulation, U-value 0.18 W/m2K, 200 mm')\n",
      "('Rammed concrete piling foundation for hard soils (15m)', 'Timber column - for timber frame buildings', 'Timber frame external wall assembly, incl. mineral wool insulation, U-value 0.18 W/m2K, 320 mm')\n",
      "('Rammed concrete piling foundation for hard soils (15m)', 'Timber column - for timber frame buildings', 'Timber Frame Cavity Wall & Service Void, U-value 0.22, (Part L 2016)')\n",
      "('Rammed concrete piling foundation for hard soils (15m)', 'Timber column - for timber frame buildings', 'Steel sandwich element external wall assembly, incl. mineral wool insulation, U-value 0.18 W/m2K, 200 mm')\n",
      "('Rammed concrete piling foundation for hard soils (15m)', 'Steel column', 'Timber frame external wall assembly, incl. mineral wool insulation, U-value 0.18 W/m2K, 320 mm')\n",
      "('Rammed concrete piling foundation for hard soils (15m)', 'Steel column', 'Timber Frame Cavity Wall & Service Void, U-value 0.22, (Part L 2016)')\n",
      "('Rammed concrete piling foundation for hard soils (15m)', 'Steel column', 'Steel sandwich element external wall assembly, incl. mineral wool insulation, U-value 0.18 W/m2K, 200 mm')\n",
      "('Rammed concrete piling foundation for hard soils (15m)', 'Precast concrete column', 'Timber frame external wall assembly, incl. mineral wool insulation, U-value 0.18 W/m2K, 320 mm')\n",
      "('Rammed concrete piling foundation for hard soils (15m)', 'Precast concrete column', 'Timber Frame Cavity Wall & Service Void, U-value 0.22, (Part L 2016)')\n",
      "('Rammed concrete piling foundation for hard soils (15m)', 'Precast concrete column', 'Steel sandwich element external wall assembly, incl. mineral wool insulation, U-value 0.18 W/m2K, 200 mm')\n",
      "('Rammed concrete piling foundation for hard soils (15m)', 'In-situ concrete column', 'Timber frame external wall assembly, incl. mineral wool insulation, U-value 0.18 W/m2K, 320 mm')\n",
      "('Rammed concrete piling foundation for hard soils (15m)', 'In-situ concrete column', 'Timber Frame Cavity Wall & Service Void, U-value 0.22, (Part L 2016)')\n",
      "('Rammed concrete piling foundation for hard soils (15m)', 'In-situ concrete column', 'Steel sandwich element external wall assembly, incl. mineral wool insulation, U-value 0.18 W/m2K, 200 mm')\n",
      "('Rammed concrete piling foundation for hard soils (15m)', 'Timber column - for timber frame buildings', 'Timber frame external wall assembly, incl. mineral wool insulation, U-value 0.18 W/m2K, 320 mm')\n",
      "('Rammed concrete piling foundation for hard soils (15m)', 'Timber column - for timber frame buildings', 'Timber Frame Cavity Wall & Service Void, U-value 0.22, (Part L 2016)')\n",
      "('Rammed concrete piling foundation for hard soils (15m)', 'Timber column - for timber frame buildings', 'Steel sandwich element external wall assembly, incl. mineral wool insulation, U-value 0.18 W/m2K, 200 mm')\n",
      "('Rammed concrete piling foundation for hard soils (15m)', 'Steel column', 'Timber frame external wall assembly, incl. mineral wool insulation, U-value 0.18 W/m2K, 320 mm')\n",
      "('Rammed concrete piling foundation for hard soils (15m)', 'Steel column', 'Timber Frame Cavity Wall & Service Void, U-value 0.22, (Part L 2016)')\n",
      "('Rammed concrete piling foundation for hard soils (15m)', 'Steel column', 'Steel sandwich element external wall assembly, incl. mineral wool insulation, U-value 0.18 W/m2K, 200 mm')\n",
      "('Steel core piling foundation for soft soils (25 m)', 'Reinforced wall, for concrete building', 'Timber frame external wall assembly, incl. mineral wool insulation, U-value 0.18 W/m2K, 320 mm')\n",
      "('Steel core piling foundation for soft soils (25 m)', 'Reinforced wall, for concrete building', 'Timber Frame Cavity Wall & Service Void, U-value 0.22, (Part L 2016)')\n",
      "('Steel core piling foundation for soft soils (25 m)', 'Reinforced wall, for concrete building', 'Steel sandwich element external wall assembly, incl. mineral wool insulation, U-value 0.18 W/m2K, 200 mm')\n",
      "('Steel core piling foundation for soft soils (25 m)', 'Precast concrete column', 'Timber frame external wall assembly, incl. mineral wool insulation, U-value 0.18 W/m2K, 320 mm')\n",
      "('Steel core piling foundation for soft soils (25 m)', 'Precast concrete column', 'Timber Frame Cavity Wall & Service Void, U-value 0.22, (Part L 2016)')\n",
      "('Steel core piling foundation for soft soils (25 m)', 'Precast concrete column', 'Steel sandwich element external wall assembly, incl. mineral wool insulation, U-value 0.18 W/m2K, 200 mm')\n",
      "('Steel core piling foundation for soft soils (25 m)', 'In-situ concrete column', 'Timber frame external wall assembly, incl. mineral wool insulation, U-value 0.18 W/m2K, 320 mm')\n",
      "('Steel core piling foundation for soft soils (25 m)', 'In-situ concrete column', 'Timber Frame Cavity Wall & Service Void, U-value 0.22, (Part L 2016)')\n",
      "('Steel core piling foundation for soft soils (25 m)', 'In-situ concrete column', 'Steel sandwich element external wall assembly, incl. mineral wool insulation, U-value 0.18 W/m2K, 200 mm')\n",
      "('Steel core piling foundation for soft soils (25 m)', 'Timber column - for timber frame buildings', 'Timber frame external wall assembly, incl. mineral wool insulation, U-value 0.18 W/m2K, 320 mm')\n",
      "('Steel core piling foundation for soft soils (25 m)', 'Timber column - for timber frame buildings', 'Timber Frame Cavity Wall & Service Void, U-value 0.22, (Part L 2016)')\n",
      "('Steel core piling foundation for soft soils (25 m)', 'Timber column - for timber frame buildings', 'Steel sandwich element external wall assembly, incl. mineral wool insulation, U-value 0.18 W/m2K, 200 mm')\n",
      "('Steel core piling foundation for soft soils (25 m)', 'Steel column', 'Timber frame external wall assembly, incl. mineral wool insulation, U-value 0.18 W/m2K, 320 mm')\n",
      "('Steel core piling foundation for soft soils (25 m)', 'Steel column', 'Timber Frame Cavity Wall & Service Void, U-value 0.22, (Part L 2016)')\n",
      "('Steel core piling foundation for soft soils (25 m)', 'Steel column', 'Steel sandwich element external wall assembly, incl. mineral wool insulation, U-value 0.18 W/m2K, 200 mm')\n",
      "('Steel core piling foundation for soft soils (25 m)', 'Precast concrete column', 'Timber frame external wall assembly, incl. mineral wool insulation, U-value 0.18 W/m2K, 320 mm')\n",
      "('Steel core piling foundation for soft soils (25 m)', 'Precast concrete column', 'Timber Frame Cavity Wall & Service Void, U-value 0.22, (Part L 2016)')\n",
      "('Steel core piling foundation for soft soils (25 m)', 'Precast concrete column', 'Steel sandwich element external wall assembly, incl. mineral wool insulation, U-value 0.18 W/m2K, 200 mm')\n",
      "('Steel core piling foundation for soft soils (25 m)', 'In-situ concrete column', 'Timber frame external wall assembly, incl. mineral wool insulation, U-value 0.18 W/m2K, 320 mm')\n",
      "('Steel core piling foundation for soft soils (25 m)', 'In-situ concrete column', 'Timber Frame Cavity Wall & Service Void, U-value 0.22, (Part L 2016)')\n",
      "('Steel core piling foundation for soft soils (25 m)', 'In-situ concrete column', 'Steel sandwich element external wall assembly, incl. mineral wool insulation, U-value 0.18 W/m2K, 200 mm')\n",
      "('Steel core piling foundation for soft soils (25 m)', 'Timber column - for timber frame buildings', 'Timber frame external wall assembly, incl. mineral wool insulation, U-value 0.18 W/m2K, 320 mm')\n",
      "('Steel core piling foundation for soft soils (25 m)', 'Timber column - for timber frame buildings', 'Timber Frame Cavity Wall & Service Void, U-value 0.22, (Part L 2016)')\n",
      "('Steel core piling foundation for soft soils (25 m)', 'Timber column - for timber frame buildings', 'Steel sandwich element external wall assembly, incl. mineral wool insulation, U-value 0.18 W/m2K, 200 mm')\n",
      "('Steel core piling foundation for soft soils (25 m)', 'Steel column', 'Timber frame external wall assembly, incl. mineral wool insulation, U-value 0.18 W/m2K, 320 mm')\n",
      "('Steel core piling foundation for soft soils (25 m)', 'Steel column', 'Timber Frame Cavity Wall & Service Void, U-value 0.22, (Part L 2016)')\n",
      "('Steel core piling foundation for soft soils (25 m)', 'Steel column', 'Steel sandwich element external wall assembly, incl. mineral wool insulation, U-value 0.18 W/m2K, 200 mm')\n",
      "('Rammed concrete piling foundation for soft soils (30m)', 'Reinforced wall, for concrete building', 'Timber frame external wall assembly, incl. mineral wool insulation, U-value 0.18 W/m2K, 320 mm')\n",
      "('Rammed concrete piling foundation for soft soils (30m)', 'Reinforced wall, for concrete building', 'Timber Frame Cavity Wall & Service Void, U-value 0.22, (Part L 2016)')\n",
      "('Rammed concrete piling foundation for soft soils (30m)', 'Reinforced wall, for concrete building', 'Steel sandwich element external wall assembly, incl. mineral wool insulation, U-value 0.18 W/m2K, 200 mm')\n",
      "('Rammed concrete piling foundation for soft soils (30m)', 'Precast concrete column', 'Timber frame external wall assembly, incl. mineral wool insulation, U-value 0.18 W/m2K, 320 mm')\n",
      "('Rammed concrete piling foundation for soft soils (30m)', 'Precast concrete column', 'Timber Frame Cavity Wall & Service Void, U-value 0.22, (Part L 2016)')\n",
      "('Rammed concrete piling foundation for soft soils (30m)', 'Precast concrete column', 'Steel sandwich element external wall assembly, incl. mineral wool insulation, U-value 0.18 W/m2K, 200 mm')\n",
      "('Rammed concrete piling foundation for soft soils (30m)', 'In-situ concrete column', 'Timber frame external wall assembly, incl. mineral wool insulation, U-value 0.18 W/m2K, 320 mm')\n",
      "('Rammed concrete piling foundation for soft soils (30m)', 'In-situ concrete column', 'Timber Frame Cavity Wall & Service Void, U-value 0.22, (Part L 2016)')\n",
      "('Rammed concrete piling foundation for soft soils (30m)', 'In-situ concrete column', 'Steel sandwich element external wall assembly, incl. mineral wool insulation, U-value 0.18 W/m2K, 200 mm')\n",
      "('Rammed concrete piling foundation for soft soils (30m)', 'Timber column - for timber frame buildings', 'Timber frame external wall assembly, incl. mineral wool insulation, U-value 0.18 W/m2K, 320 mm')\n",
      "('Rammed concrete piling foundation for soft soils (30m)', 'Timber column - for timber frame buildings', 'Timber Frame Cavity Wall & Service Void, U-value 0.22, (Part L 2016)')\n",
      "('Rammed concrete piling foundation for soft soils (30m)', 'Timber column - for timber frame buildings', 'Steel sandwich element external wall assembly, incl. mineral wool insulation, U-value 0.18 W/m2K, 200 mm')\n",
      "('Rammed concrete piling foundation for soft soils (30m)', 'Steel column', 'Timber frame external wall assembly, incl. mineral wool insulation, U-value 0.18 W/m2K, 320 mm')\n",
      "('Rammed concrete piling foundation for soft soils (30m)', 'Steel column', 'Timber Frame Cavity Wall & Service Void, U-value 0.22, (Part L 2016)')\n",
      "('Rammed concrete piling foundation for soft soils (30m)', 'Steel column', 'Steel sandwich element external wall assembly, incl. mineral wool insulation, U-value 0.18 W/m2K, 200 mm')\n",
      "('Rammed concrete piling foundation for soft soils (30m)', 'Precast concrete column', 'Timber frame external wall assembly, incl. mineral wool insulation, U-value 0.18 W/m2K, 320 mm')\n",
      "('Rammed concrete piling foundation for soft soils (30m)', 'Precast concrete column', 'Timber Frame Cavity Wall & Service Void, U-value 0.22, (Part L 2016)')\n",
      "('Rammed concrete piling foundation for soft soils (30m)', 'Precast concrete column', 'Steel sandwich element external wall assembly, incl. mineral wool insulation, U-value 0.18 W/m2K, 200 mm')\n",
      "('Rammed concrete piling foundation for soft soils (30m)', 'In-situ concrete column', 'Timber frame external wall assembly, incl. mineral wool insulation, U-value 0.18 W/m2K, 320 mm')\n",
      "('Rammed concrete piling foundation for soft soils (30m)', 'In-situ concrete column', 'Timber Frame Cavity Wall & Service Void, U-value 0.22, (Part L 2016)')\n",
      "('Rammed concrete piling foundation for soft soils (30m)', 'In-situ concrete column', 'Steel sandwich element external wall assembly, incl. mineral wool insulation, U-value 0.18 W/m2K, 200 mm')\n",
      "('Rammed concrete piling foundation for soft soils (30m)', 'Timber column - for timber frame buildings', 'Timber frame external wall assembly, incl. mineral wool insulation, U-value 0.18 W/m2K, 320 mm')\n",
      "('Rammed concrete piling foundation for soft soils (30m)', 'Timber column - for timber frame buildings', 'Timber Frame Cavity Wall & Service Void, U-value 0.22, (Part L 2016)')\n",
      "('Rammed concrete piling foundation for soft soils (30m)', 'Timber column - for timber frame buildings', 'Steel sandwich element external wall assembly, incl. mineral wool insulation, U-value 0.18 W/m2K, 200 mm')\n",
      "('Rammed concrete piling foundation for soft soils (30m)', 'Steel column', 'Timber frame external wall assembly, incl. mineral wool insulation, U-value 0.18 W/m2K, 320 mm')\n",
      "('Rammed concrete piling foundation for soft soils (30m)', 'Steel column', 'Timber Frame Cavity Wall & Service Void, U-value 0.22, (Part L 2016)')\n",
      "('Rammed concrete piling foundation for soft soils (30m)', 'Steel column', 'Steel sandwich element external wall assembly, incl. mineral wool insulation, U-value 0.18 W/m2K, 200 mm')\n"
     ]
    },
    {
     "data": {
      "text/plain": [
       "135"
      ]
     },
     "execution_count": 40,
     "metadata": {},
     "output_type": "execute_result"
    }
   ],
   "source": [
    "combinations = list(product(elements_foundation, elements_columns,elements_external_wall))\n",
    "for i in combinations:\n",
    "    print(i)\n",
    "    \n",
    "len(combinations)"
   ]
  }
 ],
 "metadata": {
  "kernelspec": {
   "display_name": "Python 3 (ipykernel)",
   "language": "python",
   "name": "python3"
  },
  "language_info": {
   "codemirror_mode": {
    "name": "ipython",
    "version": 3
   },
   "file_extension": ".py",
   "mimetype": "text/x-python",
   "name": "python",
   "nbconvert_exporter": "python",
   "pygments_lexer": "ipython3",
   "version": "3.11.5"
  }
 },
 "nbformat": 4,
 "nbformat_minor": 5
}
