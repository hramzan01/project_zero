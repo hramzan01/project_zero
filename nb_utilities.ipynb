{
 "cells": [
  {
   "cell_type": "markdown",
   "metadata": {},
   "source": [
    "# **Utilities DF**"
   ]
  },
  {
   "cell_type": "markdown",
   "metadata": {},
   "source": [
    "## Expected Features"
   ]
  },
  {
   "cell_type": "markdown",
   "metadata": {},
   "source": [
    "| features name | type  | description  |\n",
    "|----\t|---\t|---\n",
    "| `building` | str | example description of the feature\n",
    "| `asset` | str | example description of the feature\n",
    "| `typology` | str | example description of the feature\n",
    "| `area` | float | example description of the feature\n",
    "| `electricity_demmand` | float | example description of the feature\n",
    "| `water_demmand` | float | example description of the feature\n",
    "| `waste_flow` | float | example description of the feature\n",
    "\n",
    "the dataframe is amplified by the specailist dataset: `ext_seattle`\\\n",
    "this module should use machine learning models to predict power and water demmand for various building typologies"
   ]
  },
  {
   "cell_type": "code",
   "execution_count": 1,
   "metadata": {},
   "outputs": [],
   "source": [
    "%load_ext autoreload\n",
    "%autoreload 2"
   ]
  },
  {
   "cell_type": "markdown",
   "metadata": {},
   "source": []
  },
  {
   "cell_type": "code",
   "execution_count": 2,
   "metadata": {},
   "outputs": [],
   "source": [
    "# import modules\n",
    "import pandas as pd\n",
    "import numpy as np\n",
    "import seaborn as sns\n",
    "import matplotlib.pyplot as plot"
   ]
  },
  {
   "cell_type": "code",
   "execution_count": 3,
   "metadata": {},
   "outputs": [],
   "source": [
    "from etl.extract import ProjectZero"
   ]
  },
  {
   "cell_type": "code",
   "execution_count": 1,
   "metadata": {},
   "outputs": [
    {
     "data": {
      "text/plain": [
       "Index(['OSEBuildingID', 'DataYear', 'BuildingType', 'PrimaryPropertyType',\n",
       "       'PropertyName', 'TaxParcelIdentificationNumber', 'Location',\n",
       "       'CouncilDistrictCode', 'Neighborhood', 'YearBuilt', 'NumberofBuildings',\n",
       "       'NumberofFloors', 'PropertyGFATotal', 'PropertyGFAParking',\n",
       "       'PropertyGFABuilding(s)', 'ListOfAllPropertyUseTypes',\n",
       "       'LargestPropertyUseType', 'LargestPropertyUseTypeGFA',\n",
       "       'SecondLargestPropertyUseType', 'SecondLargestPropertyUseTypeGFA',\n",
       "       'ThirdLargestPropertyUseType', 'ThirdLargestPropertyUseTypeGFA',\n",
       "       'YearsENERGYSTARCertified', 'ENERGYSTARScore', 'SiteEUI(kBtu/sf)',\n",
       "       'SiteEUIWN(kBtu/sf)', 'SourceEUI(kBtu/sf)', 'SourceEUIWN(kBtu/sf)',\n",
       "       'SiteEnergyUse(kBtu)', 'SiteEnergyUseWN(kBtu)', 'SteamUse(kBtu)',\n",
       "       'Electricity(kWh)', 'Electricity(kBtu)', 'NaturalGas(therms)',\n",
       "       'NaturalGas(kBtu)', 'OtherFuelUse(kBtu)',\n",
       "       'GHGEmissions(MetricTonsCO2e)', 'GHGEmissionsIntensity(kgCO2e/ft2)',\n",
       "       'DefaultData', 'Comment', 'ComplianceStatus', 'Outlier',\n",
       "       '2010 Census Tracts',\n",
       "       'Seattle Police Department Micro Community Policing Plan Areas',\n",
       "       'City Council Districts', 'SPD Beats', 'Zip Codes'],\n",
       "      dtype='object')"
      ]
     },
     "execution_count": 1,
     "metadata": {},
     "output_type": "execute_result"
    }
   ],
   "source": [
    "# import projectzero data\n",
    "from etl.extract import ProjectZero\n",
    "data = ProjectZero().get_data()\n",
    "\n",
    "# view keys\n",
    "data.keys()\n",
    "\n",
    "# df_model instance\n",
    "df_model = data['hz_model'].copy()\n",
    "df_seattle = data['ext_seattle']\n",
    "df_seattle.columns"
   ]
  },
  {
   "cell_type": "code",
   "execution_count": null,
   "metadata": {},
   "outputs": [],
   "source": []
  },
  {
   "cell_type": "markdown",
   "metadata": {},
   "source": [
    "## 1. `get_electricity_demmand`"
   ]
  },
  {
   "cell_type": "markdown",
   "metadata": {},
   "source": [
    "this method should return a dataframe that has the following features:\\\n",
    "`building`, `area`, `asset`, `electricity_demmand`"
   ]
  },
  {
   "cell_type": "code",
   "execution_count": 2,
   "metadata": {},
   "outputs": [
    {
     "data": {
      "text/plain": [
       "ID          0\n",
       "Typology    0\n",
       "Area        0\n",
       "Plot        0\n",
       "Building    0\n",
       "Colour      0\n",
       "dtype: int64"
      ]
     },
     "execution_count": 2,
     "metadata": {},
     "output_type": "execute_result"
    }
   ],
   "source": [
    "df_model.isna().sum()"
   ]
  },
  {
   "cell_type": "markdown",
   "metadata": {},
   "source": [
    "## 2. `get_water_demmand`"
   ]
  },
  {
   "cell_type": "markdown",
   "metadata": {},
   "source": [
    "this method should return a dataframe that has the following features:\\\n",
    "`building`, `area`, `asset`, `potable_water_demmand`"
   ]
  },
  {
   "cell_type": "code",
   "execution_count": null,
   "metadata": {},
   "outputs": [
    {
     "data": {
      "text/plain": [
       "ID          0\n",
       "Typology    0\n",
       "Area        0\n",
       "Plot        0\n",
       "Building    0\n",
       "Colour      0\n",
       "dtype: int64"
      ]
     },
     "metadata": {},
     "output_type": "display_data"
    }
   ],
   "source": [
    "df_model.isna().sum()"
   ]
  }
 ],
 "metadata": {
  "kernelspec": {
   "display_name": "lewagon",
   "language": "python",
   "name": "python3"
  },
  "language_info": {
   "codemirror_mode": {
    "name": "ipython",
    "version": 3
   },
   "file_extension": ".py",
   "mimetype": "text/x-python",
   "name": "python",
   "nbconvert_exporter": "python",
   "pygments_lexer": "ipython3",
   "version": "3.11.5"
  }
 },
 "nbformat": 4,
 "nbformat_minor": 2
}
