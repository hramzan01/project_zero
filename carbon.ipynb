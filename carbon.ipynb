{
 "cells": [
  {
   "cell_type": "markdown",
   "metadata": {},
   "source": [
    "# **Carbon DF** "
   ]
  },
  {
   "cell_type": "markdown",
   "metadata": {},
   "source": [
    "## Expected Features"
   ]
  },
  {
   "cell_type": "markdown",
   "metadata": {},
   "source": [
    "| Features | Type | Description\n",
    "|---|---|---\n",
    "| `id` | str | unique identifier\n",
    "| `building` | str | building number\n",
    "| `area` | int | building total area\n",
    "| `configuration` | int | configuration option for materials\n",
    "| `facade_carbon` | float | embodied carbon of facade kg/m2\n",
    "| `structural_carbon` | float | embodied carbon of structure kg/m2\n",
    "| `total_carbon` | float | total mbodied carbon kg/m2 which is total of structural and facade \n"
   ]
  },
  {
   "cell_type": "markdown",
   "metadata": {},
   "source": [
    "the dataframe is amplified by the specailist dataset, it also depends on a secondary input from the user to define the material selection for each building type. Alternatively templates of material composition can be selected e.g `configuration`"
   ]
  },
  {
   "cell_type": "code",
   "execution_count": 2,
   "metadata": {},
   "outputs": [],
   "source": [
    "%load_ext autoreload\n",
    "%autoreload 2"
   ]
  },
  {
   "cell_type": "markdown",
   "metadata": {},
   "source": []
  },
  {
   "cell_type": "code",
   "execution_count": 3,
   "metadata": {},
   "outputs": [],
   "source": [
    "# import modules\n",
    "import pandas as pd\n",
    "import numpy as np\n",
    "import seaborn as sns\n",
    "import matplotlib.pyplot as plot"
   ]
  },
  {
   "cell_type": "code",
   "execution_count": 4,
   "metadata": {},
   "outputs": [],
   "source": [
    "from etl.extract import ProjectZero"
   ]
  },
  {
   "cell_type": "code",
   "execution_count": 5,
   "metadata": {},
   "outputs": [],
   "source": [
    "# import projectzero data\n",
    "from etl.extract import ProjectZero\n",
    "data = ProjectZero().get_data()\n",
    "\n",
    "# view keys\n",
    "data.keys()\n",
    "\n",
    "# df_model instance\n",
    "df_carbon = data['rshp_embodied_carbon'].copy()\n",
    "df_model = data['hz_model'].copy()"
   ]
  },
  {
   "cell_type": "code",
   "execution_count": 9,
   "metadata": {},
   "outputs": [
    {
     "data": {
      "text/plain": [
       "array(['Foundation', 'Ground slab', 'Floor Slab', 'Columns', 'Shear Wall',\n",
       "       'Beams', 'Stairs', 'External Walls', nan, 'Diagonal wind bracings',\n",
       "       'Connecting parts', 'Secondary beams'], dtype=object)"
      ]
     },
     "execution_count": 9,
     "metadata": {},
     "output_type": "execute_result"
    }
   ],
   "source": [
    "df_carbon.element_type.unique()"
   ]
  },
  {
   "cell_type": "markdown",
   "metadata": {},
   "source": [
    "## 1. `get_building_configuration`"
   ]
  },
  {
   "cell_type": "markdown",
   "metadata": {},
   "source": [
    "this method should return a dataframe that has the following features:\\\n",
    "`building`, `configuration`, `Foundation`, `Ground slab`, `Floor Slab`, `Columns`, `Shear Wall`,\n",
    "       `Beams`, `Stairs`, `External Walls`, nan, `Diagonal wind bracings`,\n",
    "       `Connecting parts`, `Secondary beams`"
   ]
  },
  {
   "cell_type": "code",
   "execution_count": 6,
   "metadata": {},
   "outputs": [
    {
     "data": {
      "text/plain": [
       "ID          0\n",
       "Typology    0\n",
       "Area        0\n",
       "Plot        0\n",
       "Building    0\n",
       "Colour      0\n",
       "dtype: int64"
      ]
     },
     "execution_count": 6,
     "metadata": {},
     "output_type": "execute_result"
    }
   ],
   "source": [
    "df_model.isna().sum()"
   ]
  },
  {
   "cell_type": "markdown",
   "metadata": {},
   "source": [
    "## 2. `get_carbon_envelope`"
   ]
  },
  {
   "cell_type": "markdown",
   "metadata": {},
   "source": [
    "this method should return a dataframe that has the following features:\\\n",
    "`building`, `facade_area`, `envelope_material`, `envelope_carbon`"
   ]
  },
  {
   "cell_type": "code",
   "execution_count": 7,
   "metadata": {},
   "outputs": [
    {
     "data": {
      "text/plain": [
       "ID          0\n",
       "Typology    0\n",
       "Area        0\n",
       "Plot        0\n",
       "Building    0\n",
       "Colour      0\n",
       "dtype: int64"
      ]
     },
     "execution_count": 7,
     "metadata": {},
     "output_type": "execute_result"
    }
   ],
   "source": [
    "df_model.isna().sum()"
   ]
  },
  {
   "cell_type": "markdown",
   "metadata": {},
   "source": [
    "## 3 `get_carbon_structure`"
   ]
  },
  {
   "cell_type": "markdown",
   "metadata": {},
   "source": [
    "this method should return a dataframe that has the following features:\\\n",
    "`building`, `area`, `structural_carbon`"
   ]
  },
  {
   "cell_type": "code",
   "execution_count": null,
   "metadata": {},
   "outputs": [
    {
     "data": {
      "text/plain": [
       "ID          0\n",
       "Typology    0\n",
       "Area        0\n",
       "Plot        0\n",
       "Building    0\n",
       "Colour      0\n",
       "dtype: int64"
      ]
     },
     "metadata": {},
     "output_type": "display_data"
    }
   ],
   "source": [
    "df_model.isna().sum()"
   ]
  },
  {
   "cell_type": "markdown",
   "metadata": {},
   "source": [
    "## 4. `get_carbon_total`"
   ]
  },
  {
   "cell_type": "markdown",
   "metadata": {},
   "source": [
    "this method should return a dataframe that has the following features:\\\n",
    "`building`, `envelope_carbon`, `structural_carbon`, `total_carbon`"
   ]
  },
  {
   "cell_type": "code",
   "execution_count": null,
   "metadata": {},
   "outputs": [
    {
     "data": {
      "text/plain": [
       "ID          0\n",
       "Typology    0\n",
       "Area        0\n",
       "Plot        0\n",
       "Building    0\n",
       "Colour      0\n",
       "dtype: int64"
      ]
     },
     "metadata": {},
     "output_type": "display_data"
    }
   ],
   "source": [
    "df_model.isna().sum()"
   ]
  }
 ],
 "metadata": {
  "kernelspec": {
   "display_name": "lewagon",
   "language": "python",
   "name": "python3"
  },
  "language_info": {
   "codemirror_mode": {
    "name": "ipython",
    "version": 3
   },
   "file_extension": ".py",
   "mimetype": "text/x-python",
   "name": "python",
   "nbconvert_exporter": "python",
   "pygments_lexer": "ipython3",
   "version": "3.10.6"
  }
 },
 "nbformat": 4,
 "nbformat_minor": 2
}
